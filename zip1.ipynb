{
 "cells": [
  {
   "cell_type": "code",
   "execution_count": null,
   "metadata": {},
   "outputs": [],
   "source": []
  },
  {
   "cell_type": "code",
   "execution_count": null,
   "metadata": {},
   "outputs": [],
   "source": []
  },
  {
   "cell_type": "code",
   "execution_count": 8,
   "metadata": {},
   "outputs": [],
   "source": [
    "import shutil, os\n",
    "import zipfile\n",
    "def zip(src_path, dest_file):\n",
    "    \"\"\"\n",
    "    src_path: ziped path\n",
    "    dest_file: \n",
    "    \"\"\"\n",
    "    with zipfile.ZipFile(dest_file, 'w') as zf:\n",
    "        rootpath = src_path\n",
    "        for (path, dir, files) in os.walk(src_path):\n",
    "            for file in files:\n",
    "                fullpath = os.path.join(path, file)\n",
    "                relpath = os.path.relpath(fullpath, rootpath);\n",
    "                zf.write(fullpath, relpath, zipfile.ZIP_DEFLATED)\n",
    "        zf.close()\n",
    "    return \"ok\""
   ]
  },
  {
   "cell_type": "code",
   "execution_count": null,
   "metadata": {},
   "outputs": [],
   "source": []
  },
  {
   "cell_type": "code",
   "execution_count": null,
   "metadata": {},
   "outputs": [],
   "source": []
  },
  {
   "cell_type": "code",
   "execution_count": 11,
   "metadata": {},
   "outputs": [],
   "source": [
    "src_path = 'C:\\\\mylab\\\\book\\\\automate_basic\\\\download\\\\2020\\\\09\\\\18'\n",
    "\n",
    "f_name='send'\n",
    "dest_file = 'C:\\\\mylab\\\\book\\\\automate_basic\\\\send_temp\\\\'+ f_name + '.zip'\n",
    "\n",
    "zip(src_path, dest_file) #src_path, dest_file"
   ]
  },
  {
   "cell_type": "code",
   "execution_count": null,
   "metadata": {},
   "outputs": [],
   "source": []
  },
  {
   "cell_type": "code",
   "execution_count": null,
   "metadata": {},
   "outputs": [],
   "source": []
  }
 ],
 "metadata": {
  "kernelspec": {
   "display_name": "book",
   "language": "python",
   "name": "book"
  },
  "language_info": {
   "codemirror_mode": {
    "name": "ipython",
    "version": 3
   },
   "file_extension": ".py",
   "mimetype": "text/x-python",
   "name": "python",
   "nbconvert_exporter": "python",
   "pygments_lexer": "ipython3",
   "version": "3.7.9"
  }
 },
 "nbformat": 4,
 "nbformat_minor": 4
}
