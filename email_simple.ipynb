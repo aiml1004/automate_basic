{
 "cells": [
  {
   "cell_type": "code",
   "execution_count": 4,
   "metadata": {},
   "outputs": [],
   "source": [
    "from email.mime.text import MIMEText\n",
    "from email.mime.multipart import MIMEMultipart\n",
    "from smtplib import SMTP_SSL\n",
    "\n",
    "SMTP_SERVER = 'smtp.gmail.com'\n",
    "SMTP_PORT=465\n",
    "SMTP_USER = 'kusung25@gmail.com'\n",
    "# 실제 비밀번호를 입력해야 합니다.\n",
    "SMTP_PASSWORD = 'uyxhytdovynrzwcy'\n",
    "\n",
    "def send_mail(emailto, subject, email_contents_path, attachment=False): #name, \n",
    "    msg = MIMEMultipart('alternative')\n",
    "\n",
    "    if attachment:\n",
    "        msg = MIMEMultipart('mixed')\n",
    "    msg['From'] = SMTP_USER\n",
    "    msg['To'] = emailto\n",
    "    #msg['CC'] = cc\n",
    "    msg['Subject'] = subject\n",
    "\n",
    "    #메일 본문 처리\n",
    "    with open(email_contents_path, encoding=\"utf-8\") as fp:\n",
    "        # Create a text/html message\n",
    "        content = MIMEText(fp.read(), 'html')\n",
    "        msg.attach(content)     \n",
    "\n",
    "    if attachment:\n",
    "        from email.mime.base import MIMEBase\n",
    "        from email import encoders\n",
    "\n",
    "        file_data = MIMEBase('application', 'octet-stream')\n",
    "        f = open(attachment,'rb')\n",
    "        file_contents = f.read()\n",
    "        file_data.set_payload(file_contents)\n",
    "        encoders.encode_base64(file_data)\n",
    "\n",
    "        from os.path import basename\n",
    "        filename = basename(attachment)\n",
    "        file_data.add_header('Content-Disposition', 'attachment', filename=filename)\n",
    "        msg.attach(file_data)\n",
    "        \n",
    "    smtp = SMTP_SSL(SMTP_SERVER, SMTP_PORT)\n",
    "    smtp.login(SMTP_USER, SMTP_PASSWORD)\n",
    "    smtp.send_message(msg)\n",
    "    smtp.close()\n",
    "    return 'ok'"
   ]
  },
  {
   "cell_type": "code",
   "execution_count": null,
   "metadata": {},
   "outputs": [],
   "source": []
  },
  {
   "cell_type": "code",
   "execution_count": 6,
   "metadata": {},
   "outputs": [],
   "source": [
    "emailfrom = \"kusung25@gmail.com\"\n",
    "emailto   = \"kusung25@naver.com\" \n",
    "subject = \"정통부 사업공모 게시판 신규게시물 송신 건\"\n",
    "email_contents_path = 'email_content.txt'\n",
    "ROOT_DIR= 'C:\\\\mylab\\\\book\\\\automate_basic' \n",
    "attachment = ROOT_DIR+'\\\\send.zip' #\"send.zip\"\n",
    "send_mail(emailto, subject, email_contents_path, attachment)"
   ]
  },
  {
   "cell_type": "code",
   "execution_count": 7,
   "metadata": {},
   "outputs": [],
   "source": []
  },
  {
   "cell_type": "code",
   "execution_count": null,
   "metadata": {},
   "outputs": [],
   "source": [
    "from email_simple import send_mail\n",
    "send_mail(emailto, subject, email_contents_path, attachment)"
   ]
  }
 ],
 "metadata": {
  "kernelspec": {
   "display_name": "book",
   "language": "python",
   "name": "book"
  },
  "language_info": {
   "codemirror_mode": {
    "name": "ipython",
    "version": 3
   },
   "file_extension": ".py",
   "mimetype": "text/x-python",
   "name": "python",
   "nbconvert_exporter": "python",
   "pygments_lexer": "ipython3",
   "version": "3.7.9"
  },
  "toc": {
   "base_numbering": 1,
   "nav_menu": {},
   "number_sections": true,
   "sideBar": true,
   "skip_h1_title": false,
   "title_cell": "Table of Contents",
   "title_sidebar": "Contents",
   "toc_cell": false,
   "toc_position": {},
   "toc_section_display": true,
   "toc_window_display": true
  }
 },
 "nbformat": 4,
 "nbformat_minor": 4
}
