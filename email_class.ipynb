{
 "cells": [
  {
   "cell_type": "code",
   "execution_count": null,
   "metadata": {},
   "outputs": [],
   "source": [
    "#https://mkblog.co.kr/2019/01/19/python-sending-email-using-gamil-id/"
   ]
  },
  {
   "cell_type": "code",
   "execution_count": 3,
   "metadata": {},
   "outputs": [],
   "source": [
    "import smtplib\n",
    "from email.mime.text import MIMEText"
   ]
  },
  {
   "cell_type": "code",
   "execution_count": 4,
   "metadata": {},
   "outputs": [],
   "source": [
    "def sendMail(me, you, msg):\n",
    "    smtp = smtplib.SMTP_SSL('smtp.gmail.com', 465)\n",
    "    smtp.login(me, 'uyxhytdovynrzwcy')\n",
    "    msg = MIMEText(msg)\n",
    "    msg['Subject'] = 'TEST'\n",
    "    smtp.sendmail(me, you, msg.as_string())\n",
    "    smtp.quit()"
   ]
  },
  {
   "cell_type": "code",
   "execution_count": 5,
   "metadata": {},
   "outputs": [],
   "source": [
    "sendMail('kusung25@gmail.com', 'kusung25@naver.com', '메일보내기')"
   ]
  },
  {
   "cell_type": "code",
   "execution_count": null,
   "metadata": {},
   "outputs": [],
   "source": []
  },
  {
   "cell_type": "code",
   "execution_count": 6,
   "metadata": {},
   "outputs": [],
   "source": [
    "import smtplib\n",
    "import mimetypes\n",
    "from email.mime.multipart import MIMEMultipart\n",
    "from email import encoders\n",
    "# from email.message import Message\n",
    "# from email.mime.audio import MIMEAudio\n",
    "from email.mime.base import MIMEBase\n",
    "from email.mime.image import MIMEImage\n",
    "from email.mime.text import MIMEText\n",
    "from email.header import Header\n",
    "import os\n",
    "\n",
    "class MailManager:\n",
    "    '''\n",
    "    This class is used to send mail\n",
    "    '''\n",
    "    def __init__(self, emailfrom, emailto, subject, email_contents_path): #, logger=None        \n",
    "        msg = MIMEMultipart()\n",
    "        msg[\"From\"]    = emailfrom\n",
    "        msg['To']      = emailto\n",
    "        msg['Subject'] = Header(subject,'utf-8') # 제목 인코딩\n",
    "        msg.preamble   = \"\" #preamble #값을 넣지 말고 빈스트링으로 넘겨야 에러 안남\n",
    "        #메일 본문 처리\n",
    "        with open(email_contents_path, encoding=\"utf-8\") as fp:\n",
    "            # Create a text/html message\n",
    "            content = MIMEText(fp.read(), 'html')\n",
    "            #content = MIMEText(fp.read(), 'plain')            \n",
    "            msg.attach(content)          \n",
    "        self.msg = msg\n",
    "        #self.logger = logger\n",
    "    \n",
    "    def attach_file(self, fileToSend):\n",
    "        ctype, encoding = mimetypes.guess_type(fileToSend)\n",
    "        if ctype is None or encoding is not None:\n",
    "            ctype = \"application/octet-stream\"\n",
    "        maintype, subtype = ctype.split(\"/\", 1)\n",
    "\n",
    "        if maintype == \"text\":\n",
    "            fp = open(fileToSend)\n",
    "            # Note: we should handle calculating the charset\n",
    "            attachment = MIMEText(fp.read(), _subtype=subtype)\n",
    "            fp.close()\n",
    "        elif maintype == \"image\":\n",
    "            fp = open(fileToSend, \"rb\")\n",
    "            attachment = MIMEImage(fp.read(), _subtype=subtype)\n",
    "            fp.close()\n",
    "        else:\n",
    "            fp = open(fileToSend, \"rb\")\n",
    "            attachment = MIMEBase(maintype, subtype)\n",
    "            attachment.set_payload(fp.read())\n",
    "            fp.close()\n",
    "            encoders.encode_base64(attachment)\n",
    "        \n",
    "        basename = os.path.basename(fileToSend)\n",
    "        attachment.add_header(\"Content-Disposition\", \"attachment\", filename=basename)\n",
    "        self.msg.attach(attachment)\n",
    "        return 'ok'\n",
    "    def send_mail(self, fileToSend):\n",
    "        self.attach_file(fileToSend)\n",
    "        smtp = smtplib.SMTP_SSL('smtp.gmail.com', 465)\n",
    "        me='kusung25@gmail.com'\n",
    "        smtp.login(me, 'uyxhytdovynrzwcy')\n",
    "        smtp.send_message(self.msg)\n",
    "        smtp.quit()\n",
    "        return 'ok'"
   ]
  },
  {
   "cell_type": "code",
   "execution_count": null,
   "metadata": {},
   "outputs": [],
   "source": []
  },
  {
   "cell_type": "code",
   "execution_count": 7,
   "metadata": {},
   "outputs": [
    {
     "data": {
      "text/plain": [
       "'ok'"
      ]
     },
     "execution_count": 7,
     "metadata": {},
     "output_type": "execute_result"
    }
   ],
   "source": [
    "emailfrom = \"kusung25@gmail.com\"\n",
    "emailto   = \"kusung25@naver.com\" \n",
    "subject = \"결과 송신 건\"\n",
    "email_contents_path = 'email_content.txt'\n",
    "mm = MailManager(emailfrom, emailto, subject, email_contents_path)\n",
    "ROOT_DIR= 'C:\\\\mylab\\\\book\\\\automate_basic' \n",
    "fileToSend = ROOT_DIR+'\\\\send.zip' #\"send.zip\"\n",
    "mm.send_mail(fileToSend)"
   ]
  },
  {
   "cell_type": "code",
   "execution_count": null,
   "metadata": {},
   "outputs": [],
   "source": []
  }
 ],
 "metadata": {
  "kernelspec": {
   "display_name": "book",
   "language": "python",
   "name": "book"
  },
  "language_info": {
   "codemirror_mode": {
    "name": "ipython",
    "version": 3
   },
   "file_extension": ".py",
   "mimetype": "text/x-python",
   "name": "python",
   "nbconvert_exporter": "python",
   "pygments_lexer": "ipython3",
   "version": "3.7.9"
  }
 },
 "nbformat": 4,
 "nbformat_minor": 4
}
