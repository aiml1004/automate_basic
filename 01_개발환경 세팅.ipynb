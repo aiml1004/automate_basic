{
 "cells": [
  {
   "cell_type": "code",
   "execution_count": null,
   "metadata": {},
   "outputs": [],
   "source": [
    "유대리님 개발환경을 세팅해보시죠.\n"
   ]
  },
  {
   "cell_type": "markdown",
   "metadata": {},
   "source": [
    "### download miniconda "
   ]
  },
  {
   "cell_type": "raw",
   "metadata": {},
   "source": [
    "docs.conda.io › latest › user-guide › install › download\n",
    "Downloading conda — conda 4.8.4.post67+10953ebc ...\n",
    "Downloading conda¶. Anaconda or Miniconda? Choosing a version of Anaconda or Miniconda. GUI versus command line installer."
   ]
  },
  {
   "cell_type": "markdown",
   "metadata": {},
   "source": [
    "## 미니콘다 설치\n",
    "download miniconda  \n",
    "https://docs.conda.io/en/latest/miniconda.html  \n",
    "\n",
    "install miniconda in windows10"
   ]
  },
  {
   "cell_type": "code",
   "execution_count": null,
   "metadata": {},
   "outputs": [],
   "source": [
    "# 윈도우10을 기준으로 설치방법을 설명한다"
   ]
  },
  {
   "cell_type": "markdown",
   "metadata": {},
   "source": [
    "아래 사이트가 한글이고 잘 되어 있습니다. 그런데 복사가 안된다. 설명을 위한 이미지가 좋은 편    \n",
    "[미니콘다 설치](https://m.blog.naver.com/nieah914/221475996860)    "
   ]
  },
  {
   "cell_type": "raw",
   "metadata": {},
   "source": [
    "#conda 공식 설치 가이드\n",
    "https://docs.conda.io/projects/conda/en/latest/user-guide/install/windows.html\n",
    "\n",
    "start /wait \"\" Miniconda3-latest-Windows-x86_64.exe /InstallationType=JustMe /AddToPath=0 /RegisterPython=0 /S /D=%UserProfile%\\Miniconda3"
   ]
  },
  {
   "cell_type": "code",
   "execution_count": null,
   "metadata": {},
   "outputs": [],
   "source": [
    "# 그림은 안좋은데, 설명 내용이 좋다. 복사가 된다\n",
    "# https://greeksharifa.github.io/references/2019/02/01/Miniconda-usage/"
   ]
  },
  {
   "cell_type": "code",
   "execution_count": null,
   "metadata": {},
   "outputs": [],
   "source": [
    "# 간단한 사용법이 좋다\n",
    "# https://ychae-leah.tistory.com/77"
   ]
  },
  {
   "cell_type": "markdown",
   "metadata": {},
   "source": [
    "## PATH 등록은 skip"
   ]
  },
  {
   "cell_type": "raw",
   "metadata": {},
   "source": [
    "공식 설치가이드에는 PATH에 등록하라는 이야기가 없다. \n",
    "나의 경우도 PATH에 등록하지 않고 사용하고 있다."
   ]
  },
  {
   "cell_type": "code",
   "execution_count": null,
   "metadata": {},
   "outputs": [],
   "source": [
    "  "
   ]
  },
  {
   "cell_type": "markdown",
   "metadata": {},
   "source": [
    "## conda update"
   ]
  },
  {
   "cell_type": "code",
   "execution_count": 4,
   "metadata": {},
   "outputs": [],
   "source": [
    "# conda update conda"
   ]
  },
  {
   "cell_type": "code",
   "execution_count": null,
   "metadata": {},
   "outputs": [],
   "source": [
    "# python=3.7 옵션은 가상환경 생성 시 파이썬 버전을 지정한다.\n",
    "# 지정하지 않으면 conda에 기본 포함된 파이썬 버전으로 생성된다.\n",
    "conda create -n book python=3.7"
   ]
  },
  {
   "cell_type": "code",
   "execution_count": null,
   "metadata": {},
   "outputs": [],
   "source": []
  },
  {
   "cell_type": "code",
   "execution_count": null,
   "metadata": {},
   "outputs": [],
   "source": []
  },
  {
   "cell_type": "markdown",
   "metadata": {},
   "source": [
    "## jupyter lab 시작하기"
   ]
  },
  {
   "cell_type": "code",
   "execution_count": null,
   "metadata": {},
   "outputs": [],
   "source": [
    "## conda info --envs # 가상환경 목록 보기  \n",
    "## conda activate book  \n",
    "## jupyter notebook # or jupyter lab  "
   ]
  },
  {
   "cell_type": "code",
   "execution_count": null,
   "metadata": {},
   "outputs": [],
   "source": []
  },
  {
   "cell_type": "markdown",
   "metadata": {},
   "source": [
    "## jupyter_contrib_nbextensions"
   ]
  },
  {
   "cell_type": "code",
   "execution_count": null,
   "metadata": {},
   "outputs": [],
   "source": [
    "# 설치를 원하는 환경(book)을 활성화 한 후에 설치한다 \n",
    "# conda install -c conda-forge jupyter_contrib_nbextensions"
   ]
  },
  {
   "cell_type": "code",
   "execution_count": null,
   "metadata": {},
   "outputs": [],
   "source": []
  },
  {
   "cell_type": "code",
   "execution_count": null,
   "metadata": {},
   "outputs": [],
   "source": []
  },
  {
   "cell_type": "code",
   "execution_count": null,
   "metadata": {},
   "outputs": [],
   "source": []
  }
 ],
 "metadata": {
  "kernelspec": {
   "display_name": "book",
   "language": "python",
   "name": "book"
  },
  "language_info": {
   "codemirror_mode": {
    "name": "ipython",
    "version": 3
   },
   "file_extension": ".py",
   "mimetype": "text/x-python",
   "name": "python",
   "nbconvert_exporter": "python",
   "pygments_lexer": "ipython3",
   "version": "3.6.12"
  },
  "toc": {
   "base_numbering": 1,
   "nav_menu": {},
   "number_sections": true,
   "sideBar": true,
   "skip_h1_title": false,
   "title_cell": "Table of Contents",
   "title_sidebar": "Contents",
   "toc_cell": false,
   "toc_position": {
    "height": "calc(100% - 180px)",
    "left": "10px",
    "top": "150px",
    "width": "235.2px"
   },
   "toc_section_display": true,
   "toc_window_display": true
  }
 },
 "nbformat": 4,
 "nbformat_minor": 4
}
