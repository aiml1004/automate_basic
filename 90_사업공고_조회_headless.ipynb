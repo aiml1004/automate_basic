{
 "cells": [
  {
   "cell_type": "markdown",
   "metadata": {},
   "source": [
    "<!--BOOK_INFORMATION-->\n",
    "<img align=\"left\" style=\"padding-right:10px;\" src=\"figures/PDSH-cover-small.png\">\n",
    "\n",
    "*This notebook contains an excerpt from the [Python Business Automation Handbook](https://smartai1004.tistory.com/46?category=946283) by Smart ICT; \n",
    "the content is available [on GitHub](https://github.com/aiml1004/automate_basic).*\n",
    "\n",
    "*본 자료들을 무단 복제 , 배포하는 경우에는 저작권법 제97조의 저작재산권침해죄에 해당하여 저작권법에 의거 법적 조치에 처해질 수 있습니다.*\n",
    "*COPYRIGHT ⓒ 2020 SMART ICT ALL RIGHTS RESERVED.* \n",
    "\n",
    "*If you find this content useful, please consider supporting the work by [buying the book](https://kmong.com/gig/233618)!*"
   ]
  },
  {
   "cell_type": "markdown",
   "metadata": {},
   "source": [
    "<!--NAVIGATION-->\n",
    "< [Preface](00.00-Preface.ipynb) | [Contents](00_Index.ipynb) | [Help and Documentation in IPython](01.01-Help-And-Documentation.ipynb) >"
   ]
  },
  {
   "cell_type": "code",
   "execution_count": null,
   "metadata": {},
   "outputs": [],
   "source": [
    "# 02_사업공고_조회"
   ]
  },
  {
   "cell_type": "code",
   "execution_count": 55,
   "metadata": {},
   "outputs": [],
   "source": [
    "import pandas as pd\n",
    "from time import sleep"
   ]
  },
  {
   "cell_type": "markdown",
   "metadata": {},
   "source": [
    "## import webdriver "
   ]
  },
  {
   "cell_type": "code",
   "execution_count": 1,
   "metadata": {},
   "outputs": [],
   "source": [
    "from selenium import webdriver\n",
    "driver = webdriver.Chrome('../chromedriver')"
   ]
  },
  {
   "cell_type": "code",
   "execution_count": null,
   "metadata": {},
   "outputs": [],
   "source": []
  },
  {
   "cell_type": "markdown",
   "metadata": {},
   "source": [
    "무엇을 하고 싶은가? \n",
    "일단 게시판의 테이블을 엑셀로 저장한다."
   ]
  },
  {
   "cell_type": "markdown",
   "metadata": {},
   "source": [
    "### 과학기술정보통신부 사업공고 게시판 HTML 분석"
   ]
  },
  {
   "cell_type": "code",
   "execution_count": 2,
   "metadata": {},
   "outputs": [],
   "source": [
    "# 과학기술정보통신부 사업공고 게시판 \n",
    "# 목적: 구조를 파악한다"
   ]
  },
  {
   "cell_type": "markdown",
   "metadata": {},
   "source": [
    "[과학기술정보통신부 사업공고 게시판](https://www.msit.go.kr/web/msipContents/contents.do?mId=MTAzNQ==)"
   ]
  },
  {
   "cell_type": "code",
   "execution_count": 3,
   "metadata": {},
   "outputs": [],
   "source": [
    "#C:/mylab/book/web_automation\n",
    "driver.get('https://www.msit.go.kr/web/msipContents/contents.do?mId=MTAzNQ==') # 이 URL은 어떻게 알게 되었는가?"
   ]
  },
  {
   "cell_type": "code",
   "execution_count": null,
   "metadata": {},
   "outputs": [],
   "source": []
  },
  {
   "cell_type": "markdown",
   "metadata": {},
   "source": [
    "## 게시판 테이블을 가져오려면?"
   ]
  },
  {
   "cell_type": "raw",
   "metadata": {},
   "source": [
    "# 게시판의 구조\n",
    "<div class=\"board_list\">\n",
    "    <div class=\"toggle\">\n",
    "        <a href=\"/web/msipContents/contentsView.do?cateId=_tstb17&amp;artId=3103448\">\n",
    "            <span class=\"num\">1071</span>\n",
    "            <span class=\"txt\">\n",
    "                <span class=\"title\">\n",
    "                  2020년도 미래국방혁신기술개발사업 신규과제 선정결과 공고</span>\n",
    "                <span class=\"meta\">\n",
    "                    <span class=\"tit\">부서</span>\n",
    "                    <span class=\"con\">공공기술기반팀 : 허대성</span>\n",
    "                    <span class=\"tit\">연락처</span>\n",
    "                    <span class=\"con\"> 044-202-4639</span>\n",
    "                </span>\n",
    "            </span>        "
   ]
  },
  {
   "cell_type": "code",
   "execution_count": null,
   "metadata": {},
   "outputs": [],
   "source": [
    "# driver.find_element_by_class_name?"
   ]
  },
  {
   "cell_type": "code",
   "execution_count": 4,
   "metadata": {},
   "outputs": [],
   "source": [
    "elem = driver.find_element_by_class_name('board_list')"
   ]
  },
  {
   "cell_type": "code",
   "execution_count": 5,
   "metadata": {},
   "outputs": [],
   "source": [
    "a_tag_list = elem.find_elements_by_tag_name('a')"
   ]
  },
  {
   "cell_type": "code",
   "execution_count": 6,
   "metadata": {},
   "outputs": [
    {
     "data": {
      "text/plain": [
       "'1071\\n2020년도 미래국방혁신기술개발사업 신규과제 선정결과 공고\\n부서 공공기술기반팀 : 허대성 연락처 044-202-4639\\n첨부파일 2020.09.18.'"
      ]
     },
     "execution_count": 6,
     "metadata": {},
     "output_type": "execute_result"
    }
   ],
   "source": [
    "a_tag_list[0].text"
   ]
  },
  {
   "cell_type": "code",
   "execution_count": null,
   "metadata": {},
   "outputs": [],
   "source": []
  },
  {
   "cell_type": "code",
   "execution_count": 7,
   "metadata": {},
   "outputs": [
    {
     "data": {
      "text/plain": [
       "'1071'"
      ]
     },
     "execution_count": 7,
     "metadata": {},
     "output_type": "execute_result"
    }
   ],
   "source": [
    "ss= a_tag_list[0].find_element_by_class_name('num')\n",
    "ss.text"
   ]
  },
  {
   "cell_type": "code",
   "execution_count": 8,
   "metadata": {},
   "outputs": [
    {
     "data": {
      "text/plain": [
       "'2020년도 미래국방혁신기술개발사업 신규과제 선정결과 공고'"
      ]
     },
     "execution_count": 8,
     "metadata": {},
     "output_type": "execute_result"
    }
   ],
   "source": [
    "ss= a_tag_list[0].find_element_by_class_name('title')\n",
    "ss.text"
   ]
  },
  {
   "cell_type": "markdown",
   "metadata": {},
   "source": [
    "### 부서와 연락처를 추출"
   ]
  },
  {
   "cell_type": "code",
   "execution_count": 9,
   "metadata": {},
   "outputs": [],
   "source": [
    "# 문제점: class 이름이 con으로 동일하다"
   ]
  },
  {
   "cell_type": "raw",
   "metadata": {},
   "source": [
    "# HTML 소스코드 중 발췌\n",
    "<span class=\"meta\">\n",
    "    <span class=\"tit\">부서</span>\n",
    "    <span class=\"con\">공공기술기반팀 : 허대성</span>\n",
    "    <span class=\"tit\">연락처</span>\n",
    "    <span class=\"con\"> 044-202-4639</span>\n",
    "</span>"
   ]
  },
  {
   "cell_type": "code",
   "execution_count": null,
   "metadata": {},
   "outputs": [],
   "source": []
  },
  {
   "cell_type": "code",
   "execution_count": 10,
   "metadata": {},
   "outputs": [
    {
     "data": {
      "text/plain": [
       "'공공기술기반팀 : 허대성'"
      ]
     },
     "execution_count": 10,
     "metadata": {},
     "output_type": "execute_result"
    }
   ],
   "source": [
    "ss= a_tag_list[0].find_element_by_class_name('con')\n",
    "ss.text"
   ]
  },
  {
   "cell_type": "code",
   "execution_count": 11,
   "metadata": {},
   "outputs": [
    {
     "data": {
      "text/plain": [
       "'공공기술기반팀 : 허대성'"
      ]
     },
     "execution_count": 11,
     "metadata": {},
     "output_type": "execute_result"
    }
   ],
   "source": [
    "ss= a_tag_list[0].find_elements_by_class_name('con')\n",
    "ss[0].text"
   ]
  },
  {
   "cell_type": "code",
   "execution_count": 12,
   "metadata": {},
   "outputs": [
    {
     "data": {
      "text/plain": [
       "'044-202-4639'"
      ]
     },
     "execution_count": 12,
     "metadata": {},
     "output_type": "execute_result"
    }
   ],
   "source": [
    "ss[1].text"
   ]
  },
  {
   "cell_type": "code",
   "execution_count": null,
   "metadata": {},
   "outputs": [],
   "source": []
  },
  {
   "cell_type": "code",
   "execution_count": 13,
   "metadata": {},
   "outputs": [
    {
     "data": {
      "text/plain": [
       "'2020.09.18.'"
      ]
     },
     "execution_count": 13,
     "metadata": {},
     "output_type": "execute_result"
    }
   ],
   "source": [
    "ss= a_tag_list[0].find_element_by_class_name('date')\n",
    "ss.text"
   ]
  },
  {
   "cell_type": "code",
   "execution_count": 15,
   "metadata": {},
   "outputs": [],
   "source": [
    "rows = []"
   ]
  },
  {
   "cell_type": "code",
   "execution_count": 16,
   "metadata": {},
   "outputs": [
    {
     "name": "stdout",
     "output_type": "stream",
     "text": [
      "('1071', '2020년도 미래국방혁신기술개발사업 신규과제 선정결과 공고', '공공기술기반팀 : 허대성', '044-202-4639', '2020.09.18.', 'https://www.msit.go.kr/web/msipContents/contentsView.do?cateId=_tstb17&artId=3103448')\n",
      "('1070', '2020년도 기초연구실지원(기초연구 정책분야) 신규과제 공모', '기초연구진흥과 : 오늘', '044-202-4538', '2020.09.10.', 'https://www.msit.go.kr/web/msipContents/contentsView.do?cateId=_tstb17&artId=3088961')\n",
      "('1069', '2020년도 과학기술정보통신부 비대면 기업홍보 지원사업(언택트 IR) 통합공고', '정보통신산업기반과 : 신유진', '044-202-6245', '2020.09.10.', 'https://www.msit.go.kr/web/msipContents/contentsView.do?cateId=_tstb17&artId=3088727')\n",
      "('1068', '2020년도 제4차 국민생활안전 긴급대응연구사업 신규과제 재공모', '공공기술기반팀 : 허대성', '044-202-4639', '2020.09.10.', 'https://www.msit.go.kr/web/msipContents/contentsView.do?cateId=_tstb17&artId=3088726')\n",
      "('1067', '2020년도 재난안전플랫폼기술개발사업 신규과제 선정결과 공고', '공공기술기반팀 : 허대성', '044-202-4639', '2020.09.07.', 'https://www.msit.go.kr/web/msipContents/contentsView.do?cateId=_tstb17&artId=3081711')\n",
      "('1066', '2020년도 국민생활안전 긴급대응연구사업 신규과제 선정결과 공고', '공공기술기반팀 : 허대성', '044-202-4639', '2020.09.07.', 'https://www.msit.go.kr/web/msipContents/contentsView.do?cateId=_tstb17&artId=3081710')\n",
      "('1065', '2020년도 제2차 해외고급과학자초빙사업 Plus (Brain Pool+) 연장공고', '미래인재양성과 : 양성녀', '044-202-4836', '2020.09.01.', 'https://www.msit.go.kr/web/msipContents/contentsView.do?cateId=_tstb17&artId=3067835')\n",
      "('1064', '2020년 전략형 국제공동연구사업(덴마크) 신규과제 선정결과 공고', '구주아프리카협력담당관 : 이재연', '044-202-4357', '2020.08.31.', 'https://www.msit.go.kr/web/msipContents/contentsView.do?cateId=_tstb17&artId=3065473')\n",
      "('1063', '2020년도 한-크로아티아 공동연구사업 신규과제 공모', '구주아프리카협력담당관 : 이윤소', '044-202-4355', '2020.08.27.', 'https://www.msit.go.kr/web/msipContents/contentsView.do?cateId=_tstb17&artId=3057568')\n",
      "('1062', '민군겸용기술사업 주관기관선정 공고', '공공기술기반팀 : 허대성', '044-202-4639', '2020.08.27.', 'https://www.msit.go.kr/web/msipContents/contentsView.do?cateId=_tstb17&artId=3057236')\n"
     ]
    }
   ],
   "source": [
    "for a_tag in a_tag_list:\n",
    "    #print(a_tag.text)\n",
    "    num= a_tag.find_element_by_class_name('num')\n",
    "    title= a_tag.find_element_by_class_name('title')\n",
    "    contact= a_tag.find_elements_by_class_name('con')\n",
    "    #contact[0], contact[1]\n",
    "    date= a_tag.find_element_by_class_name('date')\n",
    "    link = a_tag.get_attribute('href')\n",
    "    row = num.text, title.text, contact[0].text, contact[1].text, date.text, link\n",
    "    rows.append(row)\n",
    "    print(row)"
   ]
  },
  {
   "cell_type": "code",
   "execution_count": 17,
   "metadata": {},
   "outputs": [],
   "source": [
    "columns = ['순번', '사업명', '공고_담당자', '전화', '공고일', 'URL']"
   ]
  },
  {
   "cell_type": "code",
   "execution_count": 19,
   "metadata": {},
   "outputs": [],
   "source": [
    "df = pd.DataFrame(rows, columns=columns)"
   ]
  },
  {
   "cell_type": "code",
   "execution_count": 20,
   "metadata": {
    "scrolled": false
   },
   "outputs": [
    {
     "data": {
      "text/html": [
       "<div>\n",
       "<style scoped>\n",
       "    .dataframe tbody tr th:only-of-type {\n",
       "        vertical-align: middle;\n",
       "    }\n",
       "\n",
       "    .dataframe tbody tr th {\n",
       "        vertical-align: top;\n",
       "    }\n",
       "\n",
       "    .dataframe thead th {\n",
       "        text-align: right;\n",
       "    }\n",
       "</style>\n",
       "<table border=\"1\" class=\"dataframe\">\n",
       "  <thead>\n",
       "    <tr style=\"text-align: right;\">\n",
       "      <th></th>\n",
       "      <th>순번</th>\n",
       "      <th>사업명</th>\n",
       "      <th>공고_담당자</th>\n",
       "      <th>전화</th>\n",
       "      <th>공고일</th>\n",
       "      <th>URL</th>\n",
       "    </tr>\n",
       "  </thead>\n",
       "  <tbody>\n",
       "    <tr>\n",
       "      <th>0</th>\n",
       "      <td>1071</td>\n",
       "      <td>2020년도 미래국방혁신기술개발사업 신규과제 선정결과 공고</td>\n",
       "      <td>공공기술기반팀 : 허대성</td>\n",
       "      <td>044-202-4639</td>\n",
       "      <td>2020.09.18.</td>\n",
       "      <td>https://www.msit.go.kr/web/msipContents/conten...</td>\n",
       "    </tr>\n",
       "    <tr>\n",
       "      <th>1</th>\n",
       "      <td>1070</td>\n",
       "      <td>2020년도 기초연구실지원(기초연구 정책분야) 신규과제 공모</td>\n",
       "      <td>기초연구진흥과 : 오늘</td>\n",
       "      <td>044-202-4538</td>\n",
       "      <td>2020.09.10.</td>\n",
       "      <td>https://www.msit.go.kr/web/msipContents/conten...</td>\n",
       "    </tr>\n",
       "    <tr>\n",
       "      <th>2</th>\n",
       "      <td>1069</td>\n",
       "      <td>2020년도 과학기술정보통신부 비대면 기업홍보 지원사업(언택트 IR) 통합공고</td>\n",
       "      <td>정보통신산업기반과 : 신유진</td>\n",
       "      <td>044-202-6245</td>\n",
       "      <td>2020.09.10.</td>\n",
       "      <td>https://www.msit.go.kr/web/msipContents/conten...</td>\n",
       "    </tr>\n",
       "    <tr>\n",
       "      <th>3</th>\n",
       "      <td>1068</td>\n",
       "      <td>2020년도 제4차 국민생활안전 긴급대응연구사업 신규과제 재공모</td>\n",
       "      <td>공공기술기반팀 : 허대성</td>\n",
       "      <td>044-202-4639</td>\n",
       "      <td>2020.09.10.</td>\n",
       "      <td>https://www.msit.go.kr/web/msipContents/conten...</td>\n",
       "    </tr>\n",
       "    <tr>\n",
       "      <th>4</th>\n",
       "      <td>1067</td>\n",
       "      <td>2020년도 재난안전플랫폼기술개발사업 신규과제 선정결과 공고</td>\n",
       "      <td>공공기술기반팀 : 허대성</td>\n",
       "      <td>044-202-4639</td>\n",
       "      <td>2020.09.07.</td>\n",
       "      <td>https://www.msit.go.kr/web/msipContents/conten...</td>\n",
       "    </tr>\n",
       "    <tr>\n",
       "      <th>5</th>\n",
       "      <td>1066</td>\n",
       "      <td>2020년도 국민생활안전 긴급대응연구사업 신규과제 선정결과 공고</td>\n",
       "      <td>공공기술기반팀 : 허대성</td>\n",
       "      <td>044-202-4639</td>\n",
       "      <td>2020.09.07.</td>\n",
       "      <td>https://www.msit.go.kr/web/msipContents/conten...</td>\n",
       "    </tr>\n",
       "    <tr>\n",
       "      <th>6</th>\n",
       "      <td>1065</td>\n",
       "      <td>2020년도 제2차 해외고급과학자초빙사업 Plus (Brain Pool+) 연장공고</td>\n",
       "      <td>미래인재양성과 : 양성녀</td>\n",
       "      <td>044-202-4836</td>\n",
       "      <td>2020.09.01.</td>\n",
       "      <td>https://www.msit.go.kr/web/msipContents/conten...</td>\n",
       "    </tr>\n",
       "    <tr>\n",
       "      <th>7</th>\n",
       "      <td>1064</td>\n",
       "      <td>2020년 전략형 국제공동연구사업(덴마크) 신규과제 선정결과 공고</td>\n",
       "      <td>구주아프리카협력담당관 : 이재연</td>\n",
       "      <td>044-202-4357</td>\n",
       "      <td>2020.08.31.</td>\n",
       "      <td>https://www.msit.go.kr/web/msipContents/conten...</td>\n",
       "    </tr>\n",
       "    <tr>\n",
       "      <th>8</th>\n",
       "      <td>1063</td>\n",
       "      <td>2020년도 한-크로아티아 공동연구사업 신규과제 공모</td>\n",
       "      <td>구주아프리카협력담당관 : 이윤소</td>\n",
       "      <td>044-202-4355</td>\n",
       "      <td>2020.08.27.</td>\n",
       "      <td>https://www.msit.go.kr/web/msipContents/conten...</td>\n",
       "    </tr>\n",
       "    <tr>\n",
       "      <th>9</th>\n",
       "      <td>1062</td>\n",
       "      <td>민군겸용기술사업 주관기관선정 공고</td>\n",
       "      <td>공공기술기반팀 : 허대성</td>\n",
       "      <td>044-202-4639</td>\n",
       "      <td>2020.08.27.</td>\n",
       "      <td>https://www.msit.go.kr/web/msipContents/conten...</td>\n",
       "    </tr>\n",
       "  </tbody>\n",
       "</table>\n",
       "</div>"
      ],
      "text/plain": [
       "     순번                                             사업명             공고_담당자  \\\n",
       "0  1071                2020년도 미래국방혁신기술개발사업 신규과제 선정결과 공고      공공기술기반팀 : 허대성   \n",
       "1  1070               2020년도 기초연구실지원(기초연구 정책분야) 신규과제 공모       기초연구진흥과 : 오늘   \n",
       "2  1069     2020년도 과학기술정보통신부 비대면 기업홍보 지원사업(언택트 IR) 통합공고    정보통신산업기반과 : 신유진   \n",
       "3  1068             2020년도 제4차 국민생활안전 긴급대응연구사업 신규과제 재공모      공공기술기반팀 : 허대성   \n",
       "4  1067               2020년도 재난안전플랫폼기술개발사업 신규과제 선정결과 공고      공공기술기반팀 : 허대성   \n",
       "5  1066             2020년도 국민생활안전 긴급대응연구사업 신규과제 선정결과 공고      공공기술기반팀 : 허대성   \n",
       "6  1065  2020년도 제2차 해외고급과학자초빙사업 Plus (Brain Pool+) 연장공고      미래인재양성과 : 양성녀   \n",
       "7  1064            2020년 전략형 국제공동연구사업(덴마크) 신규과제 선정결과 공고  구주아프리카협력담당관 : 이재연   \n",
       "8  1063                   2020년도 한-크로아티아 공동연구사업 신규과제 공모  구주아프리카협력담당관 : 이윤소   \n",
       "9  1062                              민군겸용기술사업 주관기관선정 공고      공공기술기반팀 : 허대성   \n",
       "\n",
       "             전화          공고일  \\\n",
       "0  044-202-4639  2020.09.18.   \n",
       "1  044-202-4538  2020.09.10.   \n",
       "2  044-202-6245  2020.09.10.   \n",
       "3  044-202-4639  2020.09.10.   \n",
       "4  044-202-4639  2020.09.07.   \n",
       "5  044-202-4639  2020.09.07.   \n",
       "6  044-202-4836  2020.09.01.   \n",
       "7  044-202-4357  2020.08.31.   \n",
       "8  044-202-4355  2020.08.27.   \n",
       "9  044-202-4639  2020.08.27.   \n",
       "\n",
       "                                                 URL  \n",
       "0  https://www.msit.go.kr/web/msipContents/conten...  \n",
       "1  https://www.msit.go.kr/web/msipContents/conten...  \n",
       "2  https://www.msit.go.kr/web/msipContents/conten...  \n",
       "3  https://www.msit.go.kr/web/msipContents/conten...  \n",
       "4  https://www.msit.go.kr/web/msipContents/conten...  \n",
       "5  https://www.msit.go.kr/web/msipContents/conten...  \n",
       "6  https://www.msit.go.kr/web/msipContents/conten...  \n",
       "7  https://www.msit.go.kr/web/msipContents/conten...  \n",
       "8  https://www.msit.go.kr/web/msipContents/conten...  \n",
       "9  https://www.msit.go.kr/web/msipContents/conten...  "
      ]
     },
     "execution_count": 20,
     "metadata": {},
     "output_type": "execute_result"
    }
   ],
   "source": [
    "df"
   ]
  },
  {
   "cell_type": "code",
   "execution_count": 21,
   "metadata": {},
   "outputs": [],
   "source": [
    "df.to_excel('C:\\\\mylab\\\\book\\\\lecture\\\\board_list.xlsx', encoding='cp949')"
   ]
  },
  {
   "cell_type": "code",
   "execution_count": null,
   "metadata": {},
   "outputs": [],
   "source": []
  },
  {
   "cell_type": "markdown",
   "metadata": {},
   "source": [
    "## 특정 사업공고의 첨부파일을 다운로드 한다"
   ]
  },
  {
   "cell_type": "code",
   "execution_count": 111,
   "metadata": {},
   "outputs": [],
   "source": [
    "df = pd.read_excel('C:\\\\mylab\\\\book\\\\lecture\\\\board_list.xlsx')"
   ]
  },
  {
   "cell_type": "code",
   "execution_count": 112,
   "metadata": {},
   "outputs": [
    {
     "data": {
      "text/html": [
       "<div>\n",
       "<style scoped>\n",
       "    .dataframe tbody tr th:only-of-type {\n",
       "        vertical-align: middle;\n",
       "    }\n",
       "\n",
       "    .dataframe tbody tr th {\n",
       "        vertical-align: top;\n",
       "    }\n",
       "\n",
       "    .dataframe thead th {\n",
       "        text-align: right;\n",
       "    }\n",
       "</style>\n",
       "<table border=\"1\" class=\"dataframe\">\n",
       "  <thead>\n",
       "    <tr style=\"text-align: right;\">\n",
       "      <th></th>\n",
       "      <th>순번</th>\n",
       "      <th>사업명</th>\n",
       "      <th>공고_담당자</th>\n",
       "      <th>전화</th>\n",
       "      <th>공고일</th>\n",
       "      <th>URL</th>\n",
       "    </tr>\n",
       "  </thead>\n",
       "  <tbody>\n",
       "    <tr>\n",
       "      <th>0</th>\n",
       "      <td>1068</td>\n",
       "      <td>2020년도 제4차 국민생활안전 긴급대응연구사업 신규과제 재공모</td>\n",
       "      <td>공공기술기반팀 : 허대성</td>\n",
       "      <td>044-202-4639</td>\n",
       "      <td>2020.09.10.</td>\n",
       "      <td>https://www.msit.go.kr/web/msipContents/conten...</td>\n",
       "    </tr>\n",
       "    <tr>\n",
       "      <th>1</th>\n",
       "      <td>1062</td>\n",
       "      <td>민군겸용기술사업 주관기관선정 공고</td>\n",
       "      <td>공공기술기반팀 : 허대성</td>\n",
       "      <td>044-202-4639</td>\n",
       "      <td>2020.08.27.</td>\n",
       "      <td>https://www.msit.go.kr/web/msipContents/conten...</td>\n",
       "    </tr>\n",
       "  </tbody>\n",
       "</table>\n",
       "</div>"
      ],
      "text/plain": [
       "     순번                                  사업명         공고_담당자            전화  \\\n",
       "0  1068  2020년도 제4차 국민생활안전 긴급대응연구사업 신규과제 재공모  공공기술기반팀 : 허대성  044-202-4639   \n",
       "1  1062                   민군겸용기술사업 주관기관선정 공고  공공기술기반팀 : 허대성  044-202-4639   \n",
       "\n",
       "           공고일                                                URL  \n",
       "0  2020.09.10.  https://www.msit.go.kr/web/msipContents/conten...  \n",
       "1  2020.08.27.  https://www.msit.go.kr/web/msipContents/conten...  "
      ]
     },
     "execution_count": 112,
     "metadata": {},
     "output_type": "execute_result"
    }
   ],
   "source": [
    "df"
   ]
  },
  {
   "cell_type": "code",
   "execution_count": 24,
   "metadata": {},
   "outputs": [],
   "source": [
    "# df.itertuples?"
   ]
  },
  {
   "cell_type": "code",
   "execution_count": 88,
   "metadata": {},
   "outputs": [
    {
     "data": {
      "text/html": [
       "<div>\n",
       "<style scoped>\n",
       "    .dataframe tbody tr th:only-of-type {\n",
       "        vertical-align: middle;\n",
       "    }\n",
       "\n",
       "    .dataframe tbody tr th {\n",
       "        vertical-align: top;\n",
       "    }\n",
       "\n",
       "    .dataframe thead th {\n",
       "        text-align: right;\n",
       "    }\n",
       "</style>\n",
       "<table border=\"1\" class=\"dataframe\">\n",
       "  <thead>\n",
       "    <tr style=\"text-align: right;\">\n",
       "      <th></th>\n",
       "      <th>순번</th>\n",
       "      <th>사업명</th>\n",
       "      <th>공고_담당자</th>\n",
       "      <th>전화</th>\n",
       "      <th>공고일</th>\n",
       "      <th>URL</th>\n",
       "    </tr>\n",
       "  </thead>\n",
       "  <tbody>\n",
       "    <tr>\n",
       "      <th>0</th>\n",
       "      <td>1071</td>\n",
       "      <td>2020년도 미래국방혁신기술개발사업 신규과제 선정결과 공고</td>\n",
       "      <td>공공기술기반팀 : 허대성</td>\n",
       "      <td>044-202-4639</td>\n",
       "      <td>2020.09.18.</td>\n",
       "      <td>https://www.msit.go.kr/web/msipContents/conten...</td>\n",
       "    </tr>\n",
       "    <tr>\n",
       "      <th>1</th>\n",
       "      <td>1070</td>\n",
       "      <td>2020년도 기초연구실지원(기초연구 정책분야) 신규과제 공모</td>\n",
       "      <td>기초연구진흥과 : 오늘</td>\n",
       "      <td>044-202-4538</td>\n",
       "      <td>2020.09.10.</td>\n",
       "      <td>https://www.msit.go.kr/web/msipContents/conten...</td>\n",
       "    </tr>\n",
       "    <tr>\n",
       "      <th>2</th>\n",
       "      <td>1069</td>\n",
       "      <td>2020년도 과학기술정보통신부 비대면 기업홍보 지원사업(언택트 IR) 통합공고</td>\n",
       "      <td>정보통신산업기반과 : 신유진</td>\n",
       "      <td>044-202-6245</td>\n",
       "      <td>2020.09.10.</td>\n",
       "      <td>https://www.msit.go.kr/web/msipContents/conten...</td>\n",
       "    </tr>\n",
       "    <tr>\n",
       "      <th>3</th>\n",
       "      <td>1068</td>\n",
       "      <td>2020년도 제4차 국민생활안전 긴급대응연구사업 신규과제 재공모</td>\n",
       "      <td>공공기술기반팀 : 허대성</td>\n",
       "      <td>044-202-4639</td>\n",
       "      <td>2020.09.10.</td>\n",
       "      <td>https://www.msit.go.kr/web/msipContents/conten...</td>\n",
       "    </tr>\n",
       "    <tr>\n",
       "      <th>4</th>\n",
       "      <td>1067</td>\n",
       "      <td>2020년도 재난안전플랫폼기술개발사업 신규과제 선정결과 공고</td>\n",
       "      <td>공공기술기반팀 : 허대성</td>\n",
       "      <td>044-202-4639</td>\n",
       "      <td>2020.09.07.</td>\n",
       "      <td>https://www.msit.go.kr/web/msipContents/conten...</td>\n",
       "    </tr>\n",
       "  </tbody>\n",
       "</table>\n",
       "</div>"
      ],
      "text/plain": [
       "     순번                                          사업명           공고_담당자  \\\n",
       "0  1071             2020년도 미래국방혁신기술개발사업 신규과제 선정결과 공고    공공기술기반팀 : 허대성   \n",
       "1  1070            2020년도 기초연구실지원(기초연구 정책분야) 신규과제 공모     기초연구진흥과 : 오늘   \n",
       "2  1069  2020년도 과학기술정보통신부 비대면 기업홍보 지원사업(언택트 IR) 통합공고  정보통신산업기반과 : 신유진   \n",
       "3  1068          2020년도 제4차 국민생활안전 긴급대응연구사업 신규과제 재공모    공공기술기반팀 : 허대성   \n",
       "4  1067            2020년도 재난안전플랫폼기술개발사업 신규과제 선정결과 공고    공공기술기반팀 : 허대성   \n",
       "\n",
       "             전화          공고일  \\\n",
       "0  044-202-4639  2020.09.18.   \n",
       "1  044-202-4538  2020.09.10.   \n",
       "2  044-202-6245  2020.09.10.   \n",
       "3  044-202-4639  2020.09.10.   \n",
       "4  044-202-4639  2020.09.07.   \n",
       "\n",
       "                                                 URL  \n",
       "0  https://www.msit.go.kr/web/msipContents/conten...  \n",
       "1  https://www.msit.go.kr/web/msipContents/conten...  \n",
       "2  https://www.msit.go.kr/web/msipContents/conten...  \n",
       "3  https://www.msit.go.kr/web/msipContents/conten...  \n",
       "4  https://www.msit.go.kr/web/msipContents/conten...  "
      ]
     },
     "execution_count": 88,
     "metadata": {},
     "output_type": "execute_result"
    }
   ],
   "source": [
    "df.head()"
   ]
  },
  {
   "cell_type": "code",
   "execution_count": 113,
   "metadata": {
    "scrolled": false
   },
   "outputs": [
    {
     "name": "stdout",
     "output_type": "stream",
     "text": [
      "https://www.msit.go.kr/web/msipContents/contentsView.do?cateId=_tstb17&artId=3088726\n",
      "https://www.msit.go.kr/web/msipContents/contentsView.do?cateId=_tstb17&artId=3057236\n"
     ]
    }
   ],
   "source": [
    "for row in df.itertuples(index=True):\n",
    "    print(row.URL)"
   ]
  },
  {
   "cell_type": "code",
   "execution_count": 38,
   "metadata": {
    "scrolled": true
   },
   "outputs": [
    {
     "data": {
      "text/plain": [
       "Pandas(Index=9, 순번='1062', 사업명='민군겸용기술사업 주관기관선정 공고', 공고_담당자='공공기술기반팀 : 허대성', 전화='044-202-4639', 공고일='2020.08.27.', URL='https://www.msit.go.kr/web/msipContents/contentsView.do?cateId=_tstb17&artId=3057236')"
      ]
     },
     "execution_count": 38,
     "metadata": {},
     "output_type": "execute_result"
    }
   ],
   "source": [
    "row"
   ]
  },
  {
   "cell_type": "code",
   "execution_count": 119,
   "metadata": {},
   "outputs": [
    {
     "data": {
      "text/plain": [
       "'https://www.msit.go.kr/web/msipContents/contentsView.do?cateId=_tstb17&artId=3057236'"
      ]
     },
     "execution_count": 119,
     "metadata": {},
     "output_type": "execute_result"
    }
   ],
   "source": [
    "row.URL"
   ]
  },
  {
   "cell_type": "code",
   "execution_count": 40,
   "metadata": {},
   "outputs": [
    {
     "data": {
      "text/plain": [
       "pandas.core.frame.Pandas"
      ]
     },
     "execution_count": 40,
     "metadata": {},
     "output_type": "execute_result"
    }
   ],
   "source": [
    "type(row)"
   ]
  },
  {
   "cell_type": "code",
   "execution_count": null,
   "metadata": {},
   "outputs": [],
   "source": []
  },
  {
   "cell_type": "code",
   "execution_count": 114,
   "metadata": {},
   "outputs": [],
   "source": [
    "driver.get(row.URL)"
   ]
  },
  {
   "cell_type": "code",
   "execution_count": 120,
   "metadata": {},
   "outputs": [],
   "source": [
    "elem = driver.find_element_by_class_name('down_file')"
   ]
  },
  {
   "cell_type": "code",
   "execution_count": 121,
   "metadata": {},
   "outputs": [],
   "source": [
    "a_tag_list = elem.find_elements_by_tag_name('a')"
   ]
  },
  {
   "cell_type": "code",
   "execution_count": 124,
   "metadata": {},
   "outputs": [
    {
     "name": "stdout",
     "output_type": "stream",
     "text": [
      "target\n",
      "target\n",
      "target\n",
      "target\n",
      "target\n",
      "target\n"
     ]
    }
   ],
   "source": [
    "for a_tag in a_tag_list:\n",
    "    #print(a_tag.get_attribute('onclick'))    \n",
    "    if \"filePathEncode\" in a_tag.get_attribute('onclick'):\n",
    "        print(\"target\")    "
   ]
  },
  {
   "cell_type": "code",
   "execution_count": 44,
   "metadata": {},
   "outputs": [
    {
     "data": {
      "text/plain": [
       "'다운로드'"
      ]
     },
     "execution_count": 44,
     "metadata": {},
     "output_type": "execute_result"
    }
   ],
   "source": [
    "a_tag_list[0].text"
   ]
  },
  {
   "cell_type": "code",
   "execution_count": 45,
   "metadata": {},
   "outputs": [],
   "source": [
    "a_tag = a_tag_list[0]"
   ]
  },
  {
   "cell_type": "code",
   "execution_count": 50,
   "metadata": {},
   "outputs": [
    {
     "name": "stdout",
     "output_type": "stream",
     "text": [
      "javascript:void(0);\n"
     ]
    }
   ],
   "source": [
    "my_url = a_tag.get_attribute('href')\n",
    "print(my_url)  # javascript:void(0);  원하는 url 아니다."
   ]
  },
  {
   "cell_type": "code",
   "execution_count": 52,
   "metadata": {},
   "outputs": [],
   "source": [
    "# 아래 처럼, 링크가 아닌 자바스크립트가 들어가있는 경우에는 \n",
    "# <a href = '#', onclick = 기타명령어> 테스트2 </a>\n",
    "\n",
    "# click() 명령을 하더라도  href 속성 값에 url 주소가 제대로 들어가있지 않기 때문에 해당 주소로 들어갈 수가 없습니다.\n",
    "# 이런 경우에는, onlclick 내부의 명령어가 실행되도록 해야 합니다. "
   ]
  },
  {
   "cell_type": "code",
   "execution_count": 51,
   "metadata": {},
   "outputs": [
    {
     "data": {
      "text/plain": [
       "\"filePathEncode('/cms/www/officialNews/biz/__icsFiles/afieldfile/2020/08/27/민군기술이전사업 주관기관선정 공고문_2.hwp')\""
      ]
     },
     "execution_count": 51,
     "metadata": {},
     "output_type": "execute_result"
    }
   ],
   "source": [
    "a_tag.get_attribute('onclick') #자바스크립트 가 반환된다."
   ]
  },
  {
   "cell_type": "code",
   "execution_count": 53,
   "metadata": {},
   "outputs": [],
   "source": [
    "driver.execute_script(a_tag.get_attribute('onclick'), a_tag)  #자바 명령어 실행\n",
    "sleep(1)"
   ]
  },
  {
   "cell_type": "markdown",
   "metadata": {},
   "source": [
    "### refactoring"
   ]
  },
  {
   "cell_type": "code",
   "execution_count": 78,
   "metadata": {},
   "outputs": [],
   "source": [
    "from selenium import webdriver\n",
    "# driver = webdriver.Chrome('../chromedriver')"
   ]
  },
  {
   "cell_type": "code",
   "execution_count": 80,
   "metadata": {},
   "outputs": [],
   "source": [
    "from selenium.webdriver.chrome.options import Options"
   ]
  },
  {
   "cell_type": "code",
   "execution_count": 89,
   "metadata": {},
   "outputs": [],
   "source": [
    "#https://medium.com/@moungpeter/how-to-automate-downloading-files-using-python-selenium-and-headless-chrome-9014f0cdd196\n",
    "# function to take care of downloading file\n",
    "def enable_download_headless(browser,download_dir):\n",
    "    browser.command_executor._commands[\"send_command\"] = (\"POST\", '/session/$sessionId/chromium/send_command')\n",
    "    params = {'cmd':'Page.setDownloadBehavior', 'params': {'behavior': 'allow', 'downloadPath': download_dir}}\n",
    "    browser.execute(\"send_command\", params)\n",
    "\n",
    "# change the <path_to_place_downloaded_file> to your directory where you would like to place the downloaded file\n",
    "# download_dir = \"<path_to_place_downloaded_file>\" \n",
    "download_dir = \"C:\\\\mylab\\\\book\\\\lecture\\\\download\"\n",
    "\n",
    "# instantiate a chrome options object so you can set the size and headless preference\n",
    "# some of these chrome options might be uncessary but I just used a boilerplate\n",
    "# change the <path_to_download_default_directory> to whatever your default download folder is located\n",
    "chrome_options = Options()\n",
    "chrome_options.add_argument(\"--headless\")\n",
    "chrome_options.add_argument(\"--window-size=1920x1080\")\n",
    "chrome_options.add_argument(\"--disable-notifications\")\n",
    "chrome_options.add_argument('--no-sandbox')\n",
    "chrome_options.add_argument('--verbose')\n",
    "chrome_options.add_experimental_option(\"prefs\", {\n",
    "        \"download.default_directory\": download_dir,  #\"<path_to_download_default_directory>\",\n",
    "        \"download.prompt_for_download\": False,\n",
    "        \"download.directory_upgrade\": True,\n",
    "        \"safebrowsing_for_trusted_sources_enabled\": False,\n",
    "        \"safebrowsing.enabled\": False\n",
    "})\n",
    "chrome_options.add_argument('--disable-gpu')\n",
    "chrome_options.add_argument('--disable-software-rasterizer')\n",
    "\n",
    "# initialize driver object and change the <path_to_chrome_driver> depending on your directory where your chromedriver should be\n",
    "# driver = webdriver.Chrome(chrome_options=chrome_options, executable_path=\"../chromedriver\")\n",
    "driver = webdriver.Chrome(options=chrome_options, executable_path=\"../chromedriver\")\n",
    "\n",
    "# function to handle setting up headless download\n",
    "enable_download_headless(driver, download_dir)"
   ]
  },
  {
   "cell_type": "code",
   "execution_count": null,
   "metadata": {},
   "outputs": [],
   "source": []
  },
  {
   "cell_type": "code",
   "execution_count": 90,
   "metadata": {},
   "outputs": [],
   "source": [
    "import shutil\n",
    "import os, glob"
   ]
  },
  {
   "cell_type": "code",
   "execution_count": 104,
   "metadata": {},
   "outputs": [
    {
     "data": {
      "text/plain": [
       "'C:\\\\mylab\\\\book\\\\lecture\\\\download\\\\2020\\\\08\\\\27\\\\2020년도 미래국방혁신기술개발사업 신규과제 선정결과 공고'"
      ]
     },
     "execution_count": 104,
     "metadata": {},
     "output_type": "execute_result"
    }
   ],
   "source": [
    "date=\"2020\\\\08\\\\27\"\n",
    "biz_name=\"2020년도 미래국방혁신기술개발사업 신규과제 선정결과 공고\"\n",
    "# outpath = \"./download/{date}/{biz_name}\".format(date=date, biz_name=biz_name)\n",
    "outpath = download_dir+\"\\\\{date}\\\\{biz_name}\".format(date=date, biz_name=biz_name)\n",
    "outpath"
   ]
  },
  {
   "cell_type": "code",
   "execution_count": 105,
   "metadata": {},
   "outputs": [
    {
     "data": {
      "text/plain": [
       "'C:\\\\mylab\\\\book\\\\lecture\\\\download\\\\2020년도 미래국방혁신기술개발사업 신규과제 선정결과 공고.hwp'"
      ]
     },
     "execution_count": 105,
     "metadata": {},
     "output_type": "execute_result"
    }
   ],
   "source": [
    "download_dir+'\\\\'+file"
   ]
  },
  {
   "cell_type": "code",
   "execution_count": 127,
   "metadata": {},
   "outputs": [
    {
     "data": {
      "text/plain": [
       "'C:\\\\mylab\\\\book\\\\lecture\\\\download\\\\*.*'"
      ]
     },
     "execution_count": 127,
     "metadata": {},
     "output_type": "execute_result"
    }
   ],
   "source": [
    "download_dir+\"\\\\*.*\""
   ]
  },
  {
   "cell_type": "code",
   "execution_count": 128,
   "metadata": {},
   "outputs": [],
   "source": [
    "os.chdir(download_dir)"
   ]
  },
  {
   "cell_type": "code",
   "execution_count": null,
   "metadata": {},
   "outputs": [],
   "source": [
    "glob.glob(r'c:\\mydir\\*.txt')"
   ]
  },
  {
   "cell_type": "code",
   "execution_count": 130,
   "metadata": {
    "scrolled": true
   },
   "outputs": [
    {
     "name": "stdout",
     "output_type": "stream",
     "text": [
      "C:\\mylab\\book\\lecture\\download\\민군기술이전사업 주관기관선정 공고문_2.hwp\n"
     ]
    }
   ],
   "source": [
    "# os.chdir(download_dir)\n",
    "for file in glob.glob(download_dir+\"\\\\*.*\"):\n",
    "    print(file)\n",
    "    #shutil.move(download_dir+'\\\\'+file, outpath)"
   ]
  },
  {
   "cell_type": "code",
   "execution_count": null,
   "metadata": {},
   "outputs": [],
   "source": [
    "# C:\\mylab\\book\\lecture\\download\\2020\\09\\18\\2020년도 미래국방혁신기술개발사업 신규과제 선정결과 공고\\"
   ]
  },
  {
   "cell_type": "code",
   "execution_count": 125,
   "metadata": {},
   "outputs": [
    {
     "data": {
      "text/plain": [
       "'C:\\\\mylab\\\\book\\\\lecture\\\\download'"
      ]
     },
     "execution_count": 125,
     "metadata": {},
     "output_type": "execute_result"
    }
   ],
   "source": [
    "download_dir"
   ]
  },
  {
   "cell_type": "code",
   "execution_count": 132,
   "metadata": {},
   "outputs": [
    {
     "data": {
      "text/html": [
       "<div>\n",
       "<style scoped>\n",
       "    .dataframe tbody tr th:only-of-type {\n",
       "        vertical-align: middle;\n",
       "    }\n",
       "\n",
       "    .dataframe tbody tr th {\n",
       "        vertical-align: top;\n",
       "    }\n",
       "\n",
       "    .dataframe thead th {\n",
       "        text-align: right;\n",
       "    }\n",
       "</style>\n",
       "<table border=\"1\" class=\"dataframe\">\n",
       "  <thead>\n",
       "    <tr style=\"text-align: right;\">\n",
       "      <th></th>\n",
       "      <th>순번</th>\n",
       "      <th>사업명</th>\n",
       "      <th>공고_담당자</th>\n",
       "      <th>전화</th>\n",
       "      <th>공고일</th>\n",
       "      <th>URL</th>\n",
       "    </tr>\n",
       "  </thead>\n",
       "  <tbody>\n",
       "    <tr>\n",
       "      <th>0</th>\n",
       "      <td>1068</td>\n",
       "      <td>2020년도 제4차 국민생활안전 긴급대응연구사업 신규과제 재공모</td>\n",
       "      <td>공공기술기반팀 : 허대성</td>\n",
       "      <td>044-202-4639</td>\n",
       "      <td>2020.09.10.</td>\n",
       "      <td>https://www.msit.go.kr/web/msipContents/conten...</td>\n",
       "    </tr>\n",
       "    <tr>\n",
       "      <th>1</th>\n",
       "      <td>1062</td>\n",
       "      <td>민군겸용기술사업 주관기관선정 공고</td>\n",
       "      <td>공공기술기반팀 : 허대성</td>\n",
       "      <td>044-202-4639</td>\n",
       "      <td>2020.08.27.</td>\n",
       "      <td>https://www.msit.go.kr/web/msipContents/conten...</td>\n",
       "    </tr>\n",
       "  </tbody>\n",
       "</table>\n",
       "</div>"
      ],
      "text/plain": [
       "     순번                                  사업명         공고_담당자            전화  \\\n",
       "0  1068  2020년도 제4차 국민생활안전 긴급대응연구사업 신규과제 재공모  공공기술기반팀 : 허대성  044-202-4639   \n",
       "1  1062                   민군겸용기술사업 주관기관선정 공고  공공기술기반팀 : 허대성  044-202-4639   \n",
       "\n",
       "           공고일                                                URL  \n",
       "0  2020.09.10.  https://www.msit.go.kr/web/msipContents/conten...  \n",
       "1  2020.08.27.  https://www.msit.go.kr/web/msipContents/conten...  "
      ]
     },
     "execution_count": 132,
     "metadata": {},
     "output_type": "execute_result"
    }
   ],
   "source": [
    "df"
   ]
  },
  {
   "cell_type": "code",
   "execution_count": 134,
   "metadata": {},
   "outputs": [
    {
     "data": {
      "text/plain": [
       "'C:\\\\mylab\\\\book\\\\lecture\\\\download\\\\2020\\\\09\\\\10\\\\2020년도 제4차 국민생활안전 긴급대응연구사업 신규과제 재공모'"
      ]
     },
     "execution_count": 134,
     "metadata": {},
     "output_type": "execute_result"
    }
   ],
   "source": [
    "outpath"
   ]
  },
  {
   "cell_type": "code",
   "execution_count": 136,
   "metadata": {},
   "outputs": [
    {
     "data": {
      "text/plain": [
       "'C:\\\\mylab\\\\book\\\\lecture\\\\download\\\\(붙임1) 2020년도 제4차 국민생활안전 긴급대응연구사업 신규과제 재공모 공고문.hwp'"
      ]
     },
     "execution_count": 136,
     "metadata": {},
     "output_type": "execute_result"
    }
   ],
   "source": [
    "file"
   ]
  },
  {
   "cell_type": "code",
   "execution_count": null,
   "metadata": {},
   "outputs": [],
   "source": []
  },
  {
   "cell_type": "code",
   "execution_count": 137,
   "metadata": {
    "scrolled": false
   },
   "outputs": [],
   "source": [
    "for row in df.itertuples(index=True):\n",
    "    #print(row.URL)\n",
    "    driver.get(row.URL)\n",
    "    date = row.공고일[0:10].replace(\".\",\"\\\\\")\n",
    "    # Path to be created\n",
    "    # path = \"./download/2020/08/27/민군겸용기술사업 주관기관선정 공고3\".format()\n",
    "    outpath = download_dir+\"\\\\{date}\\\\{biz_name}\".format(date=date, biz_name=row.사업명)\n",
    "    os.makedirs(outpath, 0o777);  \n",
    "    \n",
    "    elem = driver.find_element_by_class_name('down_file')\n",
    "    a_tag_list = elem.find_elements_by_tag_name('a')  \n",
    "    for a_tag in a_tag_list:        \n",
    "        if \"filePathEncode(\" in a_tag.get_attribute('onclick'): \n",
    "            driver.execute_script(a_tag.get_attribute('onclick'), a_tag)  #자바스크립트 실행\n",
    "            sleep(5)\n",
    "    sleep(2)\n",
    "    #os.chdir(download_dir)\n",
    "    for file in glob.glob(download_dir+\"\\\\*.*\"):\n",
    "        shutil.move(file, outpath)\n",
    "    sleep(2)        "
   ]
  },
  {
   "cell_type": "code",
   "execution_count": null,
   "metadata": {},
   "outputs": [],
   "source": []
  },
  {
   "cell_type": "code",
   "execution_count": null,
   "metadata": {},
   "outputs": [],
   "source": []
  },
  {
   "cell_type": "code",
   "execution_count": 57,
   "metadata": {},
   "outputs": [
    {
     "data": {
      "text/plain": [
       "'민군겸용기술사업 주관기관선정 공고'"
      ]
     },
     "execution_count": 57,
     "metadata": {},
     "output_type": "execute_result"
    }
   ],
   "source": [
    "row.사업명"
   ]
  },
  {
   "cell_type": "code",
   "execution_count": 58,
   "metadata": {},
   "outputs": [
    {
     "data": {
      "text/plain": [
       "Pandas(Index=9, 순번='1062', 사업명='민군겸용기술사업 주관기관선정 공고', 공고_담당자='공공기술기반팀 : 허대성', 전화='044-202-4639', 공고일='2020.08.27.', URL='https://www.msit.go.kr/web/msipContents/contentsView.do?cateId=_tstb17&artId=3057236')"
      ]
     },
     "execution_count": 58,
     "metadata": {},
     "output_type": "execute_result"
    }
   ],
   "source": [
    "row"
   ]
  },
  {
   "cell_type": "code",
   "execution_count": 61,
   "metadata": {},
   "outputs": [],
   "source": [
    "import os, sys"
   ]
  },
  {
   "cell_type": "code",
   "execution_count": 75,
   "metadata": {},
   "outputs": [],
   "source": [
    "date = row.공고일[0:10].replace(\".\",\"//\")"
   ]
  },
  {
   "cell_type": "code",
   "execution_count": 76,
   "metadata": {},
   "outputs": [
    {
     "data": {
      "text/plain": [
       "'2020/08/27'"
      ]
     },
     "execution_count": 76,
     "metadata": {},
     "output_type": "execute_result"
    }
   ],
   "source": [
    "date"
   ]
  },
  {
   "cell_type": "code",
   "execution_count": 77,
   "metadata": {},
   "outputs": [
    {
     "data": {
      "text/plain": [
       "'./download/2020/08/27/민군겸용기술사업 주관기관선정 공고'"
      ]
     },
     "execution_count": 77,
     "metadata": {},
     "output_type": "execute_result"
    }
   ],
   "source": [
    "# Path to be created\n",
    "# path = \"./download/2020/08/27/민군겸용기술사업 주관기관선정 공고3\".format()\n",
    "path = \"./download/{date}/{biz_name}\".format(date=date, biz_name=row.사업명)\n",
    "path"
   ]
  },
  {
   "cell_type": "code",
   "execution_count": null,
   "metadata": {},
   "outputs": [],
   "source": [
    "os.makedirs(path, 0o777);"
   ]
  },
  {
   "cell_type": "code",
   "execution_count": 62,
   "metadata": {},
   "outputs": [],
   "source": [
    "os.makedirs?"
   ]
  },
  {
   "cell_type": "code",
   "execution_count": null,
   "metadata": {},
   "outputs": [],
   "source": []
  },
  {
   "cell_type": "code",
   "execution_count": null,
   "metadata": {},
   "outputs": [],
   "source": []
  },
  {
   "cell_type": "code",
   "execution_count": null,
   "metadata": {},
   "outputs": [],
   "source": []
  },
  {
   "cell_type": "code",
   "execution_count": null,
   "metadata": {},
   "outputs": [],
   "source": []
  },
  {
   "cell_type": "markdown",
   "metadata": {},
   "source": [
    "## driver.quit()"
   ]
  },
  {
   "cell_type": "code",
   "execution_count": 87,
   "metadata": {},
   "outputs": [],
   "source": [
    "driver.quit()"
   ]
  },
  {
   "cell_type": "code",
   "execution_count": null,
   "metadata": {},
   "outputs": [],
   "source": []
  },
  {
   "cell_type": "markdown",
   "metadata": {},
   "source": [
    "try:\n",
    "    driver.get('xxxx') # Your Website Address\n",
    "    password_box = driver.find_element_by_name('password')\n",
    "    password_box.send_keys('xxxx') #Password\n",
    "    download_button = driver.find_element_by_class_name('link_w_pass')\n",
    "    download_button.click()\n",
    "    driver.quit()\n",
    "except:\n",
    "    driver.quit()\n",
    "    print(\"Faulty URL\")"
   ]
  },
  {
   "cell_type": "code",
   "execution_count": null,
   "metadata": {},
   "outputs": [],
   "source": []
  },
  {
   "cell_type": "code",
   "execution_count": null,
   "metadata": {},
   "outputs": [],
   "source": []
  }
 ],
 "metadata": {
  "kernelspec": {
   "display_name": "book",
   "language": "python",
   "name": "book"
  },
  "language_info": {
   "codemirror_mode": {
    "name": "ipython",
    "version": 3
   },
   "file_extension": ".py",
   "mimetype": "text/x-python",
   "name": "python",
   "nbconvert_exporter": "python",
   "pygments_lexer": "ipython3",
   "version": "3.7.9"
  },
  "toc": {
   "base_numbering": 1,
   "nav_menu": {},
   "number_sections": true,
   "sideBar": true,
   "skip_h1_title": false,
   "title_cell": "Table of Contents",
   "title_sidebar": "Contents",
   "toc_cell": false,
   "toc_position": {
    "height": "calc(100% - 180px)",
    "left": "10px",
    "top": "150px",
    "width": "255px"
   },
   "toc_section_display": true,
   "toc_window_display": false
  }
 },
 "nbformat": 4,
 "nbformat_minor": 4
}
