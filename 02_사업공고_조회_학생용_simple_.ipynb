{
 "cells": [
  {
   "cell_type": "markdown",
   "metadata": {},
   "source": [
    "<!--BOOK_INFORMATION-->\n",
    "<img align=\"left\" style=\"padding-right:10px;\" src=\"figures/PDSH-cover-small.png\">\n",
    "\n",
    "*This notebook contains an excerpt from the [Python Business Automation Handbook](https://smartai1004.tistory.com/46?category=946283) by Smart ICT; \n",
    "the content is available [on GitHub](https://github.com/aiml1004/automate_basic).*\n",
    "\n",
    "*본 자료를 무단 복제, 배포하는 경우에는 저작권법 제97조의 저작재산권침해죄에 해당하여 저작권법에 의거 법적 조치에 처해질 수 있습니다.*\n",
    "*COPYRIGHT ⓒ 2020 SMART ICT ALL RIGHTS RESERVED.* \n",
    "\n",
    "*If you find this content useful, please consider supporting the work by [buying the book](https://kmong.com/gig/233618)!*"
   ]
  },
  {
   "cell_type": "markdown",
   "metadata": {},
   "source": [
    "<!--NAVIGATION-->\n",
    "< [Preface](00.00-Preface.ipynb) | [Contents](00_Index.ipynb) | [Help and Documentation in IPython](01.01-Help-And-Documentation.ipynb) >"
   ]
  },
  {
   "cell_type": "markdown",
   "metadata": {},
   "source": [
    "## 시나리오"
   ]
  },
  {
   "cell_type": "markdown",
   "metadata": {},
   "source": [
    "무엇을 하고 싶은가?  \n",
    "\n",
    "과학기술정보통신부 사업공고 게시판의 내용을 확인해 새로운 게시글이 있다면 공공영업팀장 및 팀원들께 메일을 보낸다.   \n",
    "메일은 매일 아침 8시에 자동으로 보낸다. (월~금 weekday에만 수행)  \n",
    "\n",
    "과학기술정보통신부에 접속한다.   \n",
    "사업공고 게시판의 게시글을 엑셀로 저장한다.   \n",
    "어제와 다른 새로운 게시글(사업공고)이 있는지 확인한다.   \n",
    "새로운 게시글의 첨부문서를 다운로드한다.   \n",
    "오늘 다운로드한 게시글을 엑셀로 저장한다.   \n",
    "\n",
    "영업활동에 참고하도록 영업팀장님께 메일로 보낸다.    \n",
    "* 오늘 다운로드한 게시글 엑셀   \n",
    "* 신규과제 공고문(신청요강 포함), 연구개발계획서(양식) 등 첨부파일은 사업별로 압축파일을 만든다.   "
   ]
  },
  {
   "cell_type": "markdown",
   "metadata": {},
   "source": [
    "과학기술정보통신부 홈페이지 사업공고 게시판에 가서\n",
    "\n",
    "사업공고 목록 게시판의 내용을 엑셀로 저장한다.  : 인터넷 크롤링, 파이썬 엑셀 처리\n",
    "새로운 사업공고 게시글(포스팅) 내역을 찾는다. : 엑셀 내용을 비교해 새로운 게시글 찾기\n",
    "사업공고 상세 내역 게시판에서 첨부문서를 다운로드 하여 정리한다.  : 파일처리\n",
    "매일 아침 8시에 자동으로 메일을 보낸다.  : 작업 스케줄링 자동화"
   ]
  },
  {
   "cell_type": "code",
   "execution_count": null,
   "metadata": {},
   "outputs": [],
   "source": [
    "# selenium.webdriver 모듈은 모든 WebDriver의 구현을 제공합니다. 현재 지원되는 WebDriver 구현은\n",
    "# Firefox, Chrome, IE를 지원한다.\n",
    "# 장치 드라이버는 하드웨어를 제어하기 위한 소프트웨어이다.\n",
    "# Web Driver는 웹(인터넷브라우저)을 제어하기 위한 소프트웨어이다."
   ]
  },
  {
   "cell_type": "markdown",
   "metadata": {},
   "source": [
    "## 전체 구조   \n",
    "전체 구조를 이야기 하고 강의를 시작하는 것이 좋겠다.  \n",
    "예를 이런 흐름으로 코딩을 해봅시다"
   ]
  },
  {
   "cell_type": "markdown",
   "metadata": {},
   "source": [
    "## 설치 필요 사항"
   ]
  },
  {
   "cell_type": "markdown",
   "metadata": {},
   "source": [
    "### chromedriver 다운로드 방법 가이드"
   ]
  },
  {
   "cell_type": "markdown",
   "metadata": {},
   "source": [
    "* 크롬 버전에 맞는 드라이버를 선택   \n",
    "* 크롬 버전 보는법   \n",
    "   크롬 > 더보기 > 도움말 > Chrome 정보(G)"
   ]
  },
  {
   "cell_type": "markdown",
   "metadata": {},
   "source": [
    "다운로드 방법   \n",
    "https://blog.naver.com/song_sec/221752226329"
   ]
  },
  {
   "cell_type": "markdown",
   "metadata": {},
   "source": [
    "### 크롬브라우저를 설치 하세요.  "
   ]
  },
  {
   "cell_type": "markdown",
   "metadata": {},
   "source": [
    "### 제약조건 얘기\n",
    "MS 윈도우를 기준으로 작성 했습니다. 제가 맥 사용경험이 없습니다.  \n",
    "다만 리눅스/유닉스에 경험이 있으니 유닉스를 기준으로 말씀드릴수는 있습니다.  "
   ]
  },
  {
   "cell_type": "code",
   "execution_count": null,
   "metadata": {},
   "outputs": [],
   "source": [
    "# selenium의 파일 다운로드 경로 변경하기\n",
    "# https://cozynow.tistory.com/43"
   ]
  },
  {
   "cell_type": "code",
   "execution_count": null,
   "metadata": {},
   "outputs": [],
   "source": [
    "# 02_사업공고_조회"
   ]
  },
  {
   "cell_type": "code",
   "execution_count": 1,
   "metadata": {},
   "outputs": [],
   "source": [
    "# 얘네들이 뭐하는 애들인가? @@@\n",
    "import pandas as pd\n",
    "from time import sleep\n",
    "import os, sys\n",
    "import shutil, glob, time"
   ]
  },
  {
   "cell_type": "code",
   "execution_count": 2,
   "metadata": {},
   "outputs": [],
   "source": [
    "#처음부터 아래와 같은 글로벌 변수를 아는 것은 어렵다.\n",
    "#처음에는 기냥하다가 반복이 되면 위로 올라온다"
   ]
  },
  {
   "cell_type": "markdown",
   "metadata": {},
   "source": [
    "### 글로벌 변수를 먼저 작성해놓으니 좀 뜬검없다.\n",
    "왜 글로벌 변수를 사용하나?  \n",
    "엑셀은 우리가 이 프로그램을 개발할때 사용하는 정보의 목록이다. \n",
    "귀찮아서. 손을 고생시키지 않기 위해서.."
   ]
  },
  {
   "cell_type": "code",
   "execution_count": 3,
   "metadata": {},
   "outputs": [],
   "source": [
    "BASE_DIR = 'C:\\\\mylab\\\\book\\\\automate_basic'\n",
    "BOARD_LIST_XL = BASE_DIR+'\\\\data\\\\board_list.xlsx'        # 게시판 디폴트 조회 목록\n",
    "SEND_HIST_XL  = BASE_DIR+'\\\\data\\\\mail_send_hsitory.xlsx' # 메일을 보낸 게시물 목록\n",
    "NEW_POST_LIST_XL = BASE_DIR+'\\\\data\\\\new_post_list.xlsx'  # 어제 메일을 보낸 이후 새로운 게시물 목록\n",
    "DOWNLOAD_DIR = BASE_DIR+'\\\\download'   #첨부문서 다운로드 위치. 우리가 원하는 곳에 저장하기 위한 설정"
   ]
  },
  {
   "cell_type": "code",
   "execution_count": null,
   "metadata": {},
   "outputs": [],
   "source": []
  },
  {
   "cell_type": "code",
   "execution_count": 6,
   "metadata": {},
   "outputs": [],
   "source": [
    "# import webdriver\n",
    "from selenium import webdriver\n",
    "chromedriver = \"C:\\\\mylab\\\\book\\\\chromedriver\" \n",
    "driver = webdriver.Chrome(chromedriver)"
   ]
  },
  {
   "cell_type": "code",
   "execution_count": null,
   "metadata": {},
   "outputs": [],
   "source": []
  },
  {
   "cell_type": "code",
   "execution_count": 7,
   "metadata": {},
   "outputs": [],
   "source": [
    "# 네이버로 가볼가요.\n",
    "# driver.????('https://www.naver.com/') \n",
    "\n",
    "# driver.get('https://www.naver.com/') "
   ]
  },
  {
   "cell_type": "markdown",
   "metadata": {},
   "source": [
    "[과학기술정보통신부 홈페이지](https://www.msit.go.kr/web/main/main.do)"
   ]
  },
  {
   "cell_type": "raw",
   "metadata": {},
   "source": [
    "# 과학기술정보통신부 홈페이지로 가볼가요.\n",
    "driver.get('https://www.msit.go.kr/web/main/main.do') "
   ]
  },
  {
   "cell_type": "code",
   "execution_count": null,
   "metadata": {},
   "outputs": [],
   "source": []
  },
  {
   "cell_type": "markdown",
   "metadata": {},
   "source": [
    "## 게시판 게시글을 가져오려면?"
   ]
  },
  {
   "cell_type": "markdown",
   "metadata": {},
   "source": [
    "[과학기술정보통신부 사업공고 게시판](https://www.msit.go.kr/web/msipContents/contents.do?mId=MTAzNQ==)"
   ]
  },
  {
   "cell_type": "markdown",
   "metadata": {},
   "source": [
    "### 과학기술정보통신부 사업공고 게시판 HTML 분석"
   ]
  },
  {
   "cell_type": "raw",
   "metadata": {},
   "source": [
    "'''\n",
    "1차 미션 : 사업공고목록(게시판)을 엑셀로 저장하고 싶다\n",
    "- 사업공고목록은 어떻게 생겼나? \n",
    "  > 주 관심사는 어떤 tag / class/ id 로 찾으면 전체 목록을 가져올수 있는가?\n",
    "- 전체 목록을 가져온 뒤에, 각 row들은  어떤 tag / class/ id로 찾으면 고유하게 식별할수 있는가?\n",
    "- 부록으로 xpath사용을 강의한다.\n",
    "'''"
   ]
  },
  {
   "cell_type": "code",
   "execution_count": null,
   "metadata": {},
   "outputs": [],
   "source": [
    "# 무엇을 알고자 하는가? \n",
    "\n",
    "# 과학기술정보통신부 사업공고 목록 게시판 \n",
    "# HTML 분석 목적: 어떤 tag / class로 찾으면 목록을 가져올수 있는가?"
   ]
  },
  {
   "cell_type": "code",
   "execution_count": null,
   "metadata": {},
   "outputs": [],
   "source": [
    "# 어떻게 우리가 원하는 항목을 가져올까요?\n",
    "# 게시판은 어떤식으로 반복되고 있나요? \n",
    "# tag / class는 식별하기에 적합한가요? 어떻게 적합한지 알수 있나요?"
   ]
  },
  {
   "cell_type": "code",
   "execution_count": 8,
   "metadata": {},
   "outputs": [],
   "source": [
    "driver.get('https://www.msit.go.kr/web/msipContents/contents.do?mId=MTAzNQ==') # 이 URL은 어떻게 알게 되었는가?\n",
    "# 알림> 사업공고 로 이동하니 위 url이 나오더라"
   ]
  },
  {
   "cell_type": "markdown",
   "metadata": {},
   "source": [
    "### 개발자 도구로 HTML을 분석 해보자.   \n",
    "개발자 도구를 F12를 눌러요."
   ]
  },
  {
   "cell_type": "raw",
   "metadata": {},
   "source": [
    "# 게시판의 구조\n",
    "\"\"\"\n",
    "<div class=\"board_list\">  ... 생략 ...\n",
    "    <a href=\"/web/msipContents/contentsView.do?cateId=_tstb17&amp;artId=3103448\">\n",
    "        <span class=\"num\">1071</span>\n",
    "        <span class=\"txt\">\n",
    "            <span class=\"title\">\n",
    "              2020년도 미래국방혁신기술개발사업 신규과제 선정결과 공고</span>\n",
    "            <span class=\"meta\">\n",
    "                <span class=\"tit\">부서</span>\n",
    "                <span class=\"con\">공공기술기반팀 : 허대성</span>\n",
    "                <span class=\"tit\">연락처</span>\n",
    "                <span class=\"con\"> 044-202-4639</span>\n",
    "            </span>\n",
    "        </span>   \n",
    "        <span class=\"date\">2020.09.18.</span>\n",
    "     </a>\n",
    "     <a href=\" ... 생략 ...   \n",
    "</div>   \n",
    "\"\"\""
   ]
  },
  {
   "cell_type": "code",
   "execution_count": null,
   "metadata": {},
   "outputs": [],
   "source": [
    "# driver.find_element_by_class_name?"
   ]
  },
  {
   "cell_type": "raw",
   "metadata": {},
   "source": [
    "# dir(driver)  # dir() 내장함수는 어떤 객체를 인자로 넣어주면 해당 객체가 어떤 속성(attributes, 변수)과 메소드(method)를 가지고 있는지 나열해줍니다.\n",
    "\"\"\" \n",
    " 'find_element_by_class_name',\n",
    " 'find_element_by_css_selector',\n",
    " 'find_element_by_id',\n",
    " 'find_element_by_link_text',\n",
    " 'find_element_by_name',\n",
    " 'find_element_by_partial_link_text',\n",
    " 'find_element_by_tag_name',\n",
    " 'find_element_by_xpath',\n",
    " ... 생략 ...\n",
    " 'find_elements_by_class_name',\n",
    " 'find_elements_by_css_selector',\n",
    " 'find_elements_by_id',\n",
    " 'find_elements_by_link_text',\n",
    " 'find_elements_by_name',\n",
    " 'find_elements_by_partial_link_text',\n",
    " 'find_elements_by_tag_name',\n",
    " 'find_elements_by_xpath',\n",
    "\"\"\""
   ]
  },
  {
   "cell_type": "code",
   "execution_count": null,
   "metadata": {},
   "outputs": [],
   "source": []
  },
  {
   "cell_type": "code",
   "execution_count": 9,
   "metadata": {},
   "outputs": [],
   "source": [
    "# 'board_list' class element의 모든 하위 element(내용)을 가져오고 싶어요.\n",
    "# 왜 class_name 인가?  find_element_by_class_name 어떻게 알았나요?  게시판 구조에 div class에 있었잖아요. \n",
    "#element = driver.find_??('??') \n",
    "\n",
    "element = driver.find_element_by_class_name('board_list') "
   ]
  },
  {
   "cell_type": "code",
   "execution_count": null,
   "metadata": {},
   "outputs": [],
   "source": []
  },
  {
   "cell_type": "raw",
   "metadata": {},
   "source": [
    "# element? 내용을 확인해봐요. WebElement 네요. \n",
    "element?\n",
    "\"\"\"\n",
    "Type:        WebElement\n",
    "Docstring:  \n",
    "Represents a DOM element.    \n",
    "\"\"\""
   ]
  },
  {
   "cell_type": "code",
   "execution_count": null,
   "metadata": {},
   "outputs": [],
   "source": [
    "# 어떻게 element의 내용(text)을 볼수 있을까요?\n",
    "\n",
    "# element은 text 어트리뷰트를 가지고 있을까요? \n",
    "# element에 또 다른 어떤 어트리뷰트를 이용할수 있을까요? \n",
    "\n",
    "# 이렇게 찾은 element도 웹문서는 text가 있겠죠\n",
    "# element이 WebElement 이니 text가 있겠죠.  그러면 text를 한번 확인해보죠.\n",
    "\n",
    "# dir(element) \n",
    "\"\"\"\n",
    " 'find_element_by_class_name',\n",
    " 'find_element_by_css_selector',\n",
    " ...생략,\n",
    " 'submit',\n",
    " 'tag_name',\n",
    " 'text',\n",
    " 'value_of_css_property\n",
    "\"\"\""
   ]
  },
  {
   "cell_type": "code",
   "execution_count": null,
   "metadata": {},
   "outputs": [],
   "source": []
  },
  {
   "cell_type": "code",
   "execution_count": null,
   "metadata": {},
   "outputs": [],
   "source": [
    "# 내용을 확인해봐요. 무슨 내용을 확인하나요?  .text가 있다는 것을 어떻게 알았나요?"
   ]
  },
  {
   "cell_type": "code",
   "execution_count": 11,
   "metadata": {},
   "outputs": [
    {
     "data": {
      "text/plain": [
       "'1073\\n2020년도 EU 협력진흥사업 신규과제 공모\\n부서 구주아프리카협력담당관 : 이세원 연락처 044-202-4354\\n첨부파일 2020.09.29.\\n1072\\n2020년도 하반기 한-EU 공동연구지원사업 신규과제 공모\\n부서 구주아프리카협력담당관 : 이세원 연락처 044-202-4354\\n첨부파일 2020.09.29.\\n1071\\n2020년도 제5차 국민생활안전 긴급대응연구사업 신규과제 공모\\n부서 공공기술기반팀 : 허대성 연락처 044-202-4639\\n첨부파일 2020.09.28.\\n1070\\n2020년도 미래국방혁신기술개발사업 신규과제 선정결과 공고\\n부서 공공기술기반팀 : 허대성 연락처 044-202-4639\\n첨부파일 2020.09.18.\\n1069\\n2020년도 기초연구실지원(기초연구 정책분야) 신규과제 공모\\n부서 기초연구진흥과 : 오늘 연락처 044-202-4538\\n첨부파일 2020.09.10.\\n1068\\n2020년도 과학기술정보통신부 비대면 기업홍보 지원사업(언택트 IR) 통합공고\\n부서 정보통신산업기반과 : 신유진 연락처 044-202-6245\\n첨부파일 2020.09.10.\\n1067\\n2020년도 제4차 국민생활안전 긴급대응연구사업 신규과제 재공모\\n부서 공공기술기반팀 : 허대성 연락처 044-202-4639\\n첨부파일 2020.09.10.\\n1066\\n2020년도 재난안전플랫폼기술개발사업 신규과제 선정결과 공고\\n부서 공공기술기반팀 : 허대성 연락처 044-202-4639\\n첨부파일 2020.09.07.\\n1065\\n2020년도 국민생활안전 긴급대응연구사업 신규과제 선정결과 공고\\n부서 공공기술기반팀 : 허대성 연락처 044-202-4639\\n첨부파일 2020.09.07.\\n1064\\n2020년도 제2차 해외고급과학자초빙사업 Plus (Brain Pool+) 연장공고\\n부서 미래인재양성과 : 양성녀 연락처 044-202-4836\\n첨부파일 2020.09.01.'"
      ]
     },
     "execution_count": 11,
     "metadata": {},
     "output_type": "execute_result"
    }
   ],
   "source": [
    "# 그러면 text를 한번 확인해보죠.\n",
    "# 게시판의 목록을 담고 있는 속성(변수)이 맞나요?\n",
    "\n",
    "element.text  #보통은 tab 키를 눌러 자동완성 하겠지요."
   ]
  },
  {
   "cell_type": "code",
   "execution_count": null,
   "metadata": {},
   "outputs": [],
   "source": [
    "# 한개의 row 만 보면 아래와 같네요.\n",
    "\n",
    "# 1073\\n2020년도 EU 협력진흥사업 신규과제 공모\\n부서 구주아프리카협력담당관 : 이세원 연락처 044-202-4354\\n첨부파일 2020.09.29."
   ]
  },
  {
   "cell_type": "code",
   "execution_count": null,
   "metadata": {},
   "outputs": [],
   "source": []
  },
  {
   "cell_type": "markdown",
   "metadata": {},
   "source": [
    "## 미션은 게시판 조회결과를 엑셀로 다운로드 받는 것이에요"
   ]
  },
  {
   "cell_type": "raw",
   "metadata": {},
   "source": [
    "# 게시판의 구조\n",
    "\"\"\"\n",
    "<div class=\"board_list\">  ... 생략 ...\n",
    "    <a href=\"/web/msipContents/contentsView.do?cateId=_tstb17&amp;artId=3103448\">\n",
    "        <span class=\"num\">1071</span>\n",
    "        <span class=\"txt\">\n",
    "            <span class=\"title\">\n",
    "              2020년도 미래국방혁신기술개발사업 신규과제 선정결과 공고</span>\n",
    "            <span class=\"meta\">\n",
    "                <span class=\"tit\">부서</span>\n",
    "                <span class=\"con\">공공기술기반팀 : 허대성</span>\n",
    "                <span class=\"tit\">연락처</span>\n",
    "                <span class=\"con\"> 044-202-4639</span>\n",
    "            </span>\n",
    "        </span>   \n",
    "        <span class=\"date\">2020.09.18.</span>\n",
    "     </a>\n",
    "     <a href=\" ... 생략 ...   \n",
    "</div>   \n",
    "\"\"\""
   ]
  },
  {
   "cell_type": "code",
   "execution_count": 12,
   "metadata": {},
   "outputs": [],
   "source": [
    "# 왜 a_tag 인가요?  a_tag를 여러번 반복하면서 목록을 표현하고 있기 때문에\n",
    "# Returns: - list of WebElement\n",
    "# elements가 복수형이다\n",
    "# a_tag_list = element.find_elements~~\n",
    "\n",
    "a_tag_list = element.find_elements_by_tag_name('a') "
   ]
  },
  {
   "cell_type": "code",
   "execution_count": null,
   "metadata": {},
   "outputs": [],
   "source": [
    "# 아래와 깉이 출력 해보세요\n",
    "# 게시글 수는 10개 입니다\n",
    "# print(\"게시글 수는 \" + len(a_tag_list) + \"개 입니다\")\n",
    "\n",
    "print(\"게시글 수는 \" + str(len(a_tag_list)) +\"개 입니다\")"
   ]
  },
  {
   "cell_type": "code",
   "execution_count": 14,
   "metadata": {},
   "outputs": [],
   "source": [
    "# a_tag_list도 text를 가지고 있지 않을까요?\n",
    "\n",
    "# a_tag_list.text"
   ]
  },
  {
   "cell_type": "code",
   "execution_count": 15,
   "metadata": {},
   "outputs": [
    {
     "data": {
      "text/plain": [
       "'1073\\n2020년도 EU 협력진흥사업 신규과제 공모\\n부서 구주아프리카협력담당관 : 이세원 연락처 044-202-4354\\n첨부파일 2020.09.29.'"
      ]
     },
     "execution_count": 15,
     "metadata": {},
     "output_type": "execute_result"
    }
   ],
   "source": [
    "# 첫번째 게시글 a_tag의 text를 출력 해보세요.  \n",
    "# 파이썬 리스트인덱스는 0 부터 시작한다\n",
    "# a_tag_list[?].text  \n",
    "\n",
    "a_tag_list[0].text "
   ]
  },
  {
   "cell_type": "code",
   "execution_count": null,
   "metadata": {},
   "outputs": [],
   "source": [
    "# 두번째 게시글 a_tag의 text를 출력 해보세요.  \n"
   ]
  },
  {
   "cell_type": "code",
   "execution_count": null,
   "metadata": {},
   "outputs": [],
   "source": []
  },
  {
   "cell_type": "markdown",
   "metadata": {},
   "source": [
    "## 첫번째 게시글 내용을 항목별로 출력"
   ]
  },
  {
   "cell_type": "code",
   "execution_count": 16,
   "metadata": {},
   "outputs": [],
   "source": [
    "# 타이핑하기 힘드니 a_tag_list[0]의 내용을 a_tag변수에 저장 \n",
    "a_tag = a_tag_list[0]"
   ]
  },
  {
   "cell_type": "code",
   "execution_count": 19,
   "metadata": {},
   "outputs": [
    {
     "name": "stdout",
     "output_type": "stream",
     "text": [
      "title:  2020년도 EU 협력진흥사업 신규과제 공모\n"
     ]
    }
   ],
   "source": [
    "# 게시글 제목을 출력\n",
    "# <span class=\"title\">2020년도 EU 협력진흥사업 신규과제 공모</span>\n",
    "# title= a_tag.find_element_\n",
    "\n",
    "title= a_tag.find_element_by_class_name(\"title\")\n",
    "print('title: ', title.text)"
   ]
  },
  {
   "cell_type": "code",
   "execution_count": null,
   "metadata": {},
   "outputs": [],
   "source": []
  },
  {
   "cell_type": "markdown",
   "metadata": {},
   "source": [
    "## 부서와 연락처를 추출"
   ]
  },
  {
   "cell_type": "code",
   "execution_count": null,
   "metadata": {},
   "outputs": [],
   "source": []
  },
  {
   "cell_type": "raw",
   "metadata": {},
   "source": [
    "# HTML 소스코드 중 발췌\n",
    "<span class=\"meta\">\n",
    "    ....\n",
    "    <span class=\"con\">구주아프리카협력담당관 : 이세원</span>\n",
    "    ....\n",
    "    <span class=\"con\"> 044-202-4639</span>\n",
    "</span>"
   ]
  },
  {
   "cell_type": "code",
   "execution_count": 21,
   "metadata": {},
   "outputs": [
    {
     "name": "stdout",
     "output_type": "stream",
     "text": [
      "부서_담당자:  구주아프리카협력담당관 : 이세원\n"
     ]
    }
   ],
   "source": [
    "#부서_담당자를 가져오시죠.\n",
    "#<span class=\"con\">구주아프리카협력담당관 : 이세원</span>\n",
    "#contact = a_tag.find_element???\n",
    "\n",
    "contact = a_tag.find_element_by_class_name(\"con\")\n",
    "print('부서_담당자: ', contact.text)"
   ]
  },
  {
   "cell_type": "code",
   "execution_count": 24,
   "metadata": {},
   "outputs": [
    {
     "name": "stdout",
     "output_type": "stream",
     "text": [
      "전화번호:  구주아프리카협력담당관 : 이세원\n"
     ]
    }
   ],
   "source": [
    "#전화번호를 가져오시죠.  # 문제점: span class 이름이 con으로 동일하네요. 어쩌죠? \n",
    "# 이것을 사용하면 안된다. 전화번호를 가져올수 없다.\n",
    "contact = a_tag.find_element_by_class_name(\"con\") \n",
    "print('전화번호: ', contact.text)"
   ]
  },
  {
   "cell_type": "code",
   "execution_count": null,
   "metadata": {},
   "outputs": [],
   "source": []
  },
  {
   "cell_type": "code",
   "execution_count": 25,
   "metadata": {},
   "outputs": [],
   "source": [
    "# \"con\"으로 된 모든 elements를 찾으시죠.\n",
    "# <span class=\"con\">구주아프리카협력담당관 : 이세원</span>\n",
    "# <span class=\"con\"> 044-202-4639</span>\n",
    "# 모두 찾을 때는 복수형인 메소드(elements)를 활용\n",
    "# contact_lst= a_tag.find_???\n",
    "\n",
    "contact_lst= a_tag.find_elements_by_class_name(\"con\")"
   ]
  },
  {
   "cell_type": "raw",
   "metadata": {},
   "source": [
    "contact_lst?\n",
    "\"\"\"\n",
    "Type:        list\n",
    "[<selenium.webdriver.remote.webelement.WebElement (session=\"33 .......    \"\"\""
   ]
  },
  {
   "cell_type": "code",
   "execution_count": 26,
   "metadata": {},
   "outputs": [
    {
     "data": {
      "text/plain": [
       "'구주아프리카협력담당관 : 이세원'"
      ]
     },
     "execution_count": 26,
     "metadata": {},
     "output_type": "execute_result"
    }
   ],
   "source": [
    "# contact_lst list이고 WebElement 2개를 담고 있겠죠.\n",
    "# 0번째는 담당자가 1번째는 전화번호가 저장되어 있다. \n",
    "contact_lst[0].text "
   ]
  },
  {
   "cell_type": "code",
   "execution_count": 27,
   "metadata": {},
   "outputs": [
    {
     "data": {
      "text/plain": [
       "'044-202-4354'"
      ]
     },
     "execution_count": 27,
     "metadata": {},
     "output_type": "execute_result"
    }
   ],
   "source": [
    "contact_lst[1].text"
   ]
  },
  {
   "cell_type": "code",
   "execution_count": null,
   "metadata": {},
   "outputs": [],
   "source": []
  },
  {
   "cell_type": "code",
   "execution_count": 29,
   "metadata": {},
   "outputs": [
    {
     "data": {
      "text/plain": [
       "'2020.09.29.'"
      ]
     },
     "execution_count": 29,
     "metadata": {},
     "output_type": "execute_result"
    }
   ],
   "source": [
    "# 게시일자를 출력하세요\n",
    "date= a_tag.find_element_by_class_name('date') #element 단수형\n",
    "date.text"
   ]
  },
  {
   "cell_type": "code",
   "execution_count": null,
   "metadata": {},
   "outputs": [],
   "source": [
    "# 마지막에 .이 있다. .을 제거한다.\n",
    "date.text[0:10] "
   ]
  },
  {
   "cell_type": "code",
   "execution_count": null,
   "metadata": {},
   "outputs": [],
   "source": []
  },
  {
   "cell_type": "code",
   "execution_count": null,
   "metadata": {},
   "outputs": [],
   "source": [
    "# 고유번호로 사용할 만한 것은 무엇인가? 사람의 경우는 주민번호와 같은\n",
    "# 한 개의 게시물을 고유하게 식별할 만한 것이 있는가? \n",
    "# 이것으로 어제 올라온 게시물과 비교해 새로운 게시물인지 아는데 활용한다\n",
    "# artId가 고유번호인것 같다. 만약 저런 것이 없다면 사업명으로 구분할수 밖에 없을것 같다."
   ]
  },
  {
   "cell_type": "code",
   "execution_count": 30,
   "metadata": {},
   "outputs": [
    {
     "data": {
      "text/plain": [
       "'https://www.msit.go.kr/web/msipContents/contentsView.do?cateId=_tstb17&artId=3114914'"
      ]
     },
     "execution_count": 30,
     "metadata": {},
     "output_type": "execute_result"
    }
   ],
   "source": [
    "# <a href=\"/web/msipContents/contentsView.do?cateId=_tstb17&amp;artId=3114914\">\n",
    "u = a_tag.get_attribute('href') # 키보드 치기 싫어서 짧은 변수에 담는다. 어차피 지울 거라\n",
    "u "
   ]
  },
  {
   "cell_type": "code",
   "execution_count": null,
   "metadata": {},
   "outputs": [],
   "source": [
    "# 'https://www.msit.go.kr/web/msipContents/contentsView.do?cateId=_tstb17&artId=3114914' 에서 \n",
    "# 3114914 이 번호만 추출하고 싶어요. "
   ]
  },
  {
   "cell_type": "code",
   "execution_count": null,
   "metadata": {},
   "outputs": [],
   "source": []
  },
  {
   "cell_type": "markdown",
   "metadata": {},
   "source": [
    "#### 아래 쉬운 예를 별도 파일로 빼는게 좋을까요 @@@\n",
    "문서 링크로 변경하는게 좋을 듯"
   ]
  },
  {
   "cell_type": "code",
   "execution_count": 38,
   "metadata": {},
   "outputs": [
    {
     "data": {
      "text/plain": [
       "'01'"
      ]
     },
     "execution_count": 38,
     "metadata": {},
     "output_type": "execute_result"
    }
   ],
   "source": [
    "# 먼저 간단한 예제부터 해보시죠. \n",
    "st = \"012345\""
   ]
  },
  {
   "cell_type": "code",
   "execution_count": 42,
   "metadata": {},
   "outputs": [
    {
     "data": {
      "text/plain": [
       "'01'"
      ]
     },
     "execution_count": 42,
     "metadata": {},
     "output_type": "execute_result"
    }
   ],
   "source": [
    "#\"012345\" 라는 문자열에서 \"01\" 만 추출하세요\n",
    "st[0:2]"
   ]
  },
  {
   "cell_type": "code",
   "execution_count": 44,
   "metadata": {},
   "outputs": [
    {
     "data": {
      "text/plain": [
       "'12'"
      ]
     },
     "execution_count": 44,
     "metadata": {},
     "output_type": "execute_result"
    }
   ],
   "source": [
    "#\"012345\" 라는 문자열에서 \"12\" 만 추출하세요\n",
    "st[1:3]"
   ]
  },
  {
   "cell_type": "code",
   "execution_count": 45,
   "metadata": {
    "scrolled": true
   },
   "outputs": [
    {
     "data": {
      "text/plain": [
       "'34'"
      ]
     },
     "execution_count": 45,
     "metadata": {},
     "output_type": "execute_result"
    }
   ],
   "source": [
    "#\"012345\" 라는 문자열에서 \"34\" 만 추출하세요\n",
    "st[3:5]"
   ]
  },
  {
   "cell_type": "code",
   "execution_count": null,
   "metadata": {},
   "outputs": [],
   "source": []
  },
  {
   "cell_type": "code",
   "execution_count": 46,
   "metadata": {},
   "outputs": [
    {
     "data": {
      "text/plain": [
       "'https://www.msit.go.kr/web/msipContents/contentsView.do?cateId=_tstb17&artId=3114914'"
      ]
     },
     "execution_count": 46,
     "metadata": {},
     "output_type": "execute_result"
    }
   ],
   "source": [
    "u"
   ]
  },
  {
   "cell_type": "code",
   "execution_count": 31,
   "metadata": {},
   "outputs": [
    {
     "data": {
      "text/plain": [
       "70"
      ]
     },
     "execution_count": 31,
     "metadata": {},
     "output_type": "execute_result"
    }
   ],
   "source": [
    "# 본론으로 돌아가, artId를 추출하고 하세요 \n",
    "# 먼저 &artId= 문자들이 시작하는 위치를 찾아요\n",
    "f_str = \"&artId=\"\n",
    "u.find(f_str)"
   ]
  },
  {
   "cell_type": "code",
   "execution_count": 32,
   "metadata": {},
   "outputs": [
    {
     "data": {
      "text/plain": [
       "84"
      ]
     },
     "execution_count": 32,
     "metadata": {},
     "output_type": "execute_result"
    }
   ],
   "source": [
    "# url의 전체 길이는?\n",
    "len(u)"
   ]
  },
  {
   "cell_type": "code",
   "execution_count": 33,
   "metadata": {},
   "outputs": [
    {
     "data": {
      "text/plain": [
       "'&artId=3114914'"
      ]
     },
     "execution_count": 33,
     "metadata": {},
     "output_type": "execute_result"
    }
   ],
   "source": [
    "# 70 ~ 84 에 담긴 내용은 무엇일까요?\n",
    "u[70:84]"
   ]
  },
  {
   "cell_type": "code",
   "execution_count": 34,
   "metadata": {},
   "outputs": [
    {
     "data": {
      "text/plain": [
       "7"
      ]
     },
     "execution_count": 34,
     "metadata": {},
     "output_type": "execute_result"
    }
   ],
   "source": [
    "# 찾는 문자열(\"&artId=\")을 포함하고 있으니, 길이를 구하세요  \n",
    "len(f_str)"
   ]
  },
  {
   "cell_type": "code",
   "execution_count": 35,
   "metadata": {},
   "outputs": [
    {
     "data": {
      "text/plain": [
       "'3114914'"
      ]
     },
     "execution_count": 35,
     "metadata": {},
     "output_type": "execute_result"
    }
   ],
   "source": [
    "# len(f_str) 만큼 더해준 길이 부터 시작하면 되겠네요.\n",
    "u[70 + len(f_str) : 84]"
   ]
  },
  {
   "cell_type": "code",
   "execution_count": 36,
   "metadata": {},
   "outputs": [
    {
     "data": {
      "text/plain": [
       "'3114914'"
      ]
     },
     "execution_count": 36,
     "metadata": {},
     "output_type": "execute_result"
    }
   ],
   "source": [
    "#상수를 변수로 변경해 보시죠\n",
    "#위에서 70, 84 이렇게 정해진 값을 상수라고 해요.\n",
    "u[u.find(f_str) + len(f_str) : len(u)]"
   ]
  },
  {
   "cell_type": "code",
   "execution_count": 37,
   "metadata": {},
   "outputs": [
    {
     "name": "stdout",
     "output_type": "stream",
     "text": [
      "최종 :  3114914\n"
     ]
    }
   ],
   "source": [
    "# u는 나중에 알아보기 힘드니, url로 바꾸세요\n",
    "# f_str --> find_str로 변수명을 변경\n",
    "url = u\n",
    "find_str =f_str\n",
    "print(\"최종 : \", url[url.find(find_str) + len(find_str) : len(url)])"
   ]
  },
  {
   "cell_type": "code",
   "execution_count": null,
   "metadata": {},
   "outputs": [],
   "source": []
  },
  {
   "cell_type": "code",
   "execution_count": 47,
   "metadata": {},
   "outputs": [
    {
     "data": {
      "text/plain": [
       "[<selenium.webdriver.remote.webelement.WebElement (session=\"807520c141192b9b94aa2a97750af91e\", element=\"115a8357-990f-4188-9b09-c2bb1ee59823\")>,\n",
       " <selenium.webdriver.remote.webelement.WebElement (session=\"807520c141192b9b94aa2a97750af91e\", element=\"5ca6358a-c5f3-446f-a930-dbebac65c0e6\")>,\n",
       " <selenium.webdriver.remote.webelement.WebElement (session=\"807520c141192b9b94aa2a97750af91e\", element=\"43a2649b-e4ec-45a8-b07c-6fd6d291431f\")>,\n",
       " <selenium.webdriver.remote.webelement.WebElement (session=\"807520c141192b9b94aa2a97750af91e\", element=\"a86dd20c-0cee-476b-82a7-d77b4bb3e7af\")>,\n",
       " <selenium.webdriver.remote.webelement.WebElement (session=\"807520c141192b9b94aa2a97750af91e\", element=\"c8841c62-f0a5-4b2d-8fca-241bbc5aa37e\")>,\n",
       " <selenium.webdriver.remote.webelement.WebElement (session=\"807520c141192b9b94aa2a97750af91e\", element=\"255a50e2-a510-4e62-9adc-94b332fe0d89\")>,\n",
       " <selenium.webdriver.remote.webelement.WebElement (session=\"807520c141192b9b94aa2a97750af91e\", element=\"dd137e2b-279f-4af9-b03b-ab41596735fd\")>,\n",
       " <selenium.webdriver.remote.webelement.WebElement (session=\"807520c141192b9b94aa2a97750af91e\", element=\"8fd9741e-009d-4fcf-84d4-54fb63f86f6e\")>,\n",
       " <selenium.webdriver.remote.webelement.WebElement (session=\"807520c141192b9b94aa2a97750af91e\", element=\"4ae171b2-e80a-4e9b-b853-fe46a7534b71\")>,\n",
       " <selenium.webdriver.remote.webelement.WebElement (session=\"807520c141192b9b94aa2a97750af91e\", element=\"49825b23-4838-457a-8c66-13a9a113e39b\")>]"
      ]
     },
     "execution_count": 47,
     "metadata": {},
     "output_type": "execute_result"
    }
   ],
   "source": [
    "# a_tag_list의 내용이 기억이 안나네요. \n",
    "# 게시글의 각 row를 WebElement에 담고 있네요.\n",
    "a_tag_list  "
   ]
  },
  {
   "cell_type": "code",
   "execution_count": 48,
   "metadata": {},
   "outputs": [],
   "source": [
    "# 위에서 테스트한 문장을 정리한다. \n",
    "# a_tag_list에서 한줄씩 꺼낸다(to a_tag).\n",
    "\n",
    "rows = [] #게시글을 담을 리스트형 변수 \n",
    "for a_tag in a_tag_list:   \n",
    "    #print(a_tag.text)\n",
    "    title= a_tag.find_element_by_class_name('title')\n",
    "    contact_lst= a_tag.find_elements_by_class_name('con')\n",
    "    date= a_tag.find_element_by_class_name('date')\n",
    "    url = a_tag.get_attribute('href')    \n",
    "    \n",
    "    find_str = \"&artId=\"\n",
    "    post_id = url[url.find(find_str) + len(find_str) : len(url)] #게시글 고유id\n",
    "    \n",
    "    row = (title.text, contact_lst[0].text, contact_lst[1].text, date.text[0:10], url, post_id)\n",
    "    rows.append(row) # 리스트 행추가"
   ]
  },
  {
   "cell_type": "code",
   "execution_count": 49,
   "metadata": {},
   "outputs": [
    {
     "name": "stdout",
     "output_type": "stream",
     "text": [
      "('2020년도 EU 협력진흥사업 신규과제 공모', '구주아프리카협력담당관 : 이세원', '044-202-4354', '2020.09.29', 'https://www.msit.go.kr/web/msipContents/contentsView.do?cateId=_tstb17&artId=3114914', '3114914')\n"
     ]
    }
   ],
   "source": [
    "#첫번째 로우를 출력하세요\n",
    "print(rows[0])\n",
    "# print(rows[1])"
   ]
  },
  {
   "cell_type": "code",
   "execution_count": null,
   "metadata": {},
   "outputs": [],
   "source": []
  },
  {
   "cell_type": "code",
   "execution_count": null,
   "metadata": {},
   "outputs": [],
   "source": [
    "# 테이블 형태로 출력하세요\n",
    "# 파이선의 엑셀이 pandas DataFrame 입니다. # 이걸 사용해야 하는지 어떻게 알았나요?\n",
    "# 얘를 이용해서 테이블형태로 출력해볼게요"
   ]
  },
  {
   "cell_type": "code",
   "execution_count": 50,
   "metadata": {},
   "outputs": [],
   "source": [
    "# 테이블(DataFrame)의 열이름을 지정해요. # 엑셀의 열 이름과 동일\n",
    "\n",
    "# 참고 > 한개의 row\n",
    "# '2020년도 EU 협력진흥사업 신규과제 공모', '구주아프리카협력담당관 : 이세원', '044-202-4354', '2020.09.29', \n",
    "#  'https://www.msit.go.kr/web/msipContents/contentsView.do?cateId=_tstb17&artId=3114914', '3114914'\n",
    "#  '사업명', '공고_담당자', '전화번호', '공고일', 'URL', 'post_id'\n",
    "columns = ['사업명', '공고_담당자', '전화번호', '공고일', 'URL', 'post_id']  "
   ]
  },
  {
   "cell_type": "code",
   "execution_count": 51,
   "metadata": {},
   "outputs": [],
   "source": [
    "df = pd.DataFrame(rows, columns=columns) #엑셀 워크시트 만들기와 유사"
   ]
  },
  {
   "cell_type": "code",
   "execution_count": 52,
   "metadata": {
    "scrolled": true
   },
   "outputs": [
    {
     "data": {
      "text/html": [
       "<div>\n",
       "<style scoped>\n",
       "    .dataframe tbody tr th:only-of-type {\n",
       "        vertical-align: middle;\n",
       "    }\n",
       "\n",
       "    .dataframe tbody tr th {\n",
       "        vertical-align: top;\n",
       "    }\n",
       "\n",
       "    .dataframe thead th {\n",
       "        text-align: right;\n",
       "    }\n",
       "</style>\n",
       "<table border=\"1\" class=\"dataframe\">\n",
       "  <thead>\n",
       "    <tr style=\"text-align: right;\">\n",
       "      <th></th>\n",
       "      <th>사업명</th>\n",
       "      <th>공고_담당자</th>\n",
       "      <th>전화번호</th>\n",
       "      <th>공고일</th>\n",
       "      <th>URL</th>\n",
       "      <th>post_id</th>\n",
       "    </tr>\n",
       "  </thead>\n",
       "  <tbody>\n",
       "    <tr>\n",
       "      <th>0</th>\n",
       "      <td>2020년도 EU 협력진흥사업 신규과제 공모</td>\n",
       "      <td>구주아프리카협력담당관 : 이세원</td>\n",
       "      <td>044-202-4354</td>\n",
       "      <td>2020.09.29</td>\n",
       "      <td>https://www.msit.go.kr/web/msipContents/conten...</td>\n",
       "      <td>3114914</td>\n",
       "    </tr>\n",
       "    <tr>\n",
       "      <th>1</th>\n",
       "      <td>2020년도 하반기 한-EU 공동연구지원사업 신규과제 공모</td>\n",
       "      <td>구주아프리카협력담당관 : 이세원</td>\n",
       "      <td>044-202-4354</td>\n",
       "      <td>2020.09.29</td>\n",
       "      <td>https://www.msit.go.kr/web/msipContents/conten...</td>\n",
       "      <td>3114913</td>\n",
       "    </tr>\n",
       "    <tr>\n",
       "      <th>2</th>\n",
       "      <td>2020년도 제5차 국민생활안전 긴급대응연구사업 신규과제 공모</td>\n",
       "      <td>공공기술기반팀 : 허대성</td>\n",
       "      <td>044-202-4639</td>\n",
       "      <td>2020.09.28</td>\n",
       "      <td>https://www.msit.go.kr/web/msipContents/conten...</td>\n",
       "      <td>3122773</td>\n",
       "    </tr>\n",
       "    <tr>\n",
       "      <th>3</th>\n",
       "      <td>2020년도 미래국방혁신기술개발사업 신규과제 선정결과 공고</td>\n",
       "      <td>공공기술기반팀 : 허대성</td>\n",
       "      <td>044-202-4639</td>\n",
       "      <td>2020.09.18</td>\n",
       "      <td>https://www.msit.go.kr/web/msipContents/conten...</td>\n",
       "      <td>3103448</td>\n",
       "    </tr>\n",
       "    <tr>\n",
       "      <th>4</th>\n",
       "      <td>2020년도 기초연구실지원(기초연구 정책분야) 신규과제 공모</td>\n",
       "      <td>기초연구진흥과 : 오늘</td>\n",
       "      <td>044-202-4538</td>\n",
       "      <td>2020.09.10</td>\n",
       "      <td>https://www.msit.go.kr/web/msipContents/conten...</td>\n",
       "      <td>3088961</td>\n",
       "    </tr>\n",
       "    <tr>\n",
       "      <th>5</th>\n",
       "      <td>2020년도 과학기술정보통신부 비대면 기업홍보 지원사업(언택트 IR) 통합공고</td>\n",
       "      <td>정보통신산업기반과 : 신유진</td>\n",
       "      <td>044-202-6245</td>\n",
       "      <td>2020.09.10</td>\n",
       "      <td>https://www.msit.go.kr/web/msipContents/conten...</td>\n",
       "      <td>3088727</td>\n",
       "    </tr>\n",
       "    <tr>\n",
       "      <th>6</th>\n",
       "      <td>2020년도 제4차 국민생활안전 긴급대응연구사업 신규과제 재공모</td>\n",
       "      <td>공공기술기반팀 : 허대성</td>\n",
       "      <td>044-202-4639</td>\n",
       "      <td>2020.09.10</td>\n",
       "      <td>https://www.msit.go.kr/web/msipContents/conten...</td>\n",
       "      <td>3088726</td>\n",
       "    </tr>\n",
       "    <tr>\n",
       "      <th>7</th>\n",
       "      <td>2020년도 재난안전플랫폼기술개발사업 신규과제 선정결과 공고</td>\n",
       "      <td>공공기술기반팀 : 허대성</td>\n",
       "      <td>044-202-4639</td>\n",
       "      <td>2020.09.07</td>\n",
       "      <td>https://www.msit.go.kr/web/msipContents/conten...</td>\n",
       "      <td>3081711</td>\n",
       "    </tr>\n",
       "    <tr>\n",
       "      <th>8</th>\n",
       "      <td>2020년도 국민생활안전 긴급대응연구사업 신규과제 선정결과 공고</td>\n",
       "      <td>공공기술기반팀 : 허대성</td>\n",
       "      <td>044-202-4639</td>\n",
       "      <td>2020.09.07</td>\n",
       "      <td>https://www.msit.go.kr/web/msipContents/conten...</td>\n",
       "      <td>3081710</td>\n",
       "    </tr>\n",
       "    <tr>\n",
       "      <th>9</th>\n",
       "      <td>2020년도 제2차 해외고급과학자초빙사업 Plus (Brain Pool+) 연장공고</td>\n",
       "      <td>미래인재양성과 : 양성녀</td>\n",
       "      <td>044-202-4836</td>\n",
       "      <td>2020.09.01</td>\n",
       "      <td>https://www.msit.go.kr/web/msipContents/conten...</td>\n",
       "      <td>3067835</td>\n",
       "    </tr>\n",
       "  </tbody>\n",
       "</table>\n",
       "</div>"
      ],
      "text/plain": [
       "                                              사업명             공고_담당자  \\\n",
       "0                        2020년도 EU 협력진흥사업 신규과제 공모  구주아프리카협력담당관 : 이세원   \n",
       "1                2020년도 하반기 한-EU 공동연구지원사업 신규과제 공모  구주아프리카협력담당관 : 이세원   \n",
       "2              2020년도 제5차 국민생활안전 긴급대응연구사업 신규과제 공모      공공기술기반팀 : 허대성   \n",
       "3                2020년도 미래국방혁신기술개발사업 신규과제 선정결과 공고      공공기술기반팀 : 허대성   \n",
       "4               2020년도 기초연구실지원(기초연구 정책분야) 신규과제 공모       기초연구진흥과 : 오늘   \n",
       "5     2020년도 과학기술정보통신부 비대면 기업홍보 지원사업(언택트 IR) 통합공고    정보통신산업기반과 : 신유진   \n",
       "6             2020년도 제4차 국민생활안전 긴급대응연구사업 신규과제 재공모      공공기술기반팀 : 허대성   \n",
       "7               2020년도 재난안전플랫폼기술개발사업 신규과제 선정결과 공고      공공기술기반팀 : 허대성   \n",
       "8             2020년도 국민생활안전 긴급대응연구사업 신규과제 선정결과 공고      공공기술기반팀 : 허대성   \n",
       "9  2020년도 제2차 해외고급과학자초빙사업 Plus (Brain Pool+) 연장공고      미래인재양성과 : 양성녀   \n",
       "\n",
       "           전화번호         공고일  \\\n",
       "0  044-202-4354  2020.09.29   \n",
       "1  044-202-4354  2020.09.29   \n",
       "2  044-202-4639  2020.09.28   \n",
       "3  044-202-4639  2020.09.18   \n",
       "4  044-202-4538  2020.09.10   \n",
       "5  044-202-6245  2020.09.10   \n",
       "6  044-202-4639  2020.09.10   \n",
       "7  044-202-4639  2020.09.07   \n",
       "8  044-202-4639  2020.09.07   \n",
       "9  044-202-4836  2020.09.01   \n",
       "\n",
       "                                                 URL  post_id  \n",
       "0  https://www.msit.go.kr/web/msipContents/conten...  3114914  \n",
       "1  https://www.msit.go.kr/web/msipContents/conten...  3114913  \n",
       "2  https://www.msit.go.kr/web/msipContents/conten...  3122773  \n",
       "3  https://www.msit.go.kr/web/msipContents/conten...  3103448  \n",
       "4  https://www.msit.go.kr/web/msipContents/conten...  3088961  \n",
       "5  https://www.msit.go.kr/web/msipContents/conten...  3088727  \n",
       "6  https://www.msit.go.kr/web/msipContents/conten...  3088726  \n",
       "7  https://www.msit.go.kr/web/msipContents/conten...  3081711  \n",
       "8  https://www.msit.go.kr/web/msipContents/conten...  3081710  \n",
       "9  https://www.msit.go.kr/web/msipContents/conten...  3067835  "
      ]
     },
     "execution_count": 52,
     "metadata": {},
     "output_type": "execute_result"
    }
   ],
   "source": [
    "# 내용이 잘 만들어 졌을까요? 확인해요\n",
    "df"
   ]
  },
  {
   "cell_type": "code",
   "execution_count": null,
   "metadata": {},
   "outputs": [],
   "source": []
  },
  {
   "cell_type": "code",
   "execution_count": 53,
   "metadata": {},
   "outputs": [
    {
     "data": {
      "text/plain": [
       "'C:\\\\mylab\\\\book\\\\automate_basic\\\\data\\\\board_list.xlsx'"
      ]
     },
     "execution_count": 53,
     "metadata": {},
     "output_type": "execute_result"
    }
   ],
   "source": [
    "BOARD_LIST_XL"
   ]
  },
  {
   "cell_type": "code",
   "execution_count": 57,
   "metadata": {},
   "outputs": [],
   "source": [
    "# 엑셀에 저장하기\n",
    "# 저장위치: BOARD_LIST_XL\n",
    "# encoding='cp949', index=False\n",
    "\n",
    "df.to_excel(BOARD_LIST_XL, encoding='cp949', index=False)  "
   ]
  },
  {
   "cell_type": "markdown",
   "metadata": {},
   "source": [
    "cp949, euc-kr 소개   \n",
    "https://namu.wiki/w/CP949"
   ]
  },
  {
   "cell_type": "code",
   "execution_count": 58,
   "metadata": {},
   "outputs": [],
   "source": [
    "# index=False를 했는가? @@@"
   ]
  },
  {
   "cell_type": "code",
   "execution_count": null,
   "metadata": {},
   "outputs": [],
   "source": []
  },
  {
   "cell_type": "code",
   "execution_count": null,
   "metadata": {},
   "outputs": [],
   "source": []
  },
  {
   "cell_type": "markdown",
   "metadata": {},
   "source": [
    "## 사업공고 상세페이지의 첨부파일을 다운로드 한다"
   ]
  },
  {
   "cell_type": "markdown",
   "metadata": {},
   "source": [
    "### before"
   ]
  },
  {
   "cell_type": "code",
   "execution_count": 59,
   "metadata": {},
   "outputs": [],
   "source": [
    "#엑셀에서 읽어오기\n",
    "df = pd.read_excel(BOARD_LIST_XL)"
   ]
  },
  {
   "cell_type": "code",
   "execution_count": 60,
   "metadata": {
    "scrolled": true
   },
   "outputs": [
    {
     "data": {
      "text/html": [
       "<div>\n",
       "<style scoped>\n",
       "    .dataframe tbody tr th:only-of-type {\n",
       "        vertical-align: middle;\n",
       "    }\n",
       "\n",
       "    .dataframe tbody tr th {\n",
       "        vertical-align: top;\n",
       "    }\n",
       "\n",
       "    .dataframe thead th {\n",
       "        text-align: right;\n",
       "    }\n",
       "</style>\n",
       "<table border=\"1\" class=\"dataframe\">\n",
       "  <thead>\n",
       "    <tr style=\"text-align: right;\">\n",
       "      <th></th>\n",
       "      <th>사업명</th>\n",
       "      <th>공고_담당자</th>\n",
       "      <th>전화번호</th>\n",
       "      <th>공고일</th>\n",
       "      <th>URL</th>\n",
       "      <th>post_id</th>\n",
       "    </tr>\n",
       "  </thead>\n",
       "  <tbody>\n",
       "    <tr>\n",
       "      <th>0</th>\n",
       "      <td>2020년도 EU 협력진흥사업 신규과제 공모</td>\n",
       "      <td>구주아프리카협력담당관 : 이세원</td>\n",
       "      <td>044-202-4354</td>\n",
       "      <td>2020.09.29</td>\n",
       "      <td>https://www.msit.go.kr/web/msipContents/conten...</td>\n",
       "      <td>3114914</td>\n",
       "    </tr>\n",
       "    <tr>\n",
       "      <th>1</th>\n",
       "      <td>2020년도 하반기 한-EU 공동연구지원사업 신규과제 공모</td>\n",
       "      <td>구주아프리카협력담당관 : 이세원</td>\n",
       "      <td>044-202-4354</td>\n",
       "      <td>2020.09.29</td>\n",
       "      <td>https://www.msit.go.kr/web/msipContents/conten...</td>\n",
       "      <td>3114913</td>\n",
       "    </tr>\n",
       "    <tr>\n",
       "      <th>2</th>\n",
       "      <td>2020년도 제5차 국민생활안전 긴급대응연구사업 신규과제 공모</td>\n",
       "      <td>공공기술기반팀 : 허대성</td>\n",
       "      <td>044-202-4639</td>\n",
       "      <td>2020.09.28</td>\n",
       "      <td>https://www.msit.go.kr/web/msipContents/conten...</td>\n",
       "      <td>3122773</td>\n",
       "    </tr>\n",
       "    <tr>\n",
       "      <th>3</th>\n",
       "      <td>2020년도 미래국방혁신기술개발사업 신규과제 선정결과 공고</td>\n",
       "      <td>공공기술기반팀 : 허대성</td>\n",
       "      <td>044-202-4639</td>\n",
       "      <td>2020.09.18</td>\n",
       "      <td>https://www.msit.go.kr/web/msipContents/conten...</td>\n",
       "      <td>3103448</td>\n",
       "    </tr>\n",
       "    <tr>\n",
       "      <th>4</th>\n",
       "      <td>2020년도 기초연구실지원(기초연구 정책분야) 신규과제 공모</td>\n",
       "      <td>기초연구진흥과 : 오늘</td>\n",
       "      <td>044-202-4538</td>\n",
       "      <td>2020.09.10</td>\n",
       "      <td>https://www.msit.go.kr/web/msipContents/conten...</td>\n",
       "      <td>3088961</td>\n",
       "    </tr>\n",
       "  </tbody>\n",
       "</table>\n",
       "</div>"
      ],
      "text/plain": [
       "                                  사업명             공고_담당자          전화번호  \\\n",
       "0            2020년도 EU 협력진흥사업 신규과제 공모  구주아프리카협력담당관 : 이세원  044-202-4354   \n",
       "1    2020년도 하반기 한-EU 공동연구지원사업 신규과제 공모  구주아프리카협력담당관 : 이세원  044-202-4354   \n",
       "2  2020년도 제5차 국민생활안전 긴급대응연구사업 신규과제 공모      공공기술기반팀 : 허대성  044-202-4639   \n",
       "3    2020년도 미래국방혁신기술개발사업 신규과제 선정결과 공고      공공기술기반팀 : 허대성  044-202-4639   \n",
       "4   2020년도 기초연구실지원(기초연구 정책분야) 신규과제 공모       기초연구진흥과 : 오늘  044-202-4538   \n",
       "\n",
       "          공고일                                                URL  post_id  \n",
       "0  2020.09.29  https://www.msit.go.kr/web/msipContents/conten...  3114914  \n",
       "1  2020.09.29  https://www.msit.go.kr/web/msipContents/conten...  3114913  \n",
       "2  2020.09.28  https://www.msit.go.kr/web/msipContents/conten...  3122773  \n",
       "3  2020.09.18  https://www.msit.go.kr/web/msipContents/conten...  3103448  \n",
       "4  2020.09.10  https://www.msit.go.kr/web/msipContents/conten...  3088961  "
      ]
     },
     "execution_count": 60,
     "metadata": {},
     "output_type": "execute_result"
    }
   ],
   "source": [
    "# 파일의 앞부분 5개만 미리보기 해요\n",
    "df.head()"
   ]
  },
  {
   "cell_type": "code",
   "execution_count": null,
   "metadata": {},
   "outputs": [],
   "source": []
  },
  {
   "cell_type": "code",
   "execution_count": 61,
   "metadata": {},
   "outputs": [],
   "source": [
    "# 너무 많은 데이터로 테스트를 하면 시간이 많이 걸려요. 다운로드 시간, 페이지 이동시간 등\n",
    "# 2 개만 지정해서 테스트를 해요"
   ]
  },
  {
   "cell_type": "code",
   "execution_count": 62,
   "metadata": {},
   "outputs": [
    {
     "data": {
      "text/html": [
       "<div>\n",
       "<style scoped>\n",
       "    .dataframe tbody tr th:only-of-type {\n",
       "        vertical-align: middle;\n",
       "    }\n",
       "\n",
       "    .dataframe tbody tr th {\n",
       "        vertical-align: top;\n",
       "    }\n",
       "\n",
       "    .dataframe thead th {\n",
       "        text-align: right;\n",
       "    }\n",
       "</style>\n",
       "<table border=\"1\" class=\"dataframe\">\n",
       "  <thead>\n",
       "    <tr style=\"text-align: right;\">\n",
       "      <th></th>\n",
       "      <th>사업명</th>\n",
       "      <th>공고_담당자</th>\n",
       "      <th>전화번호</th>\n",
       "      <th>공고일</th>\n",
       "      <th>URL</th>\n",
       "      <th>post_id</th>\n",
       "    </tr>\n",
       "  </thead>\n",
       "  <tbody>\n",
       "    <tr>\n",
       "      <th>1</th>\n",
       "      <td>2020년도 하반기 한-EU 공동연구지원사업 신규과제 공모</td>\n",
       "      <td>구주아프리카협력담당관 : 이세원</td>\n",
       "      <td>044-202-4354</td>\n",
       "      <td>2020.09.29</td>\n",
       "      <td>https://www.msit.go.kr/web/msipContents/conten...</td>\n",
       "      <td>3114913</td>\n",
       "    </tr>\n",
       "    <tr>\n",
       "      <th>2</th>\n",
       "      <td>2020년도 제5차 국민생활안전 긴급대응연구사업 신규과제 공모</td>\n",
       "      <td>공공기술기반팀 : 허대성</td>\n",
       "      <td>044-202-4639</td>\n",
       "      <td>2020.09.28</td>\n",
       "      <td>https://www.msit.go.kr/web/msipContents/conten...</td>\n",
       "      <td>3122773</td>\n",
       "    </tr>\n",
       "  </tbody>\n",
       "</table>\n",
       "</div>"
      ],
      "text/plain": [
       "                                  사업명             공고_담당자          전화번호  \\\n",
       "1    2020년도 하반기 한-EU 공동연구지원사업 신규과제 공모  구주아프리카협력담당관 : 이세원  044-202-4354   \n",
       "2  2020년도 제5차 국민생활안전 긴급대응연구사업 신규과제 공모      공공기술기반팀 : 허대성  044-202-4639   \n",
       "\n",
       "          공고일                                                URL  post_id  \n",
       "1  2020.09.29  https://www.msit.go.kr/web/msipContents/conten...  3114913  \n",
       "2  2020.09.28  https://www.msit.go.kr/web/msipContents/conten...  3122773  "
      ]
     },
     "execution_count": 62,
     "metadata": {},
     "output_type": "execute_result"
    }
   ],
   "source": [
    "# in 연산자로 필터링 해보세요. 조건 부합 데이터만 추출\n",
    "query_str = \"사업명 in ['2020년도 하반기 한-EU 공동연구지원사업 신규과제 공모', '2020년도 제5차 국민생활안전 긴급대응연구사업 신규과제 공모']\"  \n",
    "df1 = df.query(query_str)     \n",
    "df1"
   ]
  },
  {
   "cell_type": "code",
   "execution_count": 63,
   "metadata": {},
   "outputs": [
    {
     "data": {
      "text/html": [
       "<div>\n",
       "<style scoped>\n",
       "    .dataframe tbody tr th:only-of-type {\n",
       "        vertical-align: middle;\n",
       "    }\n",
       "\n",
       "    .dataframe tbody tr th {\n",
       "        vertical-align: top;\n",
       "    }\n",
       "\n",
       "    .dataframe thead th {\n",
       "        text-align: right;\n",
       "    }\n",
       "</style>\n",
       "<table border=\"1\" class=\"dataframe\">\n",
       "  <thead>\n",
       "    <tr style=\"text-align: right;\">\n",
       "      <th></th>\n",
       "      <th>사업명</th>\n",
       "      <th>공고_담당자</th>\n",
       "      <th>전화번호</th>\n",
       "      <th>공고일</th>\n",
       "      <th>URL</th>\n",
       "      <th>post_id</th>\n",
       "    </tr>\n",
       "  </thead>\n",
       "  <tbody>\n",
       "    <tr>\n",
       "      <th>1</th>\n",
       "      <td>2020년도 하반기 한-EU 공동연구지원사업 신규과제 공모</td>\n",
       "      <td>구주아프리카협력담당관 : 이세원</td>\n",
       "      <td>044-202-4354</td>\n",
       "      <td>2020.09.29</td>\n",
       "      <td>https://www.msit.go.kr/web/msipContents/conten...</td>\n",
       "      <td>3114913</td>\n",
       "    </tr>\n",
       "    <tr>\n",
       "      <th>2</th>\n",
       "      <td>2020년도 제5차 국민생활안전 긴급대응연구사업 신규과제 공모</td>\n",
       "      <td>공공기술기반팀 : 허대성</td>\n",
       "      <td>044-202-4639</td>\n",
       "      <td>2020.09.28</td>\n",
       "      <td>https://www.msit.go.kr/web/msipContents/conten...</td>\n",
       "      <td>3122773</td>\n",
       "    </tr>\n",
       "  </tbody>\n",
       "</table>\n",
       "</div>"
      ],
      "text/plain": [
       "                                  사업명             공고_담당자          전화번호  \\\n",
       "1    2020년도 하반기 한-EU 공동연구지원사업 신규과제 공모  구주아프리카협력담당관 : 이세원  044-202-4354   \n",
       "2  2020년도 제5차 국민생활안전 긴급대응연구사업 신규과제 공모      공공기술기반팀 : 허대성  044-202-4639   \n",
       "\n",
       "          공고일                                                URL  post_id  \n",
       "1  2020.09.29  https://www.msit.go.kr/web/msipContents/conten...  3114913  \n",
       "2  2020.09.28  https://www.msit.go.kr/web/msipContents/conten...  3122773  "
      ]
     },
     "execution_count": 63,
     "metadata": {},
     "output_type": "execute_result"
    }
   ],
   "source": [
    "# == 연산자로 필터링 해보세요, 위와 동일한 표현식이에요\n",
    "query_str = \"사업명 == ['2020년도 하반기 한-EU 공동연구지원사업 신규과제 공모', '2020년도 제5차 국민생활안전 긴급대응연구사업 신규과제 공모']\" \n",
    "df = df.query(query_str)     # 조건 부합 데이터 추출\n",
    "df"
   ]
  },
  {
   "cell_type": "code",
   "execution_count": 64,
   "metadata": {},
   "outputs": [],
   "source": [
    "# df.itertuples? \n",
    "# Iterate over DataFrame rows as namedtuples.\n",
    "# namedtuple이란?"
   ]
  },
  {
   "cell_type": "code",
   "execution_count": 65,
   "metadata": {},
   "outputs": [
    {
     "name": "stdout",
     "output_type": "stream",
     "text": [
      "https://www.msit.go.kr/web/msipContents/contentsView.do?cateId=_tstb17&artId=3114913\n",
      "https://www.msit.go.kr/web/msipContents/contentsView.do?cateId=_tstb17&artId=3122773\n"
     ]
    }
   ],
   "source": [
    "# 데이터프레임에 저장된 URL을 활용해 각 게시물들의 첨부파일을 다운로드 해요\n",
    "# dataframe 칼럼명과 동일한 칼럼명을 가진 튜플을 리턴(반환)한다.\n",
    "for row in df.itertuples(index=True): \n",
    "    print(row.URL)"
   ]
  },
  {
   "cell_type": "code",
   "execution_count": 66,
   "metadata": {
    "scrolled": true
   },
   "outputs": [
    {
     "data": {
      "text/plain": [
       "Pandas(Index=2, 사업명='2020년도 제5차 국민생활안전 긴급대응연구사업 신규과제 공모', 공고_담당자='공공기술기반팀 : 허대성', 전화번호='044-202-4639', 공고일='2020.09.28', URL='https://www.msit.go.kr/web/msipContents/contentsView.do?cateId=_tstb17&artId=3122773', post_id=3122773)"
      ]
     },
     "execution_count": 66,
     "metadata": {},
     "output_type": "execute_result"
    }
   ],
   "source": [
    "# for 문의 마지막 row의 데이터를 확인해 보아요.\n",
    "\n",
    "row "
   ]
  },
  {
   "cell_type": "code",
   "execution_count": null,
   "metadata": {},
   "outputs": [],
   "source": [
    "# Index=2,사업명='2020년도 제5차 국민생활안전 긴급대응연구사업 신규과제 공모, ....\n",
    "# dataframe의 칼럼명 = 값(value) 형태로 매핑되어 있다.  칼럼명은 다양한 이름으로 불린다. attribute(속성), 변수(variable) 등"
   ]
  },
  {
   "cell_type": "code",
   "execution_count": 68,
   "metadata": {},
   "outputs": [
    {
     "name": "stdout",
     "output_type": "stream",
     "text": [
      "https://www.msit.go.kr/web/msipContents/contentsView.do?cateId=_tstb17&artId=3122773\n"
     ]
    }
   ],
   "source": [
    "#아래 출력결과를 클릭하면 사업공고 상세페이지가 열린다.\n",
    "print(row.URL)"
   ]
  },
  {
   "cell_type": "code",
   "execution_count": 70,
   "metadata": {},
   "outputs": [],
   "source": [
    "#저 url(사업공고 상세페이지)로 이동해요\n",
    "#우리 미션은 다운로드 버튼을 클릭해서 첨부파일을 다운로드 받는 것이에요\n",
    "# driver.???(row.URL)\n",
    "\n",
    "driver.get(row.URL)"
   ]
  },
  {
   "cell_type": "markdown",
   "metadata": {},
   "source": [
    "### 어떤 class/ tag 로 element를 찾아야 하나요?"
   ]
  },
  {
   "cell_type": "raw",
   "metadata": {},
   "source": [
    "# 첨부파일 테이블\n",
    "<ul class=\"down_file\"> \n",
    "  <li>        \n",
    "      <div class=\"down_btn\">\n",
    "         <a href=\"javascript:void(0);\" onclick=\"filePathEncode('/cms/www/officialNews/biz/__icsFiles/afieldfile/2020/09/28/(붙임1) 2020년도 \n",
    "             제5차 국민생활안전 긴급대응연구사업 신규과제 공모 공고문.hwp')\" class=\"down\">다운로드</a>\n",
    "         <a href=\"javascript:void(0);\" onclick=\"getExtension_path('/cms/www/officialNews/biz/__icsFiles/afieldfile/2020/09/28/(붙임1) 2020년도 \n",
    "             제5차 국민생활안전 긴급대응연구사업 신규과제 공모 공고문.hwp')\" class=\"view\" title=\"새창 열림\">바로보기</a>\n",
    "      </div>\n",
    "  </li>\n",
    "  <li>          \n",
    "      <div class=\"down_btn\">\n",
    "        <a href=\"javascript:void(0);\" onclick=\"filePathEncode('/cms/www/officialNews/biz/__icsFiles/afieldfile/2020/09/28/(붙임2) 2020년도 \n",
    "            국민생활안전 긴급대응연구사업사업 연구개발계획서(양식).zip')\" class=\"down\">다운로드</a>\n",
    "        <a href=\"javascript:void(0);\" onclick=\"getExtension_path('/cms/www/officialNews/biz/__icsFiles/afieldfile/2020/09/28/(붙임2) 2020년도 \n",
    "            국민생활안전 긴급대응연구사업사업 연구개발계획서(양식).zip')\" class=\"view\" title=\"새창 열림\">바로보기</a>\n",
    "      </div>  \n",
    "  </li>  ... 생략 ... "
   ]
  },
  {
   "cell_type": "code",
   "execution_count": null,
   "metadata": {},
   "outputs": [],
   "source": []
  },
  {
   "cell_type": "code",
   "execution_count": 71,
   "metadata": {},
   "outputs": [],
   "source": [
    "#원하는 element를 가져 오세요.\n",
    "# <ul class=\"down_file\"> \n",
    "# element = driver.find_element???(\"???\")\n",
    "\n",
    "element = driver.find_element_by_class_name(\"down_file\")"
   ]
  },
  {
   "cell_type": "code",
   "execution_count": 72,
   "metadata": {},
   "outputs": [
    {
     "data": {
      "text/plain": [
       "'(붙임1) 2020년도 제5차 국민생활안전 긴급대응연구사업 신규과제 공모 공고문.hwp\\n다운로드 바로보기\\n(붙임2) 2020년도 국민생활안전 긴급대응연구사업사업 연구개발계획서(양식).zip\\n다운로드 바로보기\\n(붙임3) 2020년도 국민생활안전 긴급대응연구사업사업 연구개발계획서 기타 증빙(양식).hwp\\n다운로드 바로보기\\n(붙임4) 2020년도 국민생활안전 긴급대응연구사업 관련 주요 규정 및 지침.hwp\\n다운로드 바로보기'"
      ]
     },
     "execution_count": 72,
     "metadata": {},
     "output_type": "execute_result"
    }
   ],
   "source": [
    "element.text"
   ]
  },
  {
   "cell_type": "code",
   "execution_count": null,
   "metadata": {},
   "outputs": [],
   "source": []
  },
  {
   "cell_type": "code",
   "execution_count": 73,
   "metadata": {},
   "outputs": [],
   "source": [
    "element2 = element.find_element_by_class_name('down_btn')"
   ]
  },
  {
   "cell_type": "raw",
   "metadata": {},
   "source": [
    "<div class=\"down_btn\">\n",
    "   <a href=\"javascript:void(0);\" onclick=\"filePathEncode('/cms/www/officialNews/biz/__icsFiles/afieldfile/2020/09/28/(붙임1) 2020년도 제5차 국민생활안전 긴급대응연구사업 \n",
    "       신규과제 공모 공고문.hwp')\" class=\"down\">다운로드</a>\n",
    "   <a href=\"javascript:void(0);\" onclick=\"getExtension_path('/cms/www/officialNews/biz/__icsFiles/afieldfile/2020/09/28/(붙임1) 2020년도 제5차 국민생활안전 긴급대응연구사업 \n",
    "       신규과제 공모 공고문.hwp')\" class=\"view\" title=\"새창 열림\">바로보기</a>\n",
    "</div>"
   ]
  },
  {
   "cell_type": "code",
   "execution_count": null,
   "metadata": {},
   "outputs": [],
   "source": []
  },
  {
   "cell_type": "code",
   "execution_count": 75,
   "metadata": {},
   "outputs": [],
   "source": [
    "a_tag_list = element2.find_elements_by_tag_name('a')"
   ]
  },
  {
   "cell_type": "code",
   "execution_count": 76,
   "metadata": {},
   "outputs": [
    {
     "data": {
      "text/plain": [
       "'다운로드'"
      ]
     },
     "execution_count": 76,
     "metadata": {},
     "output_type": "execute_result"
    }
   ],
   "source": [
    "a_tag_list[0].text"
   ]
  },
  {
   "cell_type": "code",
   "execution_count": 77,
   "metadata": {},
   "outputs": [
    {
     "data": {
      "text/plain": [
       "'바로보기'"
      ]
     },
     "execution_count": 77,
     "metadata": {},
     "output_type": "execute_result"
    }
   ],
   "source": [
    "a_tag_list[1].text"
   ]
  },
  {
   "cell_type": "code",
   "execution_count": 78,
   "metadata": {},
   "outputs": [],
   "source": [
    "#우리는 다운로드에 관심이 있다\n",
    "a_tag = a_tag_list[0] "
   ]
  },
  {
   "cell_type": "markdown",
   "metadata": {},
   "source": [
    "### 왜 get_attribute 인가?"
   ]
  },
  {
   "cell_type": "code",
   "execution_count": 79,
   "metadata": {},
   "outputs": [
    {
     "name": "stdout",
     "output_type": "stream",
     "text": [
      "javascript:void(0);\n"
     ]
    }
   ],
   "source": [
    "# url을 출력하세요. 다운로드에 필요한 url이 있나요? \n",
    "# 보통 'href'attribute에 url 있습니다\n",
    "# my_url = a_tag.get_attribute(???)\n",
    "\n",
    "my_url = a_tag.get_attribute('href')\n",
    "print(my_url)  "
   ]
  },
  {
   "cell_type": "code",
   "execution_count": null,
   "metadata": {},
   "outputs": [],
   "source": [
    "# 아래 처럼, url링크가 아닌 자바스크립트가 들어가있는 경우에는 \n",
    "# click() 명령을 하더라도  href 속성 값에 url 주소가 들어가 있지 않기 때문에 해당 주소로 이동할수 없어요.\n",
    "# 이런 경우에는, onlclick 내부의 명령어가 실행되도록 해야죠. \n",
    "\n",
    "# <a href = \"javascript:void(0);\", onclick = \"자바스크립트 명령어\"> 다운로드 </a>"
   ]
  },
  {
   "cell_type": "code",
   "execution_count": 81,
   "metadata": {},
   "outputs": [
    {
     "data": {
      "text/plain": [
       "\"filePathEncode('/cms/www/officialNews/biz/__icsFiles/afieldfile/2020/09/28/(붙임1) 2020년도 제5차 국민생활안전 긴급대응연구사업 신규과제 공모 공고문.hwp')\""
      ]
     },
     "execution_count": 81,
     "metadata": {},
     "output_type": "execute_result"
    }
   ],
   "source": [
    "# onclick attribute에 저장된 \"자바스크립트 명령어\"가 필요하다.\n",
    "# 이것을 호출해야 첨부파일이 다운로드 된다.\n",
    "# a_tag.get_???('???')  \n",
    "\n",
    "a_tag.get_attribute('onclick')  "
   ]
  },
  {
   "cell_type": "code",
   "execution_count": null,
   "metadata": {},
   "outputs": [],
   "source": [
    "# 우리가 원하는 자바스크립트문장은 0번(a_tag_list[0] )에 들어 있다.  \n",
    "# 첨부파일 다운로드 onclick에 지정된 문장은 filePathEncode로 시작한다."
   ]
  },
  {
   "cell_type": "code",
   "execution_count": null,
   "metadata": {},
   "outputs": [],
   "source": []
  },
  {
   "cell_type": "code",
   "execution_count": 82,
   "metadata": {},
   "outputs": [
    {
     "name": "stdout",
     "output_type": "stream",
     "text": [
      "filePathEncode('/cms/www/officialNews/biz/__icsFiles/afieldfile/2020/09/28/(붙임1) 2020년도 제5차 국민생활안전 긴급대응연구사업 신규과제 공모 공고문.hwp')\n",
      "\n",
      "getExtension_path('/cms/www/officialNews/biz/__icsFiles/afieldfile/2020/09/28/(붙임1) 2020년도 제5차 국민생활안전 긴급대응연구사업 신규과제 공모 공고문.hwp')\n",
      "\n"
     ]
    }
   ],
   "source": [
    "# a_tag_list의 모든 a_tag의 onclick attribute 내용을 모두 출력하세요 \n",
    "# for a_tag in a_tag_list: \n",
    "#     print(a_tag.??? )\n",
    "#     print(\"\")\n",
    "    \n",
    "for a_tag in a_tag_list: \n",
    "    print(a_tag.get_attribute('onclick'))\n",
    "    print(\"\")"
   ]
  },
  {
   "cell_type": "code",
   "execution_count": 83,
   "metadata": {},
   "outputs": [
    {
     "name": "stdout",
     "output_type": "stream",
     "text": [
      "filePathEncode('/cms/www/officialNews/biz/__icsFiles/afieldfile/2020/09/28/(붙임1) 2020년도 제5차 국민생활안전 긴급대응연구사업 신규과제 공모 공고문.hwp')\n"
     ]
    }
   ],
   "source": [
    "# filePathEncode로 시작하는 문장만 출력하세요.\n",
    "# 첨부파일 다운로드 onclick에 지정된 자바스크립트문장은 filePathEncode로 시작한다\n",
    "\n",
    "# for a_tag in a_tag_list:\n",
    "#     txt = a_tag.get_attribute('onclick')\n",
    "#     if \"???\" in txt:  \n",
    "#         print(txt)    \n",
    "        \n",
    "for a_tag in a_tag_list:\n",
    "    txt = a_tag.get_attribute('onclick')\n",
    "    if \"filePathEncode\" in txt:  \n",
    "        print(txt)    "
   ]
  },
  {
   "cell_type": "code",
   "execution_count": 84,
   "metadata": {
    "scrolled": true
   },
   "outputs": [
    {
     "data": {
      "text/plain": [
       "<selenium.webdriver.remote.webelement.WebElement (session=\"807520c141192b9b94aa2a97750af91e\", element=\"9c425f43-fad8-40d7-95cf-8e5164d3772c\")>"
      ]
     },
     "execution_count": 84,
     "metadata": {},
     "output_type": "execute_result"
    }
   ],
   "source": [
    "a_tag"
   ]
  },
  {
   "cell_type": "markdown",
   "metadata": {},
   "source": [
    "### 첨부문서 다운로드"
   ]
  },
  {
   "cell_type": "code",
   "execution_count": 86,
   "metadata": {},
   "outputs": [],
   "source": [
    "# 첨부문서 다운로드 하세요\n",
    "# driver.execute_script\n",
    "js_script =\"\"\"filePathEncode('/cms/www/officialNews/biz/__icsFiles/afieldfile/2020/09/28/(붙임1) 2020년도 제5차 국민생활안전 긴급대응연구사업 신규과제 공모 공고문.hwp')\"\"\"\n",
    "driver.execute_script(js_script, a_tag)  # 자바 명령어 실행   @@@execute_script 이걸 어떻게 알았는가?\n",
    "# sleep(1)"
   ]
  },
  {
   "cell_type": "code",
   "execution_count": 154,
   "metadata": {},
   "outputs": [
    {
     "name": "stdout",
     "output_type": "stream",
     "text": [
      "(붙임1) 2020년도 제5차 국민생활안전 긴급대응연구사업 신규과제 공모 공고문.hwp\n"
     ]
    }
   ],
   "source": [
    "# 첨부문서가 제대로 다운로드가 되는지 확인해 보자\n",
    "# C:\\Users\\ME\\Downloads 에 다운로드가 된다.\n",
    "\n",
    "!dir C:\\Users\\ME\\Downloads /b"
   ]
  },
  {
   "cell_type": "markdown",
   "metadata": {},
   "source": [
    "### refactoring_after"
   ]
  },
  {
   "cell_type": "markdown",
   "metadata": {},
   "source": [
    "#### download default_directory 설정"
   ]
  },
  {
   "cell_type": "code",
   "execution_count": 90,
   "metadata": {},
   "outputs": [],
   "source": [
    "#C:\\Users\\ME\\Downloads에 다운로드하면 헤깔린다. 그래서 별도의 다운로드 폴도에 다운로드한다."
   ]
  },
  {
   "cell_type": "code",
   "execution_count": 91,
   "metadata": {},
   "outputs": [],
   "source": [
    "from selenium.webdriver.chrome.options import Options\n",
    "chrome_options = Options()"
   ]
  },
  {
   "cell_type": "code",
   "execution_count": 92,
   "metadata": {},
   "outputs": [
    {
     "data": {
      "text/plain": [
       "'C:\\\\mylab\\\\book\\\\automate_basic\\\\download'"
      ]
     },
     "execution_count": 92,
     "metadata": {},
     "output_type": "execute_result"
    }
   ],
   "source": [
    "DOWNLOAD_DIR"
   ]
  },
  {
   "cell_type": "code",
   "execution_count": 93,
   "metadata": {},
   "outputs": [
    {
     "data": {
      "text/plain": [
       "'C:\\\\mylab\\\\book\\\\chromedriver'"
      ]
     },
     "execution_count": 93,
     "metadata": {},
     "output_type": "execute_result"
    }
   ],
   "source": [
    "chromedriver"
   ]
  },
  {
   "cell_type": "code",
   "execution_count": 95,
   "metadata": {},
   "outputs": [],
   "source": [
    "# chrome_options.add_experimental_option?"
   ]
  },
  {
   "cell_type": "markdown",
   "metadata": {},
   "source": [
    "download default_directory 설정 참고  \n",
    "https://stackoverflow.com/questions/46937319/how-to-use-chrome-webdriver-in-selenium-to-download-files-in-python"
   ]
  },
  {
   "cell_type": "code",
   "execution_count": 96,
   "metadata": {},
   "outputs": [],
   "source": [
    "# Adds an experimental option which is passed to chrome.\n",
    "# prefs : to specify preferences that will be applied after Chrome starts\n",
    "prefs = {\"download.default_directory\" : DOWNLOAD_DIR,\n",
    "         \"download.prompt_for_download\": False \n",
    "        } \n",
    "chrome_options.add_experimental_option(\"prefs\",prefs)  \n",
    "driver = webdriver.Chrome(executable_path=chromedriver, options=chrome_options)"
   ]
  },
  {
   "cell_type": "code",
   "execution_count": null,
   "metadata": {},
   "outputs": [],
   "source": []
  },
  {
   "cell_type": "markdown",
   "metadata": {},
   "source": [
    "## 신규 게시글의 첨부파일만 다운로드 한다"
   ]
  },
  {
   "cell_type": "markdown",
   "metadata": {},
   "source": [
    "### before"
   ]
  },
  {
   "cell_type": "markdown",
   "metadata": {},
   "source": [
    "### 첨부 파일 저장 위치 테스트"
   ]
  },
  {
   "cell_type": "code",
   "execution_count": 97,
   "metadata": {},
   "outputs": [
    {
     "data": {
      "text/plain": [
       "'2020년도_제4차_국민생활안전_긴급대응연구사업_신규과제_재공모'"
      ]
     },
     "execution_count": 97,
     "metadata": {},
     "output_type": "execute_result"
    }
   ],
   "source": [
    "# 첨부 파일 저장 위치 테스트\n",
    "biz_name=\"2020년도 제4차 국민생활안전 긴급대응연구사업 신규과제 재공모\"\n",
    "biz_name= biz_name.replace(\" \",\"_\")\n",
    "biz_name"
   ]
  },
  {
   "cell_type": "code",
   "execution_count": 101,
   "metadata": {},
   "outputs": [],
   "source": []
  },
  {
   "cell_type": "code",
   "execution_count": 103,
   "metadata": {},
   "outputs": [
    {
     "data": {
      "text/plain": [
       "'2020\\\\09\\\\10'"
      ]
     },
     "execution_count": 103,
     "metadata": {},
     "output_type": "execute_result"
    }
   ],
   "source": [
    "# \".\"을 \"\\\\\"로 바꾸세요\n",
    "# date='2020.09.10'\n",
    "# date = date.???(\".\", \"\\\\\")\n",
    "# date\n",
    "\n",
    "date='2020.09.10'\n",
    "date = date.replace(\".\", \"\\\\\")\n",
    "date"
   ]
  },
  {
   "cell_type": "code",
   "execution_count": 104,
   "metadata": {},
   "outputs": [
    {
     "data": {
      "text/plain": [
       "'C:\\\\mylab\\\\book\\\\automate_basic\\\\download\\\\2020\\\\09\\\\10\\\\2020년도_제4차_국민생활안전_긴급대응연구사업_신규과제_재공모'"
      ]
     },
     "execution_count": 104,
     "metadata": {},
     "output_type": "execute_result"
    }
   ],
   "source": [
    "#biz_name=\"2020년도 제4차 국민생활안전 긴급대응연구사업 신규과제 재공모\"\n",
    "outpath = DOWNLOAD_DIR+\"\\\\{date1}\\\\{biz_name1}\".format(date1=date, biz_name1=biz_name)\n",
    "outpath"
   ]
  },
  {
   "cell_type": "code",
   "execution_count": null,
   "metadata": {},
   "outputs": [],
   "source": [
    "DOWNLOAD_DIR+\"\\\\*.*\""
   ]
  },
  {
   "cell_type": "raw",
   "metadata": {},
   "source": [
    "![makedirs](figures/makedirs.PNG)"
   ]
  },
  {
   "cell_type": "code",
   "execution_count": 105,
   "metadata": {},
   "outputs": [],
   "source": [
    "os.makedirs?"
   ]
  },
  {
   "cell_type": "code",
   "execution_count": 107,
   "metadata": {},
   "outputs": [],
   "source": [
    "# 경로에 해당하는 폴더를 만든다.\n",
    "os.makedirs(outpath, exist_ok=True) "
   ]
  },
  {
   "cell_type": "code",
   "execution_count": 164,
   "metadata": {},
   "outputs": [
    {
     "name": "stdout",
     "output_type": "stream",
     "text": [
      "2020년도_제4차_국민생활안전_긴급대응연구사업_신규과제_재공모\n"
     ]
    }
   ],
   "source": [
    "p='C:\\\\mylab\\\\book\\\\automate_basic\\\\download\\\\2020\\\\09\\\\10'\n",
    "#!(느낌표) 윈도우즈 os 명령어를 실행할때 사용\n",
    "!dir {p} /b"
   ]
  },
  {
   "cell_type": "code",
   "execution_count": null,
   "metadata": {},
   "outputs": [],
   "source": []
  },
  {
   "cell_type": "code",
   "execution_count": 155,
   "metadata": {},
   "outputs": [],
   "source": [
    "# download 받은 파일들을 outpath로 이동한다.\n",
    "#  - download 폴더: C:\\\\mylab\\\\book\\\\automate_basic\\\\download 하위의 모든 파일\n",
    "#  - outpath : C:\\\\mylab\\\\book\\\\automate_basic\\\\download\\\\2020\\\\09\\\\10\\\\2020년도 미래국방혁신기술개발사업 신규과제 선정결과 공고        "
   ]
  },
  {
   "cell_type": "code",
   "execution_count": 156,
   "metadata": {},
   "outputs": [
    {
     "data": {
      "text/plain": [
       "'C:\\\\mylab\\\\book\\\\automate_basic\\\\download'"
      ]
     },
     "execution_count": 156,
     "metadata": {},
     "output_type": "execute_result"
    }
   ],
   "source": [
    "DOWNLOAD_DIR"
   ]
  },
  {
   "cell_type": "code",
   "execution_count": 157,
   "metadata": {},
   "outputs": [
    {
     "name": "stdout",
     "output_type": "stream",
     "text": [
      "C:\\mylab\\book\\automate_basic\\download\\(붙임1) 2020년도 제4차 국민생활안전 긴급대응연구사업 신규과제 재공모 공고문.hwp\n",
      "C:\\mylab\\book\\automate_basic\\download\\(붙임2) 2020년도 국민생활안전 긴급대응연구사업사업 연구개발계획서(양식).zip\n",
      "C:\\mylab\\book\\automate_basic\\download\\(붙임3) 2020년도 국민생활안전 긴급대응연구사업사업 연구개발계획서 기타 증빙(양식).hwp\n",
      "C:\\mylab\\book\\automate_basic\\download\\(붙임4) 2020년도 국민생활안전 긴급대응연구사업 관련 주요 규정 및 지침.hwp\n"
     ]
    }
   ],
   "source": [
    "# DOWNLOAD_DIR 에 있는 파일을 출력하세요 \n",
    "for file in glob.glob(DOWNLOAD_DIR+\"\\\\*.*\"):\n",
    "    print(file)"
   ]
  },
  {
   "cell_type": "code",
   "execution_count": 159,
   "metadata": {},
   "outputs": [],
   "source": [
    "# 이제 파일을 이동하세요 \n",
    "for file in glob.glob(DOWNLOAD_DIR+\"\\\\*.*\"):\n",
    "    #print(file)\n",
    "    shutil.move(file, outpath)"
   ]
  },
  {
   "cell_type": "code",
   "execution_count": 158,
   "metadata": {},
   "outputs": [
    {
     "data": {
      "text/plain": [
       "'C:\\\\mylab\\\\book\\\\automate_basic\\\\download\\\\2020\\\\09\\\\10\\\\2020년도_제4차_국민생활안전_긴급대응연구사업_신규과제_재공모'"
      ]
     },
     "execution_count": 158,
     "metadata": {},
     "output_type": "execute_result"
    }
   ],
   "source": [
    "outpath"
   ]
  },
  {
   "cell_type": "code",
   "execution_count": 165,
   "metadata": {
    "scrolled": true
   },
   "outputs": [
    {
     "name": "stdout",
     "output_type": "stream",
     "text": [
      "(붙임1) 2020년도 제4차 국민생활안전 긴급대응연구사업 신규과제 재공모 공고문.hwp\n",
      "(붙임2) 2020년도 국민생활안전 긴급대응연구사업사업 연구개발계획서(양식).zip\n",
      "(붙임3) 2020년도 국민생활안전 긴급대응연구사업사업 연구개발계획서 기타 증빙(양식).hwp\n",
      "(붙임4) 2020년도 국민생활안전 긴급대응연구사업 관련 주요 규정 및 지침.hwp\n"
     ]
    }
   ],
   "source": [
    "# 잘 이동 되었는지 확인\n",
    "# !ls {outpath} -al\n",
    "!dir {outpath} /b"
   ]
  },
  {
   "cell_type": "code",
   "execution_count": 166,
   "metadata": {},
   "outputs": [
    {
     "data": {
      "text/plain": [
       "True"
      ]
     },
     "execution_count": 166,
     "metadata": {},
     "output_type": "execute_result"
    }
   ],
   "source": [
    "# 존재하는지 체크\n",
    "os.path.exists(outpath)"
   ]
  },
  {
   "cell_type": "code",
   "execution_count": null,
   "metadata": {},
   "outputs": [],
   "source": []
  },
  {
   "cell_type": "code",
   "execution_count": 170,
   "metadata": {},
   "outputs": [
    {
     "data": {
      "text/html": [
       "<div>\n",
       "<style scoped>\n",
       "    .dataframe tbody tr th:only-of-type {\n",
       "        vertical-align: middle;\n",
       "    }\n",
       "\n",
       "    .dataframe tbody tr th {\n",
       "        vertical-align: top;\n",
       "    }\n",
       "\n",
       "    .dataframe thead th {\n",
       "        text-align: right;\n",
       "    }\n",
       "</style>\n",
       "<table border=\"1\" class=\"dataframe\">\n",
       "  <thead>\n",
       "    <tr style=\"text-align: right;\">\n",
       "      <th></th>\n",
       "      <th>사업명</th>\n",
       "      <th>공고_담당자</th>\n",
       "      <th>전화번호</th>\n",
       "      <th>공고일</th>\n",
       "      <th>URL</th>\n",
       "      <th>post_id</th>\n",
       "    </tr>\n",
       "  </thead>\n",
       "  <tbody>\n",
       "    <tr>\n",
       "      <th>1</th>\n",
       "      <td>2020년도 하반기 한-EU 공동연구지원사업 신규과제 공모</td>\n",
       "      <td>구주아프리카협력담당관 : 이세원</td>\n",
       "      <td>044-202-4354</td>\n",
       "      <td>2020.09.29</td>\n",
       "      <td>https://www.msit.go.kr/web/msipContents/conten...</td>\n",
       "      <td>3114913</td>\n",
       "    </tr>\n",
       "    <tr>\n",
       "      <th>2</th>\n",
       "      <td>2020년도 제5차 국민생활안전 긴급대응연구사업 신규과제 공모</td>\n",
       "      <td>공공기술기반팀 : 허대성</td>\n",
       "      <td>044-202-4639</td>\n",
       "      <td>2020.09.28</td>\n",
       "      <td>https://www.msit.go.kr/web/msipContents/conten...</td>\n",
       "      <td>3122773</td>\n",
       "    </tr>\n",
       "  </tbody>\n",
       "</table>\n",
       "</div>"
      ],
      "text/plain": [
       "                                  사업명             공고_담당자          전화번호  \\\n",
       "1    2020년도 하반기 한-EU 공동연구지원사업 신규과제 공모  구주아프리카협력담당관 : 이세원  044-202-4354   \n",
       "2  2020년도 제5차 국민생활안전 긴급대응연구사업 신규과제 공모      공공기술기반팀 : 허대성  044-202-4639   \n",
       "\n",
       "          공고일                                                URL  post_id  \n",
       "1  2020.09.29  https://www.msit.go.kr/web/msipContents/conten...  3114913  \n",
       "2  2020.09.28  https://www.msit.go.kr/web/msipContents/conten...  3122773  "
      ]
     },
     "execution_count": 170,
     "metadata": {},
     "output_type": "execute_result"
    }
   ],
   "source": [
    "df"
   ]
  },
  {
   "cell_type": "code",
   "execution_count": 167,
   "metadata": {},
   "outputs": [
    {
     "data": {
      "text/plain": [
       "'2020년도 제5차 국민생활안전 긴급대응연구사업 신규과제 공모'"
      ]
     },
     "execution_count": 167,
     "metadata": {},
     "output_type": "execute_result"
    }
   ],
   "source": [
    "row.사업명"
   ]
  },
  {
   "cell_type": "code",
   "execution_count": 168,
   "metadata": {},
   "outputs": [
    {
     "data": {
      "text/plain": [
       "'2020//09//28'"
      ]
     },
     "execution_count": 168,
     "metadata": {},
     "output_type": "execute_result"
    }
   ],
   "source": [
    "date = row.공고일.replace(\".\",\"//\")\n",
    "date"
   ]
  },
  {
   "cell_type": "code",
   "execution_count": null,
   "metadata": {},
   "outputs": [],
   "source": []
  },
  {
   "cell_type": "markdown",
   "metadata": {},
   "source": [
    "### refactoring 이전"
   ]
  },
  {
   "cell_type": "markdown",
   "metadata": {},
   "source": [
    "#### 다운로드 대상을 식별한다."
   ]
  },
  {
   "cell_type": "code",
   "execution_count": null,
   "metadata": {},
   "outputs": [],
   "source": []
  },
  {
   "cell_type": "code",
   "execution_count": 171,
   "metadata": {},
   "outputs": [
    {
     "data": {
      "text/plain": [
       "'C:\\\\mylab\\\\book\\\\automate_basic\\\\data\\\\board_list.xlsx'"
      ]
     },
     "execution_count": 171,
     "metadata": {},
     "output_type": "execute_result"
    }
   ],
   "source": [
    "BOARD_LIST_XL"
   ]
  },
  {
   "cell_type": "code",
   "execution_count": 172,
   "metadata": {
    "scrolled": true
   },
   "outputs": [
    {
     "data": {
      "text/html": [
       "<div>\n",
       "<style scoped>\n",
       "    .dataframe tbody tr th:only-of-type {\n",
       "        vertical-align: middle;\n",
       "    }\n",
       "\n",
       "    .dataframe tbody tr th {\n",
       "        vertical-align: top;\n",
       "    }\n",
       "\n",
       "    .dataframe thead th {\n",
       "        text-align: right;\n",
       "    }\n",
       "</style>\n",
       "<table border=\"1\" class=\"dataframe\">\n",
       "  <thead>\n",
       "    <tr style=\"text-align: right;\">\n",
       "      <th></th>\n",
       "      <th>사업명</th>\n",
       "      <th>공고_담당자</th>\n",
       "      <th>전화번호</th>\n",
       "      <th>공고일</th>\n",
       "      <th>URL</th>\n",
       "      <th>post_id</th>\n",
       "    </tr>\n",
       "  </thead>\n",
       "  <tbody>\n",
       "    <tr>\n",
       "      <th>0</th>\n",
       "      <td>2020년도 EU 협력진흥사업 신규과제 공모</td>\n",
       "      <td>구주아프리카협력담당관 : 이세원</td>\n",
       "      <td>044-202-4354</td>\n",
       "      <td>2020.09.29</td>\n",
       "      <td>https://www.msit.go.kr/web/msipContents/conten...</td>\n",
       "      <td>3114914</td>\n",
       "    </tr>\n",
       "    <tr>\n",
       "      <th>1</th>\n",
       "      <td>2020년도 하반기 한-EU 공동연구지원사업 신규과제 공모</td>\n",
       "      <td>구주아프리카협력담당관 : 이세원</td>\n",
       "      <td>044-202-4354</td>\n",
       "      <td>2020.09.29</td>\n",
       "      <td>https://www.msit.go.kr/web/msipContents/conten...</td>\n",
       "      <td>3114913</td>\n",
       "    </tr>\n",
       "    <tr>\n",
       "      <th>2</th>\n",
       "      <td>2020년도 제5차 국민생활안전 긴급대응연구사업 신규과제 공모</td>\n",
       "      <td>공공기술기반팀 : 허대성</td>\n",
       "      <td>044-202-4639</td>\n",
       "      <td>2020.09.28</td>\n",
       "      <td>https://www.msit.go.kr/web/msipContents/conten...</td>\n",
       "      <td>3122773</td>\n",
       "    </tr>\n",
       "    <tr>\n",
       "      <th>3</th>\n",
       "      <td>2020년도 미래국방혁신기술개발사업 신규과제 선정결과 공고</td>\n",
       "      <td>공공기술기반팀 : 허대성</td>\n",
       "      <td>044-202-4639</td>\n",
       "      <td>2020.09.18</td>\n",
       "      <td>https://www.msit.go.kr/web/msipContents/conten...</td>\n",
       "      <td>3103448</td>\n",
       "    </tr>\n",
       "    <tr>\n",
       "      <th>4</th>\n",
       "      <td>2020년도 기초연구실지원(기초연구 정책분야) 신규과제 공모</td>\n",
       "      <td>기초연구진흥과 : 오늘</td>\n",
       "      <td>044-202-4538</td>\n",
       "      <td>2020.09.10</td>\n",
       "      <td>https://www.msit.go.kr/web/msipContents/conten...</td>\n",
       "      <td>3088961</td>\n",
       "    </tr>\n",
       "  </tbody>\n",
       "</table>\n",
       "</div>"
      ],
      "text/plain": [
       "                                  사업명             공고_담당자          전화번호  \\\n",
       "0            2020년도 EU 협력진흥사업 신규과제 공모  구주아프리카협력담당관 : 이세원  044-202-4354   \n",
       "1    2020년도 하반기 한-EU 공동연구지원사업 신규과제 공모  구주아프리카협력담당관 : 이세원  044-202-4354   \n",
       "2  2020년도 제5차 국민생활안전 긴급대응연구사업 신규과제 공모      공공기술기반팀 : 허대성  044-202-4639   \n",
       "3    2020년도 미래국방혁신기술개발사업 신규과제 선정결과 공고      공공기술기반팀 : 허대성  044-202-4639   \n",
       "4   2020년도 기초연구실지원(기초연구 정책분야) 신규과제 공모       기초연구진흥과 : 오늘  044-202-4538   \n",
       "\n",
       "          공고일                                                URL  post_id  \n",
       "0  2020.09.29  https://www.msit.go.kr/web/msipContents/conten...  3114914  \n",
       "1  2020.09.29  https://www.msit.go.kr/web/msipContents/conten...  3114913  \n",
       "2  2020.09.28  https://www.msit.go.kr/web/msipContents/conten...  3122773  \n",
       "3  2020.09.18  https://www.msit.go.kr/web/msipContents/conten...  3103448  \n",
       "4  2020.09.10  https://www.msit.go.kr/web/msipContents/conten...  3088961  "
      ]
     },
     "execution_count": 172,
     "metadata": {},
     "output_type": "execute_result"
    }
   ],
   "source": [
    "# 오늘 조회하여 저장한 게시판 목록을 엑셀에서 가져온다\n",
    "df_today = pd.read_excel(BOARD_LIST_XL, sheet_name='Sheet1') #, index=False\n",
    "df_today.head()"
   ]
  },
  {
   "cell_type": "code",
   "execution_count": 173,
   "metadata": {},
   "outputs": [
    {
     "data": {
      "text/plain": [
       "'C:\\\\mylab\\\\book\\\\automate_basic\\\\data\\\\mail_send_hsitory.xlsx'"
      ]
     },
     "execution_count": 173,
     "metadata": {},
     "output_type": "execute_result"
    }
   ],
   "source": [
    "SEND_HIST_XL"
   ]
  },
  {
   "cell_type": "code",
   "execution_count": 175,
   "metadata": {
    "scrolled": true
   },
   "outputs": [],
   "source": [
    "# 어제 보낸 메일 목록을 가져오세요(엑셀에서)\n",
    "# df_send_hist = pd.???(SEND_HIST_XL) \n",
    "df_send_hist = pd.read_excel(SEND_HIST_XL) "
   ]
  },
  {
   "cell_type": "code",
   "execution_count": 176,
   "metadata": {},
   "outputs": [
    {
     "data": {
      "text/html": [
       "<div>\n",
       "<style scoped>\n",
       "    .dataframe tbody tr th:only-of-type {\n",
       "        vertical-align: middle;\n",
       "    }\n",
       "\n",
       "    .dataframe tbody tr th {\n",
       "        vertical-align: top;\n",
       "    }\n",
       "\n",
       "    .dataframe thead th {\n",
       "        text-align: right;\n",
       "    }\n",
       "</style>\n",
       "<table border=\"1\" class=\"dataframe\">\n",
       "  <thead>\n",
       "    <tr style=\"text-align: right;\">\n",
       "      <th></th>\n",
       "      <th>사업명</th>\n",
       "      <th>공고_담당자</th>\n",
       "      <th>전화번호</th>\n",
       "      <th>공고일</th>\n",
       "      <th>URL</th>\n",
       "      <th>post_id</th>\n",
       "    </tr>\n",
       "  </thead>\n",
       "  <tbody>\n",
       "    <tr>\n",
       "      <th>0</th>\n",
       "      <td>2020년도 제5차 국민생활안전 긴급대응연구사업 신규과제 공모</td>\n",
       "      <td>공공기술기반팀 : 허대성</td>\n",
       "      <td>044-202-4639</td>\n",
       "      <td>2020.09.28</td>\n",
       "      <td>https://www.msit.go.kr/web/msipContents/conten...</td>\n",
       "      <td>3122773</td>\n",
       "    </tr>\n",
       "    <tr>\n",
       "      <th>1</th>\n",
       "      <td>2020년도 미래국방혁신기술개발사업 신규과제 선정결과 공고</td>\n",
       "      <td>공공기술기반팀 : 허대성</td>\n",
       "      <td>044-202-4639</td>\n",
       "      <td>2020.09.18</td>\n",
       "      <td>https://www.msit.go.kr/web/msipContents/conten...</td>\n",
       "      <td>3103448</td>\n",
       "    </tr>\n",
       "    <tr>\n",
       "      <th>2</th>\n",
       "      <td>2020년도 기초연구실지원(기초연구 정책분야) 신규과제 공모</td>\n",
       "      <td>기초연구진흥과 : 오늘</td>\n",
       "      <td>044-202-4538</td>\n",
       "      <td>2020.09.10</td>\n",
       "      <td>https://www.msit.go.kr/web/msipContents/conten...</td>\n",
       "      <td>3088961</td>\n",
       "    </tr>\n",
       "    <tr>\n",
       "      <th>3</th>\n",
       "      <td>2020년도 과학기술정보통신부 비대면 기업홍보 지원사업(언택트 IR) 통합공고</td>\n",
       "      <td>정보통신산업기반과 : 신유진</td>\n",
       "      <td>044-202-6245</td>\n",
       "      <td>2020.09.10</td>\n",
       "      <td>https://www.msit.go.kr/web/msipContents/conten...</td>\n",
       "      <td>3088727</td>\n",
       "    </tr>\n",
       "    <tr>\n",
       "      <th>4</th>\n",
       "      <td>2020년도 제4차 국민생활안전 긴급대응연구사업 신규과제 재공모</td>\n",
       "      <td>공공기술기반팀 : 허대성</td>\n",
       "      <td>044-202-4639</td>\n",
       "      <td>2020.09.10</td>\n",
       "      <td>https://www.msit.go.kr/web/msipContents/conten...</td>\n",
       "      <td>3088726</td>\n",
       "    </tr>\n",
       "  </tbody>\n",
       "</table>\n",
       "</div>"
      ],
      "text/plain": [
       "                                           사업명           공고_담당자          전화번호  \\\n",
       "0           2020년도 제5차 국민생활안전 긴급대응연구사업 신규과제 공모    공공기술기반팀 : 허대성  044-202-4639   \n",
       "1             2020년도 미래국방혁신기술개발사업 신규과제 선정결과 공고    공공기술기반팀 : 허대성  044-202-4639   \n",
       "2            2020년도 기초연구실지원(기초연구 정책분야) 신규과제 공모     기초연구진흥과 : 오늘  044-202-4538   \n",
       "3  2020년도 과학기술정보통신부 비대면 기업홍보 지원사업(언택트 IR) 통합공고  정보통신산업기반과 : 신유진  044-202-6245   \n",
       "4          2020년도 제4차 국민생활안전 긴급대응연구사업 신규과제 재공모    공공기술기반팀 : 허대성  044-202-4639   \n",
       "\n",
       "          공고일                                                URL  post_id  \n",
       "0  2020.09.28  https://www.msit.go.kr/web/msipContents/conten...  3122773  \n",
       "1  2020.09.18  https://www.msit.go.kr/web/msipContents/conten...  3103448  \n",
       "2  2020.09.10  https://www.msit.go.kr/web/msipContents/conten...  3088961  \n",
       "3  2020.09.10  https://www.msit.go.kr/web/msipContents/conten...  3088727  \n",
       "4  2020.09.10  https://www.msit.go.kr/web/msipContents/conten...  3088726  "
      ]
     },
     "execution_count": 176,
     "metadata": {},
     "output_type": "execute_result"
    }
   ],
   "source": [
    "# df_send_hist의 앞부분 5개 를 보시죠\n",
    "df_send_hist.head()"
   ]
  },
  {
   "cell_type": "code",
   "execution_count": 177,
   "metadata": {},
   "outputs": [],
   "source": [
    "# 새로 등록된 게시물 만 찾아 보세요\n",
    "# 다운로드 대상을 식별한다.\n",
    "# indicator 칼럼 추가 > _merge\n",
    "# 왜 이렇게 하는가?\n",
    "# how = 'left'\n",
    "df_merge = df.merge(df_send_hist, how='left', indicator=True)  "
   ]
  },
  {
   "cell_type": "code",
   "execution_count": 178,
   "metadata": {},
   "outputs": [
    {
     "data": {
      "text/html": [
       "<div>\n",
       "<style scoped>\n",
       "    .dataframe tbody tr th:only-of-type {\n",
       "        vertical-align: middle;\n",
       "    }\n",
       "\n",
       "    .dataframe tbody tr th {\n",
       "        vertical-align: top;\n",
       "    }\n",
       "\n",
       "    .dataframe thead th {\n",
       "        text-align: right;\n",
       "    }\n",
       "</style>\n",
       "<table border=\"1\" class=\"dataframe\">\n",
       "  <thead>\n",
       "    <tr style=\"text-align: right;\">\n",
       "      <th></th>\n",
       "      <th>사업명</th>\n",
       "      <th>공고_담당자</th>\n",
       "      <th>전화번호</th>\n",
       "      <th>공고일</th>\n",
       "      <th>URL</th>\n",
       "      <th>post_id</th>\n",
       "      <th>_merge</th>\n",
       "    </tr>\n",
       "  </thead>\n",
       "  <tbody>\n",
       "    <tr>\n",
       "      <th>0</th>\n",
       "      <td>2020년도 하반기 한-EU 공동연구지원사업 신규과제 공모</td>\n",
       "      <td>구주아프리카협력담당관 : 이세원</td>\n",
       "      <td>044-202-4354</td>\n",
       "      <td>2020.09.29</td>\n",
       "      <td>https://www.msit.go.kr/web/msipContents/conten...</td>\n",
       "      <td>3114913</td>\n",
       "      <td>left_only</td>\n",
       "    </tr>\n",
       "    <tr>\n",
       "      <th>1</th>\n",
       "      <td>2020년도 제5차 국민생활안전 긴급대응연구사업 신규과제 공모</td>\n",
       "      <td>공공기술기반팀 : 허대성</td>\n",
       "      <td>044-202-4639</td>\n",
       "      <td>2020.09.28</td>\n",
       "      <td>https://www.msit.go.kr/web/msipContents/conten...</td>\n",
       "      <td>3122773</td>\n",
       "      <td>both</td>\n",
       "    </tr>\n",
       "  </tbody>\n",
       "</table>\n",
       "</div>"
      ],
      "text/plain": [
       "                                  사업명             공고_담당자          전화번호  \\\n",
       "0    2020년도 하반기 한-EU 공동연구지원사업 신규과제 공모  구주아프리카협력담당관 : 이세원  044-202-4354   \n",
       "1  2020년도 제5차 국민생활안전 긴급대응연구사업 신규과제 공모      공공기술기반팀 : 허대성  044-202-4639   \n",
       "\n",
       "          공고일                                                URL  post_id  \\\n",
       "0  2020.09.29  https://www.msit.go.kr/web/msipContents/conten...  3114913   \n",
       "1  2020.09.28  https://www.msit.go.kr/web/msipContents/conten...  3122773   \n",
       "\n",
       "      _merge  \n",
       "0  left_only  \n",
       "1       both  "
      ]
     },
     "execution_count": 178,
     "metadata": {},
     "output_type": "execute_result"
    }
   ],
   "source": [
    "# head를 보시죠\n",
    "df_merge.head()"
   ]
  },
  {
   "cell_type": "code",
   "execution_count": null,
   "metadata": {},
   "outputs": [],
   "source": [
    "# _merge(indicator) 칼럼에  left_only로 마킹된 애들이 새로 등록된 게시물이에요"
   ]
  },
  {
   "cell_type": "code",
   "execution_count": 179,
   "metadata": {},
   "outputs": [
    {
     "data": {
      "text/html": [
       "<div>\n",
       "<style scoped>\n",
       "    .dataframe tbody tr th:only-of-type {\n",
       "        vertical-align: middle;\n",
       "    }\n",
       "\n",
       "    .dataframe tbody tr th {\n",
       "        vertical-align: top;\n",
       "    }\n",
       "\n",
       "    .dataframe thead th {\n",
       "        text-align: right;\n",
       "    }\n",
       "</style>\n",
       "<table border=\"1\" class=\"dataframe\">\n",
       "  <thead>\n",
       "    <tr style=\"text-align: right;\">\n",
       "      <th></th>\n",
       "      <th>사업명</th>\n",
       "      <th>공고_담당자</th>\n",
       "      <th>전화번호</th>\n",
       "      <th>공고일</th>\n",
       "      <th>URL</th>\n",
       "      <th>post_id</th>\n",
       "      <th>_merge</th>\n",
       "    </tr>\n",
       "  </thead>\n",
       "  <tbody>\n",
       "    <tr>\n",
       "      <th>0</th>\n",
       "      <td>2020년도 하반기 한-EU 공동연구지원사업 신규과제 공모</td>\n",
       "      <td>구주아프리카협력담당관 : 이세원</td>\n",
       "      <td>044-202-4354</td>\n",
       "      <td>2020.09.29</td>\n",
       "      <td>https://www.msit.go.kr/web/msipContents/conten...</td>\n",
       "      <td>3114913</td>\n",
       "      <td>left_only</td>\n",
       "    </tr>\n",
       "  </tbody>\n",
       "</table>\n",
       "</div>"
      ],
      "text/plain": [
       "                                사업명             공고_담당자          전화번호  \\\n",
       "0  2020년도 하반기 한-EU 공동연구지원사업 신규과제 공모  구주아프리카협력담당관 : 이세원  044-202-4354   \n",
       "\n",
       "          공고일                                                URL  post_id  \\\n",
       "0  2020.09.29  https://www.msit.go.kr/web/msipContents/conten...  3114913   \n",
       "\n",
       "      _merge  \n",
       "0  left_only  "
      ]
     },
     "execution_count": 179,
     "metadata": {},
     "output_type": "execute_result"
    }
   ],
   "source": [
    "# 새로 등록된 게시물 만 필터링해서 저장\n",
    "# df_merge['_merge']열이 'left_only'인 row만 df_diff에 저장\n",
    "# df_diff= df_merge[ df_merge['_merge'] ?? '??' ]\n",
    "\n",
    "df_diff= df_merge[df_merge['_merge'] == 'left_only']\n",
    "df_diff"
   ]
  },
  {
   "cell_type": "code",
   "execution_count": 181,
   "metadata": {},
   "outputs": [],
   "source": [
    "# _merge 칼럼은 이제 필요 없다. 삭제한다.\n",
    "df_diff = df_diff.drop(columns=['_merge'])"
   ]
  },
  {
   "cell_type": "code",
   "execution_count": null,
   "metadata": {},
   "outputs": [],
   "source": []
  },
  {
   "cell_type": "markdown",
   "metadata": {},
   "source": [
    "### refactoring 이후"
   ]
  },
  {
   "cell_type": "code",
   "execution_count": null,
   "metadata": {},
   "outputs": [],
   "source": []
  },
  {
   "cell_type": "code",
   "execution_count": 182,
   "metadata": {},
   "outputs": [],
   "source": [
    "# 정리를 해보세요.\n",
    "# 다운로드 대상을 식별한다.\n",
    "def get_send_df(new_xls_path, send_hist_xls_path):  #함수 정의   \n",
    "    df = pd.read_excel(new_xls_path, sheet_name='Sheet1') #, index=False\n",
    "    df_send_hist = pd.read_excel(send_hist_xls_path)     \n",
    "    \n",
    "    df_merge = df.merge(df_send_hist, how='left', indicator=True)\n",
    "    df_diff = df_merge[df_merge['_merge'] == 'left_only']\n",
    "    df_diff = df_diff.drop(columns=['_merge'])\n",
    "    return  df_diff"
   ]
  },
  {
   "cell_type": "code",
   "execution_count": null,
   "metadata": {},
   "outputs": [],
   "source": [
    "# df_diff.drop?"
   ]
  },
  {
   "cell_type": "code",
   "execution_count": 183,
   "metadata": {},
   "outputs": [
    {
     "data": {
      "text/plain": [
       "'C:\\\\mylab\\\\book\\\\automate_basic\\\\data\\\\board_list.xlsx'"
      ]
     },
     "execution_count": 183,
     "metadata": {},
     "output_type": "execute_result"
    }
   ],
   "source": [
    "BOARD_LIST_XL"
   ]
  },
  {
   "cell_type": "code",
   "execution_count": 184,
   "metadata": {},
   "outputs": [
    {
     "data": {
      "text/plain": [
       "'C:\\\\mylab\\\\book\\\\automate_basic\\\\data\\\\mail_send_hsitory.xlsx'"
      ]
     },
     "execution_count": 184,
     "metadata": {},
     "output_type": "execute_result"
    }
   ],
   "source": [
    "SEND_HIST_XL"
   ]
  },
  {
   "cell_type": "code",
   "execution_count": 185,
   "metadata": {},
   "outputs": [],
   "source": [
    "df_diff = get_send_df(BOARD_LIST_XL, SEND_HIST_XL)"
   ]
  },
  {
   "cell_type": "code",
   "execution_count": 186,
   "metadata": {},
   "outputs": [
    {
     "data": {
      "text/html": [
       "<div>\n",
       "<style scoped>\n",
       "    .dataframe tbody tr th:only-of-type {\n",
       "        vertical-align: middle;\n",
       "    }\n",
       "\n",
       "    .dataframe tbody tr th {\n",
       "        vertical-align: top;\n",
       "    }\n",
       "\n",
       "    .dataframe thead th {\n",
       "        text-align: right;\n",
       "    }\n",
       "</style>\n",
       "<table border=\"1\" class=\"dataframe\">\n",
       "  <thead>\n",
       "    <tr style=\"text-align: right;\">\n",
       "      <th></th>\n",
       "      <th>사업명</th>\n",
       "      <th>공고_담당자</th>\n",
       "      <th>전화번호</th>\n",
       "      <th>공고일</th>\n",
       "      <th>URL</th>\n",
       "      <th>post_id</th>\n",
       "    </tr>\n",
       "  </thead>\n",
       "  <tbody>\n",
       "    <tr>\n",
       "      <th>0</th>\n",
       "      <td>2020년도 EU 협력진흥사업 신규과제 공모</td>\n",
       "      <td>구주아프리카협력담당관 : 이세원</td>\n",
       "      <td>044-202-4354</td>\n",
       "      <td>2020.09.29</td>\n",
       "      <td>https://www.msit.go.kr/web/msipContents/conten...</td>\n",
       "      <td>3114914</td>\n",
       "    </tr>\n",
       "    <tr>\n",
       "      <th>1</th>\n",
       "      <td>2020년도 하반기 한-EU 공동연구지원사업 신규과제 공모</td>\n",
       "      <td>구주아프리카협력담당관 : 이세원</td>\n",
       "      <td>044-202-4354</td>\n",
       "      <td>2020.09.29</td>\n",
       "      <td>https://www.msit.go.kr/web/msipContents/conten...</td>\n",
       "      <td>3114913</td>\n",
       "    </tr>\n",
       "  </tbody>\n",
       "</table>\n",
       "</div>"
      ],
      "text/plain": [
       "                                사업명             공고_담당자          전화번호  \\\n",
       "0          2020년도 EU 협력진흥사업 신규과제 공모  구주아프리카협력담당관 : 이세원  044-202-4354   \n",
       "1  2020년도 하반기 한-EU 공동연구지원사업 신규과제 공모  구주아프리카협력담당관 : 이세원  044-202-4354   \n",
       "\n",
       "          공고일                                                URL  post_id  \n",
       "0  2020.09.29  https://www.msit.go.kr/web/msipContents/conten...  3114914  \n",
       "1  2020.09.29  https://www.msit.go.kr/web/msipContents/conten...  3114913  "
      ]
     },
     "execution_count": 186,
     "metadata": {},
     "output_type": "execute_result"
    }
   ],
   "source": [
    "df_diff"
   ]
  },
  {
   "cell_type": "code",
   "execution_count": 189,
   "metadata": {},
   "outputs": [],
   "source": [
    "import my_util as ut\n",
    "import time"
   ]
  },
  {
   "cell_type": "code",
   "execution_count": 190,
   "metadata": {},
   "outputs": [],
   "source": [
    "def mkdir_rm(path0):\n",
    "    if os.path.exists(path0):\n",
    "        shutil.rmtree(path0)\n",
    "    time.sleep(0.5)\n",
    "    os.makedirs(path0)"
   ]
  },
  {
   "cell_type": "code",
   "execution_count": 187,
   "metadata": {},
   "outputs": [
    {
     "name": "stdout",
     "output_type": "stream",
     "text": [
      "Pandas(Index=0, 사업명='2020년도 EU 협력진흥사업 신규과제 공모', 공고_담당자='구주아프리카협력담당관 : 이세원', 전화번호='044-202-4354', 공고일='2020.09.29', URL='https://www.msit.go.kr/web/msipContents/contentsView.do?cateId=_tstb17&artId=3114914', post_id=3114914)\n",
      "Pandas(Index=1, 사업명='2020년도 하반기 한-EU 공동연구지원사업 신규과제 공모', 공고_담당자='구주아프리카협력담당관 : 이세원', 전화번호='044-202-4354', 공고일='2020.09.29', URL='https://www.msit.go.kr/web/msipContents/contentsView.do?cateId=_tstb17&artId=3114913', post_id=3114913)\n"
     ]
    }
   ],
   "source": [
    "for row in df_diff.itertuples(index=True):\n",
    "    print(row)"
   ]
  },
  {
   "cell_type": "code",
   "execution_count": 191,
   "metadata": {},
   "outputs": [],
   "source": [
    "# 새롭게 게시된 게시물만 다운로드 한다.\n",
    "for row in df_diff.itertuples(index=True):\n",
    "    driver.get(row.URL) #이동한다\n",
    "    sleep(2) # 게시판의 내용이 조회 완료되어야 함.  2초 기다린다.\n",
    "    date = row.공고일.replace(\".\",\"\\\\\")    \n",
    "    biz_name= biz_name.replace(\" \",\"_\")    \n",
    "    outpath = DOWNLOAD_DIR+\"\\\\{date}\\\\{biz_name}\".format(date=date, biz_name=biz_name) # Path to be saved    \n",
    "    \n",
    "    element = driver.find_element_by_class_name('down_file')\n",
    "    element2 = element.find_element_by_class_name('down_btn')\n",
    "    a_tag_list = element2.find_elements_by_tag_name('a')  \n",
    "    for a_tag in a_tag_list:\n",
    "        onclick_script= a_tag.get_attribute('onclick') # onclick 자바스크립트 문장 저장\n",
    "        if \"filePathEncode(\" in onclick_script: \n",
    "            driver.execute_script(onclick_script, a_tag)  #자바스크립트 실행\n",
    "            sleep(1)\n",
    "            \n",
    "    for file in glob.glob(DOWNLOAD_DIR+\"\\\\*.*\"):\n",
    "        ut.mkdir_rm(outpath)\n",
    "        shutil.move(file, outpath) # 첨부파일을 outpath로 이동한다. "
   ]
  },
  {
   "cell_type": "code",
   "execution_count": null,
   "metadata": {},
   "outputs": [],
   "source": []
  },
  {
   "cell_type": "markdown",
   "metadata": {},
   "source": [
    "## 메일을 보낸다"
   ]
  },
  {
   "cell_type": "code",
   "execution_count": 192,
   "metadata": {},
   "outputs": [
    {
     "data": {
      "text/html": [
       "<div>\n",
       "<style scoped>\n",
       "    .dataframe tbody tr th:only-of-type {\n",
       "        vertical-align: middle;\n",
       "    }\n",
       "\n",
       "    .dataframe tbody tr th {\n",
       "        vertical-align: top;\n",
       "    }\n",
       "\n",
       "    .dataframe thead th {\n",
       "        text-align: right;\n",
       "    }\n",
       "</style>\n",
       "<table border=\"1\" class=\"dataframe\">\n",
       "  <thead>\n",
       "    <tr style=\"text-align: right;\">\n",
       "      <th></th>\n",
       "      <th>사업명</th>\n",
       "      <th>공고_담당자</th>\n",
       "      <th>전화번호</th>\n",
       "      <th>공고일</th>\n",
       "      <th>URL</th>\n",
       "      <th>post_id</th>\n",
       "    </tr>\n",
       "  </thead>\n",
       "  <tbody>\n",
       "    <tr>\n",
       "      <th>0</th>\n",
       "      <td>2020년도 EU 협력진흥사업 신규과제 공모</td>\n",
       "      <td>구주아프리카협력담당관 : 이세원</td>\n",
       "      <td>044-202-4354</td>\n",
       "      <td>2020.09.29</td>\n",
       "      <td>https://www.msit.go.kr/web/msipContents/conten...</td>\n",
       "      <td>3114914</td>\n",
       "    </tr>\n",
       "    <tr>\n",
       "      <th>1</th>\n",
       "      <td>2020년도 하반기 한-EU 공동연구지원사업 신규과제 공모</td>\n",
       "      <td>구주아프리카협력담당관 : 이세원</td>\n",
       "      <td>044-202-4354</td>\n",
       "      <td>2020.09.29</td>\n",
       "      <td>https://www.msit.go.kr/web/msipContents/conten...</td>\n",
       "      <td>3114913</td>\n",
       "    </tr>\n",
       "  </tbody>\n",
       "</table>\n",
       "</div>"
      ],
      "text/plain": [
       "                                사업명             공고_담당자          전화번호  \\\n",
       "0          2020년도 EU 협력진흥사업 신규과제 공모  구주아프리카협력담당관 : 이세원  044-202-4354   \n",
       "1  2020년도 하반기 한-EU 공동연구지원사업 신규과제 공모  구주아프리카협력담당관 : 이세원  044-202-4354   \n",
       "\n",
       "          공고일                                                URL  post_id  \n",
       "0  2020.09.29  https://www.msit.go.kr/web/msipContents/conten...  3114914  \n",
       "1  2020.09.29  https://www.msit.go.kr/web/msipContents/conten...  3114913  "
      ]
     },
     "execution_count": 192,
     "metadata": {},
     "output_type": "execute_result"
    }
   ],
   "source": [
    "df_diff"
   ]
  },
  {
   "cell_type": "code",
   "execution_count": null,
   "metadata": {},
   "outputs": [],
   "source": [
    "# 오늘 다운로드 받은 파일들을 사업별로(폴더별로) zip파일을 만든다."
   ]
  },
  {
   "cell_type": "code",
   "execution_count": null,
   "metadata": {},
   "outputs": [],
   "source": [
    "# 다운로드 폴더를 만든다"
   ]
  },
  {
   "cell_type": "code",
   "execution_count": 193,
   "metadata": {},
   "outputs": [
    {
     "name": "stdout",
     "output_type": "stream",
     "text": [
      "row.공고일 2020.09.29\n",
      "date 2020\\09\\29\n"
     ]
    }
   ],
   "source": [
    "date = row.공고일.replace(\".\", \"\\\\\")\n",
    "print('row.공고일',row.공고일)\n",
    "print('date',date)"
   ]
  },
  {
   "cell_type": "code",
   "execution_count": 194,
   "metadata": {},
   "outputs": [
    {
     "name": "stdout",
     "output_type": "stream",
     "text": [
      "C:\\mylab\\book\\automate_basic\\download\\2020\\09\\29\\2020년도_하반기_한-EU_공동연구지원사업_신규과제_공모\n"
     ]
    }
   ],
   "source": [
    "biz_name= row.사업명.replace(\" \",\"_\")  # 폴더에 space가 있으면 프로그램이 오동작하는 경우가 있다.\n",
    "download_full_path = DOWNLOAD_DIR + \"\\\\{date}\\\\{biz_name}\".format(date=date, biz_name=biz_name)\n",
    "print(download_full_path)"
   ]
  },
  {
   "cell_type": "code",
   "execution_count": null,
   "metadata": {},
   "outputs": [],
   "source": []
  },
  {
   "cell_type": "code",
   "execution_count": 196,
   "metadata": {},
   "outputs": [
    {
     "name": "stdout",
     "output_type": "stream",
     "text": [
      "원본위치 C:\\mylab\\book\\automate_basic\\download\\2020\\09\\29\\2020년도_EU_협력진흥사업_신규과제_공모\n",
      "압축파일 위치 C:\\mylab\\book\\automate_basic\\send_temp\\2020년도 EU 협력진흥사업 신규과제 공모.zip\n",
      "원본위치 C:\\mylab\\book\\automate_basic\\download\\2020\\09\\29\\2020년도_하반기_한-EU_공동연구지원사업_신규과제_공모\n",
      "압축파일 위치 C:\\mylab\\book\\automate_basic\\send_temp\\2020년도 하반기 한-EU 공동연구지원사업 신규과제 공모.zip\n"
     ]
    }
   ],
   "source": [
    "# 사업별로 zip파일을 만든다.\n",
    "from my_util import zip # @@@ zip 처리도 설명해야지.\n",
    "for row in df_diff.itertuples(index=True):    \n",
    "    date = row.공고일.replace(\".\", \"\\\\\")\n",
    "    biz_name= row.사업명.replace(\" \",\"_\")\n",
    "    download_full_path = DOWNLOAD_DIR + \"\\\\{date}\\\\{biz_name}\".format(date=date, biz_name=biz_name)    \n",
    "    print(\"원본위치\", download_full_path)\n",
    "    \n",
    "    file = BASE_DIR+'\\\\send_temp\\\\{f_name}.zip'.format(f_name=row.사업명)\n",
    "    print(\"압축파일 위치\",file)    \n",
    "    zip(download_full_path, file)    "
   ]
  },
  {
   "cell_type": "code",
   "execution_count": null,
   "metadata": {},
   "outputs": [],
   "source": []
  },
  {
   "cell_type": "code",
   "execution_count": null,
   "metadata": {},
   "outputs": [],
   "source": []
  },
  {
   "cell_type": "markdown",
   "metadata": {},
   "source": [
    "#### 오늘 다운로드한 게시물 목록 엑셀을 송부해야 한다."
   ]
  },
  {
   "cell_type": "code",
   "execution_count": 197,
   "metadata": {},
   "outputs": [
    {
     "data": {
      "text/plain": [
       "'C:\\\\mylab\\\\book\\\\automate_basic\\\\data\\\\new_post_list.xlsx'"
      ]
     },
     "execution_count": 197,
     "metadata": {},
     "output_type": "execute_result"
    }
   ],
   "source": [
    "NEW_POST_LIST_XL"
   ]
  },
  {
   "cell_type": "code",
   "execution_count": 198,
   "metadata": {},
   "outputs": [],
   "source": [
    "# 새로운 게시물 목록을 엑셀에 저장하세요\n",
    "# df_diff.to_??(??, encoding='??', index=??) \n",
    "\n",
    "df_diff.to_excel(NEW_POST_LIST_XL, encoding='cp949', index=False) "
   ]
  },
  {
   "cell_type": "code",
   "execution_count": 199,
   "metadata": {},
   "outputs": [
    {
     "data": {
      "text/plain": [
       "'C:\\\\mylab\\\\book\\\\automate_basic\\\\send_temp\\\\new_post_list.xlsx'"
      ]
     },
     "execution_count": 199,
     "metadata": {},
     "output_type": "execute_result"
    }
   ],
   "source": [
    "dest = BASE_DIR+\"\\\\send_temp\\\\{f_name}\".format(f_name='new_post_list.xlsx')\n",
    "dest"
   ]
  },
  {
   "cell_type": "code",
   "execution_count": 200,
   "metadata": {},
   "outputs": [
    {
     "data": {
      "text/plain": [
       "'C:\\\\mylab\\\\book\\\\automate_basic\\\\send_temp\\\\new_post_list.xlsx'"
      ]
     },
     "execution_count": 200,
     "metadata": {},
     "output_type": "execute_result"
    }
   ],
   "source": [
    "# dest(메일 송신 임시 폴더)에 복사하세요\n",
    "# from shutil import copyfile\n",
    "# copyfile(??, ??)\n",
    "\n",
    "from shutil import copyfile\n",
    "copyfile(NEW_POST_LIST_XL, dest)"
   ]
  },
  {
   "cell_type": "code",
   "execution_count": 201,
   "metadata": {},
   "outputs": [
    {
     "name": "stdout",
     "output_type": "stream",
     "text": [
      "C:\\mylab\\book\\automate_basic\\send_temp\n",
      "C:\\mylab\\book\\automate_basic\\send_temp_final\n"
     ]
    }
   ],
   "source": [
    "send_temp_path = BASE_DIR+'\\\\send_temp'\n",
    "send_temp_final_path = BASE_DIR+'\\\\send_temp_final'\n",
    "print(send_temp_path)\n",
    "print(send_temp_final_path)"
   ]
  },
  {
   "cell_type": "code",
   "execution_count": 202,
   "metadata": {},
   "outputs": [
    {
     "name": "stdout",
     "output_type": "stream",
     "text": [
      "2020년도 EU 협력진흥사업 신규과제 공모.zip\n",
      "2020년도 하반기 한-EU 공동연구지원사업 신규과제 공모.zip\n",
      "new_post_list.xlsx\n"
     ]
    }
   ],
   "source": [
    "# 무엇이 있나요?\n",
    "!dir /b C:\\mylab\\book\\automate_basic\\send_temp"
   ]
  },
  {
   "cell_type": "code",
   "execution_count": 203,
   "metadata": {},
   "outputs": [
    {
     "name": "stdout",
     "output_type": "stream",
     "text": [
      "20201004_171022.zip\n"
     ]
    }
   ],
   "source": [
    "!dir /b C:\\mylab\\book\\automate_basic\\send_temp_final"
   ]
  },
  {
   "cell_type": "code",
   "execution_count": null,
   "metadata": {},
   "outputs": [],
   "source": []
  },
  {
   "cell_type": "code",
   "execution_count": 204,
   "metadata": {},
   "outputs": [
    {
     "data": {
      "text/plain": [
       "'20201004_223933'"
      ]
     },
     "execution_count": 204,
     "metadata": {},
     "output_type": "execute_result"
    }
   ],
   "source": [
    "#오늘 날짜로 zip파일을 만들어 첨부하세요\n",
    "#먼저, 오늘 날짜를 만들어 보세요\n",
    "#strftime @@@ 다양한 사례를 보자\n",
    "from datetime import datetime\n",
    "f_name = datetime.now().strftime(\"%Y%m%d_%H%M%S\") #오늘 날짜로 파일명을 만든다\n",
    "f_name"
   ]
  },
  {
   "cell_type": "code",
   "execution_count": 205,
   "metadata": {},
   "outputs": [
    {
     "data": {
      "text/plain": [
       "'C:\\\\mylab\\\\book\\\\automate_basic\\\\send_temp_final\\\\20201004_223933.zip'"
      ]
     },
     "execution_count": 205,
     "metadata": {},
     "output_type": "execute_result"
    }
   ],
   "source": [
    "email_attachment_path = send_temp_final_path + '\\\\{f_name}.zip'.format(f_name=f_name)\n",
    "email_attachment_path"
   ]
  },
  {
   "cell_type": "code",
   "execution_count": 206,
   "metadata": {},
   "outputs": [
    {
     "data": {
      "text/plain": [
       "'ok'"
      ]
     },
     "execution_count": 206,
     "metadata": {},
     "output_type": "execute_result"
    }
   ],
   "source": [
    "# email_attachment_path에 압축파일을 만드세요 \n",
    "zip(send_temp_path, email_attachment_path) #zip @@@"
   ]
  },
  {
   "cell_type": "code",
   "execution_count": 207,
   "metadata": {},
   "outputs": [
    {
     "name": "stdout",
     "output_type": "stream",
     "text": [
      "20201004_171022.zip\n",
      "20201004_223933.zip\n"
     ]
    }
   ],
   "source": [
    "!dir /b C:\\mylab\\book\\automate_basic\\send_temp_final"
   ]
  },
  {
   "cell_type": "code",
   "execution_count": null,
   "metadata": {},
   "outputs": [],
   "source": []
  },
  {
   "cell_type": "code",
   "execution_count": 214,
   "metadata": {},
   "outputs": [],
   "source": [
    "emailfrom = \"kusung25@gmail.com\"\n",
    "emailto   = \"kusung25@naver.com\" \n",
    "subject = \"정보통신부 사업공모 게시판 신규게시물 송신 건\"\n",
    "email_contents_path = 'email_content.txt'"
   ]
  },
  {
   "cell_type": "code",
   "execution_count": 212,
   "metadata": {},
   "outputs": [],
   "source": [
    "# !cat ./email_content.txt"
   ]
  },
  {
   "cell_type": "code",
   "execution_count": null,
   "metadata": {},
   "outputs": [],
   "source": []
  },
  {
   "cell_type": "markdown",
   "metadata": {},
   "source": [
    "#### 메일을 보냅니다.\n",
    "* gmail 설정 방법 설명 필요"
   ]
  },
  {
   "cell_type": "code",
   "execution_count": 215,
   "metadata": {},
   "outputs": [
    {
     "data": {
      "text/plain": [
       "'ok'"
      ]
     },
     "execution_count": 215,
     "metadata": {},
     "output_type": "execute_result"
    }
   ],
   "source": [
    "# 메일을 보냅니다.\n",
    "# gmail 설정 방법 설명 필요 @@@\n",
    "from email_simple import send_mail\n",
    "rc = None\n",
    "rc = send_mail(emailto, subject, email_contents_path, email_attachment_path) #@@@ send_mail 세부설명 필요\n",
    "rc"
   ]
  },
  {
   "cell_type": "code",
   "execution_count": null,
   "metadata": {},
   "outputs": [],
   "source": []
  },
  {
   "cell_type": "markdown",
   "metadata": {},
   "source": [
    "#### 메일을 보낸 후 오늘 처리결과를 반영한다.  board_hsitory\n",
    "게시물을 추가해 저장한다."
   ]
  },
  {
   "cell_type": "code",
   "execution_count": 216,
   "metadata": {},
   "outputs": [],
   "source": [
    "#기존 히스토리\n",
    "df_hsitory = pd.read_excel(SEND_HIST_XL) "
   ]
  },
  {
   "cell_type": "code",
   "execution_count": 217,
   "metadata": {},
   "outputs": [],
   "source": [
    "#기존 히스토리에 오늘 메일 보낸 사업을 추가한다.\n",
    "# pd.concat 설명한다. @@@\n",
    "df_hsitory_new = pd.concat([df_diff, df_hsitory], axis=0).reset_index(drop=True)"
   ]
  },
  {
   "cell_type": "code",
   "execution_count": 218,
   "metadata": {
    "scrolled": true
   },
   "outputs": [
    {
     "data": {
      "text/html": [
       "<div>\n",
       "<style scoped>\n",
       "    .dataframe tbody tr th:only-of-type {\n",
       "        vertical-align: middle;\n",
       "    }\n",
       "\n",
       "    .dataframe tbody tr th {\n",
       "        vertical-align: top;\n",
       "    }\n",
       "\n",
       "    .dataframe thead th {\n",
       "        text-align: right;\n",
       "    }\n",
       "</style>\n",
       "<table border=\"1\" class=\"dataframe\">\n",
       "  <thead>\n",
       "    <tr style=\"text-align: right;\">\n",
       "      <th></th>\n",
       "      <th>사업명</th>\n",
       "      <th>공고_담당자</th>\n",
       "      <th>전화번호</th>\n",
       "      <th>공고일</th>\n",
       "      <th>URL</th>\n",
       "      <th>post_id</th>\n",
       "    </tr>\n",
       "  </thead>\n",
       "  <tbody>\n",
       "    <tr>\n",
       "      <th>0</th>\n",
       "      <td>2020년도 EU 협력진흥사업 신규과제 공모</td>\n",
       "      <td>구주아프리카협력담당관 : 이세원</td>\n",
       "      <td>044-202-4354</td>\n",
       "      <td>2020.09.29</td>\n",
       "      <td>https://www.msit.go.kr/web/msipContents/conten...</td>\n",
       "      <td>3114914</td>\n",
       "    </tr>\n",
       "    <tr>\n",
       "      <th>1</th>\n",
       "      <td>2020년도 하반기 한-EU 공동연구지원사업 신규과제 공모</td>\n",
       "      <td>구주아프리카협력담당관 : 이세원</td>\n",
       "      <td>044-202-4354</td>\n",
       "      <td>2020.09.29</td>\n",
       "      <td>https://www.msit.go.kr/web/msipContents/conten...</td>\n",
       "      <td>3114913</td>\n",
       "    </tr>\n",
       "    <tr>\n",
       "      <th>2</th>\n",
       "      <td>2020년도 제5차 국민생활안전 긴급대응연구사업 신규과제 공모</td>\n",
       "      <td>공공기술기반팀 : 허대성</td>\n",
       "      <td>044-202-4639</td>\n",
       "      <td>2020.09.28</td>\n",
       "      <td>https://www.msit.go.kr/web/msipContents/conten...</td>\n",
       "      <td>3122773</td>\n",
       "    </tr>\n",
       "    <tr>\n",
       "      <th>3</th>\n",
       "      <td>2020년도 미래국방혁신기술개발사업 신규과제 선정결과 공고</td>\n",
       "      <td>공공기술기반팀 : 허대성</td>\n",
       "      <td>044-202-4639</td>\n",
       "      <td>2020.09.18</td>\n",
       "      <td>https://www.msit.go.kr/web/msipContents/conten...</td>\n",
       "      <td>3103448</td>\n",
       "    </tr>\n",
       "    <tr>\n",
       "      <th>4</th>\n",
       "      <td>2020년도 기초연구실지원(기초연구 정책분야) 신규과제 공모</td>\n",
       "      <td>기초연구진흥과 : 오늘</td>\n",
       "      <td>044-202-4538</td>\n",
       "      <td>2020.09.10</td>\n",
       "      <td>https://www.msit.go.kr/web/msipContents/conten...</td>\n",
       "      <td>3088961</td>\n",
       "    </tr>\n",
       "    <tr>\n",
       "      <th>5</th>\n",
       "      <td>2020년도 과학기술정보통신부 비대면 기업홍보 지원사업(언택트 IR) 통합공고</td>\n",
       "      <td>정보통신산업기반과 : 신유진</td>\n",
       "      <td>044-202-6245</td>\n",
       "      <td>2020.09.10</td>\n",
       "      <td>https://www.msit.go.kr/web/msipContents/conten...</td>\n",
       "      <td>3088727</td>\n",
       "    </tr>\n",
       "    <tr>\n",
       "      <th>6</th>\n",
       "      <td>2020년도 제4차 국민생활안전 긴급대응연구사업 신규과제 재공모</td>\n",
       "      <td>공공기술기반팀 : 허대성</td>\n",
       "      <td>044-202-4639</td>\n",
       "      <td>2020.09.10</td>\n",
       "      <td>https://www.msit.go.kr/web/msipContents/conten...</td>\n",
       "      <td>3088726</td>\n",
       "    </tr>\n",
       "    <tr>\n",
       "      <th>7</th>\n",
       "      <td>2020년도 재난안전플랫폼기술개발사업 신규과제 선정결과 공고</td>\n",
       "      <td>공공기술기반팀 : 허대성</td>\n",
       "      <td>044-202-4639</td>\n",
       "      <td>2020.09.07</td>\n",
       "      <td>https://www.msit.go.kr/web/msipContents/conten...</td>\n",
       "      <td>3081711</td>\n",
       "    </tr>\n",
       "    <tr>\n",
       "      <th>8</th>\n",
       "      <td>2020년도 국민생활안전 긴급대응연구사업 신규과제 선정결과 공고</td>\n",
       "      <td>공공기술기반팀 : 허대성</td>\n",
       "      <td>044-202-4639</td>\n",
       "      <td>2020.09.07</td>\n",
       "      <td>https://www.msit.go.kr/web/msipContents/conten...</td>\n",
       "      <td>3081710</td>\n",
       "    </tr>\n",
       "    <tr>\n",
       "      <th>9</th>\n",
       "      <td>2020년도 제2차 해외고급과학자초빙사업 Plus (Brain Pool+) 연장공고</td>\n",
       "      <td>미래인재양성과 : 양성녀</td>\n",
       "      <td>044-202-4836</td>\n",
       "      <td>2020.09.01</td>\n",
       "      <td>https://www.msit.go.kr/web/msipContents/conten...</td>\n",
       "      <td>3067835</td>\n",
       "    </tr>\n",
       "  </tbody>\n",
       "</table>\n",
       "</div>"
      ],
      "text/plain": [
       "                                              사업명             공고_담당자  \\\n",
       "0                        2020년도 EU 협력진흥사업 신규과제 공모  구주아프리카협력담당관 : 이세원   \n",
       "1                2020년도 하반기 한-EU 공동연구지원사업 신규과제 공모  구주아프리카협력담당관 : 이세원   \n",
       "2              2020년도 제5차 국민생활안전 긴급대응연구사업 신규과제 공모      공공기술기반팀 : 허대성   \n",
       "3                2020년도 미래국방혁신기술개발사업 신규과제 선정결과 공고      공공기술기반팀 : 허대성   \n",
       "4               2020년도 기초연구실지원(기초연구 정책분야) 신규과제 공모       기초연구진흥과 : 오늘   \n",
       "5     2020년도 과학기술정보통신부 비대면 기업홍보 지원사업(언택트 IR) 통합공고    정보통신산업기반과 : 신유진   \n",
       "6             2020년도 제4차 국민생활안전 긴급대응연구사업 신규과제 재공모      공공기술기반팀 : 허대성   \n",
       "7               2020년도 재난안전플랫폼기술개발사업 신규과제 선정결과 공고      공공기술기반팀 : 허대성   \n",
       "8             2020년도 국민생활안전 긴급대응연구사업 신규과제 선정결과 공고      공공기술기반팀 : 허대성   \n",
       "9  2020년도 제2차 해외고급과학자초빙사업 Plus (Brain Pool+) 연장공고      미래인재양성과 : 양성녀   \n",
       "\n",
       "           전화번호         공고일  \\\n",
       "0  044-202-4354  2020.09.29   \n",
       "1  044-202-4354  2020.09.29   \n",
       "2  044-202-4639  2020.09.28   \n",
       "3  044-202-4639  2020.09.18   \n",
       "4  044-202-4538  2020.09.10   \n",
       "5  044-202-6245  2020.09.10   \n",
       "6  044-202-4639  2020.09.10   \n",
       "7  044-202-4639  2020.09.07   \n",
       "8  044-202-4639  2020.09.07   \n",
       "9  044-202-4836  2020.09.01   \n",
       "\n",
       "                                                 URL  post_id  \n",
       "0  https://www.msit.go.kr/web/msipContents/conten...  3114914  \n",
       "1  https://www.msit.go.kr/web/msipContents/conten...  3114913  \n",
       "2  https://www.msit.go.kr/web/msipContents/conten...  3122773  \n",
       "3  https://www.msit.go.kr/web/msipContents/conten...  3103448  \n",
       "4  https://www.msit.go.kr/web/msipContents/conten...  3088961  \n",
       "5  https://www.msit.go.kr/web/msipContents/conten...  3088727  \n",
       "6  https://www.msit.go.kr/web/msipContents/conten...  3088726  \n",
       "7  https://www.msit.go.kr/web/msipContents/conten...  3081711  \n",
       "8  https://www.msit.go.kr/web/msipContents/conten...  3081710  \n",
       "9  https://www.msit.go.kr/web/msipContents/conten...  3067835  "
      ]
     },
     "execution_count": 218,
     "metadata": {},
     "output_type": "execute_result"
    }
   ],
   "source": [
    "df_hsitory_new"
   ]
  },
  {
   "cell_type": "markdown",
   "metadata": {},
   "source": [
    "### 정리를 하면"
   ]
  },
  {
   "cell_type": "code",
   "execution_count": 219,
   "metadata": {},
   "outputs": [
    {
     "ename": "PermissionError",
     "evalue": "[WinError 5] 액세스가 거부되었습니다: 'C:\\\\mylab\\\\book\\\\automate_basic\\\\send_temp'",
     "output_type": "error",
     "traceback": [
      "\u001b[1;31m---------------------------------------------------------------------------\u001b[0m",
      "\u001b[1;31mPermissionError\u001b[0m                           Traceback (most recent call last)",
      "\u001b[1;32m<ipython-input-219-e6f65cbbd602>\u001b[0m in \u001b[0;36m<module>\u001b[1;34m\u001b[0m\n\u001b[0;32m      5\u001b[0m     \u001b[1;31m# update history\u001b[0m\u001b[1;33m\u001b[0m\u001b[1;33m\u001b[0m\u001b[1;33m\u001b[0m\u001b[0m\n\u001b[0;32m      6\u001b[0m     \u001b[0mdf_hsitory_new\u001b[0m\u001b[1;33m.\u001b[0m\u001b[0mto_excel\u001b[0m\u001b[1;33m(\u001b[0m\u001b[0mSEND_HIST_XL\u001b[0m\u001b[1;33m,\u001b[0m \u001b[0mencoding\u001b[0m\u001b[1;33m=\u001b[0m\u001b[1;34m'cp949'\u001b[0m\u001b[1;33m,\u001b[0m \u001b[0mindex\u001b[0m\u001b[1;33m=\u001b[0m\u001b[1;32mFalse\u001b[0m\u001b[1;33m)\u001b[0m \u001b[1;31m#encoding='cp949' 이건 뭔가?\u001b[0m\u001b[1;33m\u001b[0m\u001b[1;33m\u001b[0m\u001b[0m\n\u001b[1;32m----> 7\u001b[1;33m     \u001b[0mmkdir_rm\u001b[0m\u001b[1;33m(\u001b[0m\u001b[0msend_temp_path\u001b[0m\u001b[1;33m)\u001b[0m \u001b[1;31m# 임시폴더 삭제\u001b[0m\u001b[1;33m\u001b[0m\u001b[1;33m\u001b[0m\u001b[0m\n\u001b[0m\u001b[0;32m      8\u001b[0m     \u001b[0mmkdir_rm\u001b[0m\u001b[1;33m(\u001b[0m\u001b[0msend_temp_final_path\u001b[0m\u001b[1;33m)\u001b[0m\u001b[1;33m\u001b[0m\u001b[1;33m\u001b[0m\u001b[0m\n\u001b[0;32m      9\u001b[0m     \u001b[0mprint\u001b[0m\u001b[1;33m(\u001b[0m\u001b[1;34m\"ok\"\u001b[0m\u001b[1;33m)\u001b[0m\u001b[1;33m\u001b[0m\u001b[1;33m\u001b[0m\u001b[0m\n",
      "\u001b[1;32m<ipython-input-190-4c071653af61>\u001b[0m in \u001b[0;36mmkdir_rm\u001b[1;34m(path0)\u001b[0m\n\u001b[0;32m      3\u001b[0m         \u001b[0mshutil\u001b[0m\u001b[1;33m.\u001b[0m\u001b[0mrmtree\u001b[0m\u001b[1;33m(\u001b[0m\u001b[0mpath0\u001b[0m\u001b[1;33m)\u001b[0m\u001b[1;33m\u001b[0m\u001b[1;33m\u001b[0m\u001b[0m\n\u001b[0;32m      4\u001b[0m     \u001b[0mtime\u001b[0m\u001b[1;33m.\u001b[0m\u001b[0msleep\u001b[0m\u001b[1;33m(\u001b[0m\u001b[1;36m0.5\u001b[0m\u001b[1;33m)\u001b[0m\u001b[1;33m\u001b[0m\u001b[1;33m\u001b[0m\u001b[0m\n\u001b[1;32m----> 5\u001b[1;33m     \u001b[0mos\u001b[0m\u001b[1;33m.\u001b[0m\u001b[0mmakedirs\u001b[0m\u001b[1;33m(\u001b[0m\u001b[0mpath0\u001b[0m\u001b[1;33m)\u001b[0m\u001b[1;33m\u001b[0m\u001b[1;33m\u001b[0m\u001b[0m\n\u001b[0m",
      "\u001b[1;32mC:\\tools5\\miniconda3\\envs\\book\\lib\\os.py\u001b[0m in \u001b[0;36mmakedirs\u001b[1;34m(name, mode, exist_ok)\u001b[0m\n\u001b[0;32m    218\u001b[0m             \u001b[1;32mreturn\u001b[0m\u001b[1;33m\u001b[0m\u001b[1;33m\u001b[0m\u001b[0m\n\u001b[0;32m    219\u001b[0m     \u001b[1;32mtry\u001b[0m\u001b[1;33m:\u001b[0m\u001b[1;33m\u001b[0m\u001b[1;33m\u001b[0m\u001b[0m\n\u001b[1;32m--> 220\u001b[1;33m         \u001b[0mmkdir\u001b[0m\u001b[1;33m(\u001b[0m\u001b[0mname\u001b[0m\u001b[1;33m,\u001b[0m \u001b[0mmode\u001b[0m\u001b[1;33m)\u001b[0m\u001b[1;33m\u001b[0m\u001b[1;33m\u001b[0m\u001b[0m\n\u001b[0m\u001b[0;32m    221\u001b[0m     \u001b[1;32mexcept\u001b[0m \u001b[0mOSError\u001b[0m\u001b[1;33m:\u001b[0m\u001b[1;33m\u001b[0m\u001b[1;33m\u001b[0m\u001b[0m\n\u001b[0;32m    222\u001b[0m         \u001b[1;31m# Cannot rely on checking for EEXIST, since the operating system\u001b[0m\u001b[1;33m\u001b[0m\u001b[1;33m\u001b[0m\u001b[1;33m\u001b[0m\u001b[0m\n",
      "\u001b[1;31mPermissionError\u001b[0m: [WinError 5] 액세스가 거부되었습니다: 'C:\\\\mylab\\\\book\\\\automate_basic\\\\send_temp'"
     ]
    }
   ],
   "source": [
    "if rc == \"ok\":    \n",
    "    df_hsitory = pd.read_excel(SEND_HIST_XL) \n",
    "    df_hsitory_new = pd.concat([df_diff, df_hsitory], axis=0).reset_index(drop=True)\n",
    "    \n",
    "    # update history\n",
    "    df_hsitory_new.to_excel(SEND_HIST_XL, encoding='cp949', index=False) #encoding='cp949' 이건 뭔가?  \n",
    "    mkdir_rm(send_temp_path) # 임시폴더 삭제\n",
    "    mkdir_rm(send_temp_final_path)\n",
    "    print(\"ok\")"
   ]
  },
  {
   "cell_type": "markdown",
   "metadata": {},
   "source": [
    "## driver.quit()"
   ]
  },
  {
   "cell_type": "code",
   "execution_count": 220,
   "metadata": {},
   "outputs": [],
   "source": [
    "driver.quit()"
   ]
  },
  {
   "cell_type": "code",
   "execution_count": null,
   "metadata": {},
   "outputs": [],
   "source": []
  },
  {
   "cell_type": "raw",
   "metadata": {},
   "source": [
    "try:\n",
    "    driver.get('xxxx') # Your Website Address\n",
    "    password_box = driver.find_element_by_name('password')\n",
    "    password_box.send_keys('xxxx') #Password\n",
    "    download_button = driver.find_element_by_class_name('link_w_pass')\n",
    "    download_button.click()\n",
    "    driver.quit()\n",
    "except:\n",
    "    driver.quit()\n",
    "    print(\"Faulty URL\")"
   ]
  },
  {
   "cell_type": "code",
   "execution_count": null,
   "metadata": {},
   "outputs": [],
   "source": []
  },
  {
   "cell_type": "code",
   "execution_count": null,
   "metadata": {},
   "outputs": [],
   "source": []
  }
 ],
 "metadata": {
  "kernelspec": {
   "display_name": "book",
   "language": "python",
   "name": "book"
  },
  "language_info": {
   "codemirror_mode": {
    "name": "ipython",
    "version": 3
   },
   "file_extension": ".py",
   "mimetype": "text/x-python",
   "name": "python",
   "nbconvert_exporter": "python",
   "pygments_lexer": "ipython3",
   "version": "3.6.12"
  },
  "toc": {
   "base_numbering": 1,
   "nav_menu": {},
   "number_sections": true,
   "sideBar": true,
   "skip_h1_title": false,
   "title_cell": "Table of Contents",
   "title_sidebar": "Contents",
   "toc_cell": false,
   "toc_position": {
    "height": "calc(100% - 180px)",
    "left": "10px",
    "top": "150px",
    "width": "165px"
   },
   "toc_section_display": true,
   "toc_window_display": true
  },
  "toc-autonumbering": true
 },
 "nbformat": 4,
 "nbformat_minor": 4
}
