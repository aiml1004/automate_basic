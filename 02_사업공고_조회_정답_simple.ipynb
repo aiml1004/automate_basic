{
 "cells": [
  {
   "cell_type": "markdown",
   "metadata": {},
   "source": [
    "<!--BOOK_INFORMATION-->\n",
    "<img align=\"left\" style=\"padding-right:10px;\" src=\"figures/PDSH-cover-small.png\">\n",
    "\n",
    "*This notebook contains an excerpt from the [Python Business Automation Handbook](https://smartai1004.tistory.com/46?category=946283) by Smart ICT; \n",
    "the content is available [on GitHub](https://github.com/aiml1004/automate_basic).*\n",
    "\n",
    "*본 자료를 무단 복제, 배포하는 경우에는 저작권법 제97조의 저작재산권침해죄에 해당하여 저작권법에 의거 법적 조치에 처해질 수 있습니다.*\n",
    "*COPYRIGHT ⓒ 2020 SMART ICT ALL RIGHTS RESERVED.* \n",
    "\n",
    "*If you find this content useful, please consider supporting the work by [buying the book](https://kmong.com/gig/233618)!*"
   ]
  },
  {
   "cell_type": "markdown",
   "metadata": {},
   "source": [
    "<!--NAVIGATION-->\n",
    "< [Preface](00.00-Preface.ipynb) | [Contents](00_Index.ipynb) | [Help and Documentation in IPython](01.01-Help-And-Documentation.ipynb) >"
   ]
  },
  {
   "cell_type": "markdown",
   "metadata": {},
   "source": [
    "## 시나리오"
   ]
  },
  {
   "cell_type": "markdown",
   "metadata": {},
   "source": [
    "무엇을 하고 싶은가?  \n",
    "\n",
    "정보통신부 사업공고 게시판의 내용을 확인해 새로운 게시글이 있다면 공공영업팀장 및 팀원들께 메일을 보낸다.   \n",
    "메일은 매일 아침 8시에 자동으로 보낸다. (월~금 weekday에만 수행)  \n",
    "\n",
    "과학기술정보통신부에 접속한다.   \n",
    "사업공고 게시판의 게시글을 엑셀로 저장한다.   \n",
    "어제와 다른 새로운 게시글(사업공고)이 있는지 확인한다.   \n",
    "새로운 게시글의 첨부문서를 다운로드한다.   \n",
    "오늘 다운로드한 게시글을 엑셀로 저장한다.   \n",
    "\n",
    "영업활동에 참고하시도록 영업팀장님께 메일로 보낸다.    \n",
    "  오늘 다운로드한 게시글 엑셀   \n",
    "  신규과제 공고문(신청요강 포함), 연구개발계획서(양식) 등 첨부파일은 사업별로 압축파일을 만든다.   "
   ]
  },
  {
   "cell_type": "markdown",
   "metadata": {},
   "source": [
    "### 제약조건\n",
    "MS 윈도우를 기준으로 작성 했습니다. 제가 맥 사용경험이 없습니다.  \n",
    "다만 리눅스/유닉스에 경험이 있으니 유닉스를 기준으로 말씀드릴수는 있습니다."
   ]
  },
  {
   "cell_type": "code",
   "execution_count": null,
   "metadata": {},
   "outputs": [],
   "source": [
    "# https://cozynow.tistory.com/43"
   ]
  },
  {
   "cell_type": "code",
   "execution_count": null,
   "metadata": {},
   "outputs": [],
   "source": [
    "# 02_사업공고_조회"
   ]
  },
  {
   "cell_type": "code",
   "execution_count": 49,
   "metadata": {},
   "outputs": [],
   "source": [
    "import pandas as pd\n",
    "from time import sleep\n",
    "import os, sys\n",
    "import shutil, glob, time"
   ]
  },
  {
   "cell_type": "code",
   "execution_count": 10,
   "metadata": {},
   "outputs": [],
   "source": [
    "BASE_DIR = 'C:\\\\mylab\\\\book\\\\automate_basic'\n",
    "BOARD_LIST_XL = BASE_DIR+'\\\\data\\\\board_list.xlsx'\n",
    "SEND_HIST_XL  = BASE_DIR+'\\\\data\\\\mail_send_hsitory.xlsx'\n",
    "NEW_POST_LIST_XL = BASE_DIR+'\\\\data\\\\new_post_list.xlsx'\n",
    "DOWNLOAD_DIR = BASE_DIR+'\\\\download' #첨부문서 다운로드 위치. 우리가 원하는 곳에 저장하기 위한 설정"
   ]
  },
  {
   "cell_type": "markdown",
   "metadata": {},
   "source": [
    "## import webdriver "
   ]
  },
  {
   "cell_type": "code",
   "execution_count": 2,
   "metadata": {},
   "outputs": [],
   "source": [
    "from selenium import webdriver\n",
    "chromedriver = \"C:\\\\mylab\\\\book\\\\chromedriver\""
   ]
  },
  {
   "cell_type": "code",
   "execution_count": 3,
   "metadata": {},
   "outputs": [],
   "source": [
    "driver = webdriver.Chrome(chromedriver)"
   ]
  },
  {
   "cell_type": "code",
   "execution_count": null,
   "metadata": {},
   "outputs": [],
   "source": []
  },
  {
   "cell_type": "markdown",
   "metadata": {},
   "source": [
    "### 과학기술정보통신부 사업공고 게시판 HTML 분석"
   ]
  },
  {
   "cell_type": "code",
   "execution_count": 4,
   "metadata": {},
   "outputs": [],
   "source": [
    "# 과학기술정보통신부 사업공고 게시판 \n",
    "# 목적: 구조를 파악한다"
   ]
  },
  {
   "cell_type": "markdown",
   "metadata": {},
   "source": [
    "[과학기술정보통신부 사업공고 게시판](https://www.msit.go.kr/web/msipContents/contents.do?mId=MTAzNQ==)"
   ]
  },
  {
   "cell_type": "code",
   "execution_count": 5,
   "metadata": {},
   "outputs": [],
   "source": [
    "driver.get('https://www.msit.go.kr/web/msipContents/contents.do?mId=MTAzNQ==') # 이 URL은 어떻게 알게 되었는가?"
   ]
  },
  {
   "cell_type": "code",
   "execution_count": null,
   "metadata": {},
   "outputs": [],
   "source": []
  },
  {
   "cell_type": "markdown",
   "metadata": {},
   "source": [
    "## 게시판 게시글을 가져오려면?"
   ]
  },
  {
   "cell_type": "code",
   "execution_count": null,
   "metadata": {},
   "outputs": [],
   "source": [
    "# 어떻게 우리가 원하는 항목을 가져올까요?\n",
    "# 게시판은 어떤식으로 반복되고 있나요?"
   ]
  },
  {
   "cell_type": "raw",
   "metadata": {},
   "source": [
    "# 게시판의 구조\n",
    "<div class=\"board_list\">  ... 생략 ...\n",
    "    <a href=\"/web/msipContents/contentsView.do?cateId=_tstb17&amp;artId=3103448\">\n",
    "        <span class=\"num\">1071</span>\n",
    "        <span class=\"txt\">\n",
    "            <span class=\"title\">\n",
    "              2020년도 미래국방혁신기술개발사업 신규과제 선정결과 공고</span>\n",
    "            <span class=\"meta\">\n",
    "                <span class=\"tit\">부서</span>\n",
    "                <span class=\"con\">공공기술기반팀 : 허대성</span>\n",
    "                <span class=\"tit\">연락처</span>\n",
    "                <span class=\"con\"> 044-202-4639</span>\n",
    "            </span>\n",
    "        </span>   \n",
    "        <span class=\"date\">2020.09.18.</span>\n",
    "     </a>\n",
    "     <a href=\" ... 생략 ...   \n",
    "</div>     "
   ]
  },
  {
   "cell_type": "code",
   "execution_count": null,
   "metadata": {},
   "outputs": [],
   "source": [
    "# driver.find_elements_by_tag_name?"
   ]
  },
  {
   "cell_type": "code",
   "execution_count": 11,
   "metadata": {},
   "outputs": [],
   "source": [
    "elem = driver.find_element_by_class_name('board_list') #왜 class_name 인가?"
   ]
  },
  {
   "cell_type": "code",
   "execution_count": 12,
   "metadata": {},
   "outputs": [],
   "source": [
    "a_tag_list = elem.find_elements_by_tag_name('a') # Returns: - list of WebElement\n",
    "# elements가 복수형이다"
   ]
  },
  {
   "cell_type": "code",
   "execution_count": 13,
   "metadata": {},
   "outputs": [
    {
     "name": "stdout",
     "output_type": "stream",
     "text": [
      "게시글 수는 10개 입니다\n"
     ]
    }
   ],
   "source": [
    "print(\"게시글 수는 \" + str(len(a_tag_list)) +\"개 입니다\") "
   ]
  },
  {
   "cell_type": "code",
   "execution_count": null,
   "metadata": {},
   "outputs": [],
   "source": []
  },
  {
   "cell_type": "code",
   "execution_count": 14,
   "metadata": {},
   "outputs": [
    {
     "data": {
      "text/plain": [
       "'1074\\n2020년도 EU 협력진흥사업 신규과제 공모\\n부서 구주아프리카협력담당관 : 이세원 연락처 044-202-4354\\n첨부파일 2020.09.29.'"
      ]
     },
     "execution_count": 14,
     "metadata": {},
     "output_type": "execute_result"
    }
   ],
   "source": [
    "a_tag_list[0].text # 첫번째 게시글 a_tag text,  \n",
    "#파이썬 리스트인덱스는 0번째 부터 시작한다"
   ]
  },
  {
   "cell_type": "code",
   "execution_count": 15,
   "metadata": {},
   "outputs": [
    {
     "data": {
      "text/plain": [
       "'1073\\n2020년도 하반기 한-EU 공동연구지원사업 신규과제 공모\\n부서 구주아프리카협력담당관 : 이세원 연락처 044-202-4354\\n첨부파일 2020.09.29.'"
      ]
     },
     "execution_count": 15,
     "metadata": {},
     "output_type": "execute_result"
    }
   ],
   "source": [
    "a_tag_list[1].text"
   ]
  },
  {
   "cell_type": "code",
   "execution_count": null,
   "metadata": {},
   "outputs": [],
   "source": []
  },
  {
   "cell_type": "code",
   "execution_count": 16,
   "metadata": {},
   "outputs": [
    {
     "name": "stdout",
     "output_type": "stream",
     "text": [
      "num:  1074\n",
      "title:  2020년도 EU 협력진흥사업 신규과제 공모\n"
     ]
    }
   ],
   "source": [
    "num= a_tag_list[0].find_element_by_class_name('num')\n",
    "print('num: ', num.text)\n",
    "\n",
    "title= a_tag_list[0].find_element_by_class_name('title')\n",
    "print('title: ', title.text)"
   ]
  },
  {
   "cell_type": "code",
   "execution_count": null,
   "metadata": {},
   "outputs": [],
   "source": []
  },
  {
   "cell_type": "markdown",
   "metadata": {},
   "source": [
    "### 부서와 연락처를 추출"
   ]
  },
  {
   "cell_type": "code",
   "execution_count": 17,
   "metadata": {},
   "outputs": [],
   "source": [
    "# 문제점: class 이름이 con으로 동일하다"
   ]
  },
  {
   "cell_type": "raw",
   "metadata": {},
   "source": [
    "# HTML 소스코드 중 발췌\n",
    "<span class=\"meta\">\n",
    "    <span class=\"tit\">부서</span>\n",
    "    <span class=\"con\">공공기술기반팀 : 허대성</span>\n",
    "    <span class=\"tit\">연락처</span>\n",
    "    <span class=\"con\"> 044-202-4639</span>\n",
    "</span>"
   ]
  },
  {
   "cell_type": "code",
   "execution_count": null,
   "metadata": {},
   "outputs": [],
   "source": []
  },
  {
   "cell_type": "code",
   "execution_count": 18,
   "metadata": {},
   "outputs": [
    {
     "data": {
      "text/plain": [
       "'구주아프리카협력담당관 : 이세원'"
      ]
     },
     "execution_count": 18,
     "metadata": {},
     "output_type": "execute_result"
    }
   ],
   "source": [
    "contact = a_tag_list[0].find_element_by_class_name('con') # 이것을 사용하면 안된다. 전화번호를 가져올수 없다.\n",
    "contact.text"
   ]
  },
  {
   "cell_type": "code",
   "execution_count": 19,
   "metadata": {},
   "outputs": [],
   "source": [
    "# elements가 복수형이다, con class를 모두 찾는다.\n",
    "contact_lst= a_tag_list[0].find_elements_by_class_name('con')"
   ]
  },
  {
   "cell_type": "code",
   "execution_count": 20,
   "metadata": {},
   "outputs": [
    {
     "data": {
      "text/plain": [
       "'구주아프리카협력담당관 : 이세원'"
      ]
     },
     "execution_count": 20,
     "metadata": {},
     "output_type": "execute_result"
    }
   ],
   "source": [
    "# 0번째는 부서가 1번째는 전화번호가 저장되어 있다. \n",
    "contact_lst[0].text "
   ]
  },
  {
   "cell_type": "code",
   "execution_count": 21,
   "metadata": {},
   "outputs": [
    {
     "data": {
      "text/plain": [
       "'044-202-4354'"
      ]
     },
     "execution_count": 21,
     "metadata": {},
     "output_type": "execute_result"
    }
   ],
   "source": [
    "contact_lst[1].text"
   ]
  },
  {
   "cell_type": "code",
   "execution_count": null,
   "metadata": {},
   "outputs": [],
   "source": []
  },
  {
   "cell_type": "code",
   "execution_count": 22,
   "metadata": {},
   "outputs": [
    {
     "data": {
      "text/plain": [
       "'2020.09.29.'"
      ]
     },
     "execution_count": 22,
     "metadata": {},
     "output_type": "execute_result"
    }
   ],
   "source": [
    "date= a_tag_list[0].find_element_by_class_name('date') #element 단수형\n",
    "date.text"
   ]
  },
  {
   "cell_type": "code",
   "execution_count": 23,
   "metadata": {},
   "outputs": [
    {
     "data": {
      "text/plain": [
       "'2020.09.29'"
      ]
     },
     "execution_count": 23,
     "metadata": {},
     "output_type": "execute_result"
    }
   ],
   "source": [
    "date.text[0:10] # 마지막에 .이 있다. .을 제거한다."
   ]
  },
  {
   "cell_type": "code",
   "execution_count": 24,
   "metadata": {},
   "outputs": [],
   "source": [
    "# 고유번호로 사용할 만한 것은 무엇인가? 사람의 경우는 주민번호와 같은\n",
    "# 한개의 게시물을 고유하게 식별할 만한 것이 있는가? \n",
    "# 이것으로 어제 올라온 게시물과 비교해 새로운 게시물인지 아는데 활용한다\n",
    "# artId가 고유번호인것 같다. 만약 저런 것이 없다면 사업명으로 구분할수밖에 없을 것같다."
   ]
  },
  {
   "cell_type": "code",
   "execution_count": 25,
   "metadata": {},
   "outputs": [
    {
     "data": {
      "text/plain": [
       "'https://www.msit.go.kr/web/msipContents/contentsView.do?cateId=_tstb17&artId=3114914'"
      ]
     },
     "execution_count": 25,
     "metadata": {},
     "output_type": "execute_result"
    }
   ],
   "source": [
    "u = a_tag_list[0].get_attribute('href') # 키보드 치기 싫어서 짧은 변수에 담는다. 어차피 지울 거라\n",
    "u "
   ]
  },
  {
   "cell_type": "code",
   "execution_count": 26,
   "metadata": {},
   "outputs": [
    {
     "name": "stdout",
     "output_type": "stream",
     "text": [
      "u: https://www.msit.go.kr/web/msipContents/contentsView.do?cateId=_tstb17&artId=3114914\n",
      "\n",
      "찾은 문자열 위치, u.find(\"&artId=\") :  70\n",
      "문자열 길이: 84\n",
      "u[70:84] : &artId=3114914\n",
      "\n",
      "len(find_str) :  7\n",
      "u[70+7:84] :  3114914\n",
      "-----\n",
      "최종 :  3114914\n"
     ]
    }
   ],
   "source": [
    "find_str = \"&artId=\"\n",
    "\n",
    "print(\"u:\", u)\n",
    "print(\"\")\n",
    "print(\"\"\"찾은 문자열 위치, u.find(\"&artId=\") : \"\"\", u.find(\"&artId=\"))\n",
    "print(\"문자열 길이:\", len(u))\n",
    "print(\"u[70:84] :\", u[70:84])\n",
    "print(\"\")\n",
    "\n",
    "print(\"len(find_str) : \", len(find_str))\n",
    "print(\"u[70+7:84] : \", u[70+7:84])\n",
    "\n",
    "print(\"-\"*5)\n",
    "print(\"최종 : \", u[u.find(find_str)+len(find_str):len(u)])"
   ]
  },
  {
   "cell_type": "code",
   "execution_count": 27,
   "metadata": {},
   "outputs": [],
   "source": [
    "rows = [] #게시글을 담을 리스트형 변수 \n",
    "# a_tag_list에서 한줄씩 꺼낸다(to a_tag).\n",
    "# 위에서 테스트한 문장을 정리한다.  a_tag_list[0] --> a_tag 로 변경\n",
    "\n",
    "for a_tag in a_tag_list:   \n",
    "    #print(a_tag.text)\n",
    "    num= a_tag.find_element_by_class_name('num')\n",
    "    title= a_tag.find_element_by_class_name('title')\n",
    "    contact_lst= a_tag.find_elements_by_class_name('con')\n",
    "    date= a_tag.find_element_by_class_name('date')\n",
    "    link = a_tag.get_attribute('href')\n",
    "    \n",
    "    find_str = \"&artId=\"\n",
    "    post_id = link[link.find(find_str)+len(find_str):len(link)]\n",
    "    row = (num.text, title.text, contact_lst[0].text, contact_lst[1].text, date.text[0:10], link, post_id)\n",
    "    rows.append(row)"
   ]
  },
  {
   "cell_type": "code",
   "execution_count": 28,
   "metadata": {},
   "outputs": [
    {
     "name": "stdout",
     "output_type": "stream",
     "text": [
      "('1074', '2020년도 EU 협력진흥사업 신규과제 공모', '구주아프리카협력담당관 : 이세원', '044-202-4354', '2020.09.29', 'https://www.msit.go.kr/web/msipContents/contentsView.do?cateId=_tstb17&artId=3114914', '3114914')\n",
      "('1073', '2020년도 하반기 한-EU 공동연구지원사업 신규과제 공모', '구주아프리카협력담당관 : 이세원', '044-202-4354', '2020.09.29', 'https://www.msit.go.kr/web/msipContents/contentsView.do?cateId=_tstb17&artId=3114913', '3114913')\n"
     ]
    }
   ],
   "source": [
    "print(rows[0])\n",
    "print(rows[1])"
   ]
  },
  {
   "cell_type": "code",
   "execution_count": 29,
   "metadata": {},
   "outputs": [],
   "source": [
    "columns = ['순번', '사업명', '공고_담당자', '전화번호', '공고일', 'URL', 'post_id']"
   ]
  },
  {
   "cell_type": "code",
   "execution_count": 30,
   "metadata": {},
   "outputs": [],
   "source": [
    "df = pd.DataFrame(rows, columns=columns)"
   ]
  },
  {
   "cell_type": "code",
   "execution_count": 31,
   "metadata": {},
   "outputs": [
    {
     "data": {
      "text/html": [
       "<div>\n",
       "<style scoped>\n",
       "    .dataframe tbody tr th:only-of-type {\n",
       "        vertical-align: middle;\n",
       "    }\n",
       "\n",
       "    .dataframe tbody tr th {\n",
       "        vertical-align: top;\n",
       "    }\n",
       "\n",
       "    .dataframe thead th {\n",
       "        text-align: right;\n",
       "    }\n",
       "</style>\n",
       "<table border=\"1\" class=\"dataframe\">\n",
       "  <thead>\n",
       "    <tr style=\"text-align: right;\">\n",
       "      <th></th>\n",
       "      <th>순번</th>\n",
       "      <th>사업명</th>\n",
       "      <th>공고_담당자</th>\n",
       "      <th>전화번호</th>\n",
       "      <th>공고일</th>\n",
       "      <th>URL</th>\n",
       "      <th>post_id</th>\n",
       "    </tr>\n",
       "  </thead>\n",
       "  <tbody>\n",
       "    <tr>\n",
       "      <th>0</th>\n",
       "      <td>1074</td>\n",
       "      <td>2020년도 EU 협력진흥사업 신규과제 공모</td>\n",
       "      <td>구주아프리카협력담당관 : 이세원</td>\n",
       "      <td>044-202-4354</td>\n",
       "      <td>2020.09.29</td>\n",
       "      <td>https://www.msit.go.kr/web/msipContents/conten...</td>\n",
       "      <td>3114914</td>\n",
       "    </tr>\n",
       "    <tr>\n",
       "      <th>1</th>\n",
       "      <td>1073</td>\n",
       "      <td>2020년도 하반기 한-EU 공동연구지원사업 신규과제 공모</td>\n",
       "      <td>구주아프리카협력담당관 : 이세원</td>\n",
       "      <td>044-202-4354</td>\n",
       "      <td>2020.09.29</td>\n",
       "      <td>https://www.msit.go.kr/web/msipContents/conten...</td>\n",
       "      <td>3114913</td>\n",
       "    </tr>\n",
       "    <tr>\n",
       "      <th>2</th>\n",
       "      <td>1072</td>\n",
       "      <td>2020년도 제5차 국민생활안전 긴급대응연구사업 신규과제 공모</td>\n",
       "      <td>공공기술기반팀 : 허대성</td>\n",
       "      <td>044-202-4639</td>\n",
       "      <td>2020.09.28</td>\n",
       "      <td>https://www.msit.go.kr/web/msipContents/conten...</td>\n",
       "      <td>3122773</td>\n",
       "    </tr>\n",
       "    <tr>\n",
       "      <th>3</th>\n",
       "      <td>1071</td>\n",
       "      <td>2020년도 미래국방혁신기술개발사업 신규과제 선정결과 공고</td>\n",
       "      <td>공공기술기반팀 : 허대성</td>\n",
       "      <td>044-202-4639</td>\n",
       "      <td>2020.09.18</td>\n",
       "      <td>https://www.msit.go.kr/web/msipContents/conten...</td>\n",
       "      <td>3103448</td>\n",
       "    </tr>\n",
       "    <tr>\n",
       "      <th>4</th>\n",
       "      <td>1070</td>\n",
       "      <td>2020년도 기초연구실지원(기초연구 정책분야) 신규과제 공모</td>\n",
       "      <td>기초연구진흥과 : 오늘</td>\n",
       "      <td>044-202-4538</td>\n",
       "      <td>2020.09.10</td>\n",
       "      <td>https://www.msit.go.kr/web/msipContents/conten...</td>\n",
       "      <td>3088961</td>\n",
       "    </tr>\n",
       "    <tr>\n",
       "      <th>5</th>\n",
       "      <td>1069</td>\n",
       "      <td>2020년도 과학기술정보통신부 비대면 기업홍보 지원사업(언택트 IR) 통합공고</td>\n",
       "      <td>정보통신산업기반과 : 신유진</td>\n",
       "      <td>044-202-6245</td>\n",
       "      <td>2020.09.10</td>\n",
       "      <td>https://www.msit.go.kr/web/msipContents/conten...</td>\n",
       "      <td>3088727</td>\n",
       "    </tr>\n",
       "    <tr>\n",
       "      <th>6</th>\n",
       "      <td>1068</td>\n",
       "      <td>2020년도 제4차 국민생활안전 긴급대응연구사업 신규과제 재공모</td>\n",
       "      <td>공공기술기반팀 : 허대성</td>\n",
       "      <td>044-202-4639</td>\n",
       "      <td>2020.09.10</td>\n",
       "      <td>https://www.msit.go.kr/web/msipContents/conten...</td>\n",
       "      <td>3088726</td>\n",
       "    </tr>\n",
       "    <tr>\n",
       "      <th>7</th>\n",
       "      <td>1067</td>\n",
       "      <td>2020년도 재난안전플랫폼기술개발사업 신규과제 선정결과 공고</td>\n",
       "      <td>공공기술기반팀 : 허대성</td>\n",
       "      <td>044-202-4639</td>\n",
       "      <td>2020.09.07</td>\n",
       "      <td>https://www.msit.go.kr/web/msipContents/conten...</td>\n",
       "      <td>3081711</td>\n",
       "    </tr>\n",
       "    <tr>\n",
       "      <th>8</th>\n",
       "      <td>1066</td>\n",
       "      <td>2020년도 국민생활안전 긴급대응연구사업 신규과제 선정결과 공고</td>\n",
       "      <td>공공기술기반팀 : 허대성</td>\n",
       "      <td>044-202-4639</td>\n",
       "      <td>2020.09.07</td>\n",
       "      <td>https://www.msit.go.kr/web/msipContents/conten...</td>\n",
       "      <td>3081710</td>\n",
       "    </tr>\n",
       "    <tr>\n",
       "      <th>9</th>\n",
       "      <td>1065</td>\n",
       "      <td>2020년도 제2차 해외고급과학자초빙사업 Plus (Brain Pool+) 연장공고</td>\n",
       "      <td>미래인재양성과 : 양성녀</td>\n",
       "      <td>044-202-4836</td>\n",
       "      <td>2020.09.01</td>\n",
       "      <td>https://www.msit.go.kr/web/msipContents/conten...</td>\n",
       "      <td>3067835</td>\n",
       "    </tr>\n",
       "  </tbody>\n",
       "</table>\n",
       "</div>"
      ],
      "text/plain": [
       "     순번                                             사업명             공고_담당자  \\\n",
       "0  1074                        2020년도 EU 협력진흥사업 신규과제 공모  구주아프리카협력담당관 : 이세원   \n",
       "1  1073                2020년도 하반기 한-EU 공동연구지원사업 신규과제 공모  구주아프리카협력담당관 : 이세원   \n",
       "2  1072              2020년도 제5차 국민생활안전 긴급대응연구사업 신규과제 공모      공공기술기반팀 : 허대성   \n",
       "3  1071                2020년도 미래국방혁신기술개발사업 신규과제 선정결과 공고      공공기술기반팀 : 허대성   \n",
       "4  1070               2020년도 기초연구실지원(기초연구 정책분야) 신규과제 공모       기초연구진흥과 : 오늘   \n",
       "5  1069     2020년도 과학기술정보통신부 비대면 기업홍보 지원사업(언택트 IR) 통합공고    정보통신산업기반과 : 신유진   \n",
       "6  1068             2020년도 제4차 국민생활안전 긴급대응연구사업 신규과제 재공모      공공기술기반팀 : 허대성   \n",
       "7  1067               2020년도 재난안전플랫폼기술개발사업 신규과제 선정결과 공고      공공기술기반팀 : 허대성   \n",
       "8  1066             2020년도 국민생활안전 긴급대응연구사업 신규과제 선정결과 공고      공공기술기반팀 : 허대성   \n",
       "9  1065  2020년도 제2차 해외고급과학자초빙사업 Plus (Brain Pool+) 연장공고      미래인재양성과 : 양성녀   \n",
       "\n",
       "           전화번호         공고일  \\\n",
       "0  044-202-4354  2020.09.29   \n",
       "1  044-202-4354  2020.09.29   \n",
       "2  044-202-4639  2020.09.28   \n",
       "3  044-202-4639  2020.09.18   \n",
       "4  044-202-4538  2020.09.10   \n",
       "5  044-202-6245  2020.09.10   \n",
       "6  044-202-4639  2020.09.10   \n",
       "7  044-202-4639  2020.09.07   \n",
       "8  044-202-4639  2020.09.07   \n",
       "9  044-202-4836  2020.09.01   \n",
       "\n",
       "                                                 URL  post_id  \n",
       "0  https://www.msit.go.kr/web/msipContents/conten...  3114914  \n",
       "1  https://www.msit.go.kr/web/msipContents/conten...  3114913  \n",
       "2  https://www.msit.go.kr/web/msipContents/conten...  3122773  \n",
       "3  https://www.msit.go.kr/web/msipContents/conten...  3103448  \n",
       "4  https://www.msit.go.kr/web/msipContents/conten...  3088961  \n",
       "5  https://www.msit.go.kr/web/msipContents/conten...  3088727  \n",
       "6  https://www.msit.go.kr/web/msipContents/conten...  3088726  \n",
       "7  https://www.msit.go.kr/web/msipContents/conten...  3081711  \n",
       "8  https://www.msit.go.kr/web/msipContents/conten...  3081710  \n",
       "9  https://www.msit.go.kr/web/msipContents/conten...  3067835  "
      ]
     },
     "execution_count": 31,
     "metadata": {},
     "output_type": "execute_result"
    }
   ],
   "source": [
    "df"
   ]
  },
  {
   "cell_type": "code",
   "execution_count": 32,
   "metadata": {},
   "outputs": [],
   "source": [
    "df.to_excel(BOARD_LIST_XL, encoding='cp949', index=False)"
   ]
  },
  {
   "cell_type": "code",
   "execution_count": null,
   "metadata": {},
   "outputs": [],
   "source": []
  },
  {
   "cell_type": "markdown",
   "metadata": {},
   "source": [
    "## 특정 사업공고의 첨부파일을 다운로드 한다"
   ]
  },
  {
   "cell_type": "markdown",
   "metadata": {},
   "source": [
    "### before"
   ]
  },
  {
   "cell_type": "code",
   "execution_count": 34,
   "metadata": {},
   "outputs": [],
   "source": [
    "df = pd.read_excel(BOARD_LIST_XL)"
   ]
  },
  {
   "cell_type": "code",
   "execution_count": 35,
   "metadata": {
    "scrolled": true
   },
   "outputs": [
    {
     "data": {
      "text/html": [
       "<div>\n",
       "<style scoped>\n",
       "    .dataframe tbody tr th:only-of-type {\n",
       "        vertical-align: middle;\n",
       "    }\n",
       "\n",
       "    .dataframe tbody tr th {\n",
       "        vertical-align: top;\n",
       "    }\n",
       "\n",
       "    .dataframe thead th {\n",
       "        text-align: right;\n",
       "    }\n",
       "</style>\n",
       "<table border=\"1\" class=\"dataframe\">\n",
       "  <thead>\n",
       "    <tr style=\"text-align: right;\">\n",
       "      <th></th>\n",
       "      <th>순번</th>\n",
       "      <th>사업명</th>\n",
       "      <th>공고_담당자</th>\n",
       "      <th>전화번호</th>\n",
       "      <th>공고일</th>\n",
       "      <th>URL</th>\n",
       "      <th>post_id</th>\n",
       "    </tr>\n",
       "  </thead>\n",
       "  <tbody>\n",
       "    <tr>\n",
       "      <th>0</th>\n",
       "      <td>1074</td>\n",
       "      <td>2020년도 EU 협력진흥사업 신규과제 공모</td>\n",
       "      <td>구주아프리카협력담당관 : 이세원</td>\n",
       "      <td>044-202-4354</td>\n",
       "      <td>2020.09.29</td>\n",
       "      <td>https://www.msit.go.kr/web/msipContents/conten...</td>\n",
       "      <td>3114914</td>\n",
       "    </tr>\n",
       "    <tr>\n",
       "      <th>1</th>\n",
       "      <td>1073</td>\n",
       "      <td>2020년도 하반기 한-EU 공동연구지원사업 신규과제 공모</td>\n",
       "      <td>구주아프리카협력담당관 : 이세원</td>\n",
       "      <td>044-202-4354</td>\n",
       "      <td>2020.09.29</td>\n",
       "      <td>https://www.msit.go.kr/web/msipContents/conten...</td>\n",
       "      <td>3114913</td>\n",
       "    </tr>\n",
       "    <tr>\n",
       "      <th>2</th>\n",
       "      <td>1072</td>\n",
       "      <td>2020년도 제5차 국민생활안전 긴급대응연구사업 신규과제 공모</td>\n",
       "      <td>공공기술기반팀 : 허대성</td>\n",
       "      <td>044-202-4639</td>\n",
       "      <td>2020.09.28</td>\n",
       "      <td>https://www.msit.go.kr/web/msipContents/conten...</td>\n",
       "      <td>3122773</td>\n",
       "    </tr>\n",
       "    <tr>\n",
       "      <th>3</th>\n",
       "      <td>1071</td>\n",
       "      <td>2020년도 미래국방혁신기술개발사업 신규과제 선정결과 공고</td>\n",
       "      <td>공공기술기반팀 : 허대성</td>\n",
       "      <td>044-202-4639</td>\n",
       "      <td>2020.09.18</td>\n",
       "      <td>https://www.msit.go.kr/web/msipContents/conten...</td>\n",
       "      <td>3103448</td>\n",
       "    </tr>\n",
       "    <tr>\n",
       "      <th>4</th>\n",
       "      <td>1070</td>\n",
       "      <td>2020년도 기초연구실지원(기초연구 정책분야) 신규과제 공모</td>\n",
       "      <td>기초연구진흥과 : 오늘</td>\n",
       "      <td>044-202-4538</td>\n",
       "      <td>2020.09.10</td>\n",
       "      <td>https://www.msit.go.kr/web/msipContents/conten...</td>\n",
       "      <td>3088961</td>\n",
       "    </tr>\n",
       "  </tbody>\n",
       "</table>\n",
       "</div>"
      ],
      "text/plain": [
       "     순번                                 사업명             공고_담당자          전화번호  \\\n",
       "0  1074            2020년도 EU 협력진흥사업 신규과제 공모  구주아프리카협력담당관 : 이세원  044-202-4354   \n",
       "1  1073    2020년도 하반기 한-EU 공동연구지원사업 신규과제 공모  구주아프리카협력담당관 : 이세원  044-202-4354   \n",
       "2  1072  2020년도 제5차 국민생활안전 긴급대응연구사업 신규과제 공모      공공기술기반팀 : 허대성  044-202-4639   \n",
       "3  1071    2020년도 미래국방혁신기술개발사업 신규과제 선정결과 공고      공공기술기반팀 : 허대성  044-202-4639   \n",
       "4  1070   2020년도 기초연구실지원(기초연구 정책분야) 신규과제 공모       기초연구진흥과 : 오늘  044-202-4538   \n",
       "\n",
       "          공고일                                                URL  post_id  \n",
       "0  2020.09.29  https://www.msit.go.kr/web/msipContents/conten...  3114914  \n",
       "1  2020.09.29  https://www.msit.go.kr/web/msipContents/conten...  3114913  \n",
       "2  2020.09.28  https://www.msit.go.kr/web/msipContents/conten...  3122773  \n",
       "3  2020.09.18  https://www.msit.go.kr/web/msipContents/conten...  3103448  \n",
       "4  2020.09.10  https://www.msit.go.kr/web/msipContents/conten...  3088961  "
      ]
     },
     "execution_count": 35,
     "metadata": {},
     "output_type": "execute_result"
    }
   ],
   "source": [
    "df.head()"
   ]
  },
  {
   "cell_type": "code",
   "execution_count": 36,
   "metadata": {},
   "outputs": [
    {
     "data": {
      "text/html": [
       "<div>\n",
       "<style scoped>\n",
       "    .dataframe tbody tr th:only-of-type {\n",
       "        vertical-align: middle;\n",
       "    }\n",
       "\n",
       "    .dataframe tbody tr th {\n",
       "        vertical-align: top;\n",
       "    }\n",
       "\n",
       "    .dataframe thead th {\n",
       "        text-align: right;\n",
       "    }\n",
       "</style>\n",
       "<table border=\"1\" class=\"dataframe\">\n",
       "  <thead>\n",
       "    <tr style=\"text-align: right;\">\n",
       "      <th></th>\n",
       "      <th>순번</th>\n",
       "      <th>사업명</th>\n",
       "      <th>공고_담당자</th>\n",
       "      <th>전화번호</th>\n",
       "      <th>공고일</th>\n",
       "      <th>URL</th>\n",
       "      <th>post_id</th>\n",
       "    </tr>\n",
       "  </thead>\n",
       "  <tbody>\n",
       "    <tr>\n",
       "      <th>0</th>\n",
       "      <td>1074</td>\n",
       "      <td>2020년도 EU 협력진흥사업 신규과제 공모</td>\n",
       "      <td>구주아프리카협력담당관 : 이세원</td>\n",
       "      <td>044-202-4354</td>\n",
       "      <td>2020.09.29</td>\n",
       "      <td>https://www.msit.go.kr/web/msipContents/conten...</td>\n",
       "      <td>3114914</td>\n",
       "    </tr>\n",
       "    <tr>\n",
       "      <th>1</th>\n",
       "      <td>1073</td>\n",
       "      <td>2020년도 하반기 한-EU 공동연구지원사업 신규과제 공모</td>\n",
       "      <td>구주아프리카협력담당관 : 이세원</td>\n",
       "      <td>044-202-4354</td>\n",
       "      <td>2020.09.29</td>\n",
       "      <td>https://www.msit.go.kr/web/msipContents/conten...</td>\n",
       "      <td>3114913</td>\n",
       "    </tr>\n",
       "    <tr>\n",
       "      <th>2</th>\n",
       "      <td>1072</td>\n",
       "      <td>2020년도 제5차 국민생활안전 긴급대응연구사업 신규과제 공모</td>\n",
       "      <td>공공기술기반팀 : 허대성</td>\n",
       "      <td>044-202-4639</td>\n",
       "      <td>2020.09.28</td>\n",
       "      <td>https://www.msit.go.kr/web/msipContents/conten...</td>\n",
       "      <td>3122773</td>\n",
       "    </tr>\n",
       "    <tr>\n",
       "      <th>3</th>\n",
       "      <td>1071</td>\n",
       "      <td>2020년도 미래국방혁신기술개발사업 신규과제 선정결과 공고</td>\n",
       "      <td>공공기술기반팀 : 허대성</td>\n",
       "      <td>044-202-4639</td>\n",
       "      <td>2020.09.18</td>\n",
       "      <td>https://www.msit.go.kr/web/msipContents/conten...</td>\n",
       "      <td>3103448</td>\n",
       "    </tr>\n",
       "    <tr>\n",
       "      <th>4</th>\n",
       "      <td>1070</td>\n",
       "      <td>2020년도 기초연구실지원(기초연구 정책분야) 신규과제 공모</td>\n",
       "      <td>기초연구진흥과 : 오늘</td>\n",
       "      <td>044-202-4538</td>\n",
       "      <td>2020.09.10</td>\n",
       "      <td>https://www.msit.go.kr/web/msipContents/conten...</td>\n",
       "      <td>3088961</td>\n",
       "    </tr>\n",
       "    <tr>\n",
       "      <th>5</th>\n",
       "      <td>1069</td>\n",
       "      <td>2020년도 과학기술정보통신부 비대면 기업홍보 지원사업(언택트 IR) 통합공고</td>\n",
       "      <td>정보통신산업기반과 : 신유진</td>\n",
       "      <td>044-202-6245</td>\n",
       "      <td>2020.09.10</td>\n",
       "      <td>https://www.msit.go.kr/web/msipContents/conten...</td>\n",
       "      <td>3088727</td>\n",
       "    </tr>\n",
       "    <tr>\n",
       "      <th>6</th>\n",
       "      <td>1068</td>\n",
       "      <td>2020년도 제4차 국민생활안전 긴급대응연구사업 신규과제 재공모</td>\n",
       "      <td>공공기술기반팀 : 허대성</td>\n",
       "      <td>044-202-4639</td>\n",
       "      <td>2020.09.10</td>\n",
       "      <td>https://www.msit.go.kr/web/msipContents/conten...</td>\n",
       "      <td>3088726</td>\n",
       "    </tr>\n",
       "    <tr>\n",
       "      <th>7</th>\n",
       "      <td>1067</td>\n",
       "      <td>2020년도 재난안전플랫폼기술개발사업 신규과제 선정결과 공고</td>\n",
       "      <td>공공기술기반팀 : 허대성</td>\n",
       "      <td>044-202-4639</td>\n",
       "      <td>2020.09.07</td>\n",
       "      <td>https://www.msit.go.kr/web/msipContents/conten...</td>\n",
       "      <td>3081711</td>\n",
       "    </tr>\n",
       "    <tr>\n",
       "      <th>8</th>\n",
       "      <td>1066</td>\n",
       "      <td>2020년도 국민생활안전 긴급대응연구사업 신규과제 선정결과 공고</td>\n",
       "      <td>공공기술기반팀 : 허대성</td>\n",
       "      <td>044-202-4639</td>\n",
       "      <td>2020.09.07</td>\n",
       "      <td>https://www.msit.go.kr/web/msipContents/conten...</td>\n",
       "      <td>3081710</td>\n",
       "    </tr>\n",
       "    <tr>\n",
       "      <th>9</th>\n",
       "      <td>1065</td>\n",
       "      <td>2020년도 제2차 해외고급과학자초빙사업 Plus (Brain Pool+) 연장공고</td>\n",
       "      <td>미래인재양성과 : 양성녀</td>\n",
       "      <td>044-202-4836</td>\n",
       "      <td>2020.09.01</td>\n",
       "      <td>https://www.msit.go.kr/web/msipContents/conten...</td>\n",
       "      <td>3067835</td>\n",
       "    </tr>\n",
       "  </tbody>\n",
       "</table>\n",
       "</div>"
      ],
      "text/plain": [
       "     순번                                             사업명             공고_담당자  \\\n",
       "0  1074                        2020년도 EU 협력진흥사업 신규과제 공모  구주아프리카협력담당관 : 이세원   \n",
       "1  1073                2020년도 하반기 한-EU 공동연구지원사업 신규과제 공모  구주아프리카협력담당관 : 이세원   \n",
       "2  1072              2020년도 제5차 국민생활안전 긴급대응연구사업 신규과제 공모      공공기술기반팀 : 허대성   \n",
       "3  1071                2020년도 미래국방혁신기술개발사업 신규과제 선정결과 공고      공공기술기반팀 : 허대성   \n",
       "4  1070               2020년도 기초연구실지원(기초연구 정책분야) 신규과제 공모       기초연구진흥과 : 오늘   \n",
       "5  1069     2020년도 과학기술정보통신부 비대면 기업홍보 지원사업(언택트 IR) 통합공고    정보통신산업기반과 : 신유진   \n",
       "6  1068             2020년도 제4차 국민생활안전 긴급대응연구사업 신규과제 재공모      공공기술기반팀 : 허대성   \n",
       "7  1067               2020년도 재난안전플랫폼기술개발사업 신규과제 선정결과 공고      공공기술기반팀 : 허대성   \n",
       "8  1066             2020년도 국민생활안전 긴급대응연구사업 신규과제 선정결과 공고      공공기술기반팀 : 허대성   \n",
       "9  1065  2020년도 제2차 해외고급과학자초빙사업 Plus (Brain Pool+) 연장공고      미래인재양성과 : 양성녀   \n",
       "\n",
       "           전화번호         공고일  \\\n",
       "0  044-202-4354  2020.09.29   \n",
       "1  044-202-4354  2020.09.29   \n",
       "2  044-202-4639  2020.09.28   \n",
       "3  044-202-4639  2020.09.18   \n",
       "4  044-202-4538  2020.09.10   \n",
       "5  044-202-6245  2020.09.10   \n",
       "6  044-202-4639  2020.09.10   \n",
       "7  044-202-4639  2020.09.07   \n",
       "8  044-202-4639  2020.09.07   \n",
       "9  044-202-4836  2020.09.01   \n",
       "\n",
       "                                                 URL  post_id  \n",
       "0  https://www.msit.go.kr/web/msipContents/conten...  3114914  \n",
       "1  https://www.msit.go.kr/web/msipContents/conten...  3114913  \n",
       "2  https://www.msit.go.kr/web/msipContents/conten...  3122773  \n",
       "3  https://www.msit.go.kr/web/msipContents/conten...  3103448  \n",
       "4  https://www.msit.go.kr/web/msipContents/conten...  3088961  \n",
       "5  https://www.msit.go.kr/web/msipContents/conten...  3088727  \n",
       "6  https://www.msit.go.kr/web/msipContents/conten...  3088726  \n",
       "7  https://www.msit.go.kr/web/msipContents/conten...  3081711  \n",
       "8  https://www.msit.go.kr/web/msipContents/conten...  3081710  \n",
       "9  https://www.msit.go.kr/web/msipContents/conten...  3067835  "
      ]
     },
     "execution_count": 36,
     "metadata": {},
     "output_type": "execute_result"
    }
   ],
   "source": [
    "df"
   ]
  },
  {
   "cell_type": "raw",
   "metadata": {},
   "source": [
    "너무 많은 데이터로 테스트를 하면 시간이 많이 걸린다.\n",
    "몇개만 지정해서 테스트를 하자\n",
    " - 2020년도 미래국방혁신기술개발사업 신규과제 선정결과 공고, 2020년도 제4차 국민생활안전 긴급대응연구사업 신규과제 재공모"
   ]
  },
  {
   "cell_type": "code",
   "execution_count": null,
   "metadata": {},
   "outputs": [],
   "source": [
    "query_str = \"사업명 in ['2020년도 미래국방혁신기술개발사업 신규과제 선정결과 공고', '2020년도 제5차 국민생활안전 긴급대응연구사업 신규과제 공모']\"  #  (소문자 in 연산자)\n",
    "#query_str = \"사업명 == ['2020년도 미래국방혁신기술개발사업 신규과제 선정결과 공고', '2020년도 제4차 국민생활안전 긴급대응연구사업 신규과제 재공모']\" # 위와 동일한 표현식이다\n",
    "df = df.query(query_str)     # 조건 부합 데이터 추출\n",
    "df"
   ]
  },
  {
   "cell_type": "code",
   "execution_count": null,
   "metadata": {},
   "outputs": [],
   "source": [
    "# df.itertuples? \n",
    "# Iterate over DataFrame rows as namedtuples.\n",
    "# namedtuple이란?"
   ]
  },
  {
   "cell_type": "code",
   "execution_count": null,
   "metadata": {},
   "outputs": [],
   "source": [
    "# df.itertuples?\n",
    "for row in df.itertuples(index=True): #dataframe 칼럼명과 동일한 칼럼명을 가진 튜플을 리턴(반환)한다.\n",
    "    print(row.URL)"
   ]
  },
  {
   "cell_type": "code",
   "execution_count": null,
   "metadata": {
    "scrolled": true
   },
   "outputs": [],
   "source": [
    "row"
   ]
  },
  {
   "cell_type": "code",
   "execution_count": null,
   "metadata": {},
   "outputs": [],
   "source": [
    "# Index=3, 순번=1068, 사업명='2020년도 제4차 국민생활안전 긴급대응연구사업 신규과제 재공모',\n",
    "# dataframe의 칼럼명 = 값 형태로 매핑되어 있다.  칼럼명은 다양한 이름으로 불린다. attribute(속성), 변수(variable) 등"
   ]
  },
  {
   "cell_type": "code",
   "execution_count": null,
   "metadata": {},
   "outputs": [],
   "source": [
    "row.URL"
   ]
  },
  {
   "cell_type": "code",
   "execution_count": null,
   "metadata": {},
   "outputs": [],
   "source": []
  },
  {
   "cell_type": "code",
   "execution_count": null,
   "metadata": {},
   "outputs": [],
   "source": [
    "driver.get(row.URL)"
   ]
  },
  {
   "cell_type": "code",
   "execution_count": null,
   "metadata": {},
   "outputs": [],
   "source": [
    "elem = driver.find_element_by_class_name('down_file')"
   ]
  },
  {
   "cell_type": "code",
   "execution_count": null,
   "metadata": {},
   "outputs": [],
   "source": [
    "a_tag_list = elem.find_elements_by_tag_name('a')"
   ]
  },
  {
   "cell_type": "raw",
   "metadata": {},
   "source": [
    "<a href=\"javascript:void(0);\" onclick=\"getExtension_path('/cms/www/officialNews/biz/__icsFiles/afieldfile/2020/08/27/민군기술이전사업 주관기관선정 공고문_2.hwp')\" title=\"새창 열기\">\n",
    "        <script>linkCheck(\"/cms/www/officialNews/biz/__icsFiles/afieldfile/2020/08/27/민군기술이전사업 주관기관선정 공고문_2.hwp\")</script>민군기술이전사업 주관기관선정 공고문_2.hwp\n",
    "</a>\n",
    "<div class=\"down_btn\">\n",
    "    <a href=\"javascript:void(0);\" onclick=\"filePathEncode('/cms/www/officialNews/biz/__icsFiles/afieldfile/2020/08/27/민군기술이전사업 주관기관선정 공고문_2.hwp')\" class=\"down\">다운로드</a>\n",
    "    <a href=\"javascript:void(0);\" onclick=\"getExtension_path('/cms/www/officialNews/biz/__icsFiles/afieldfile/2020/08/27/민군기술이전사업 주관기관선정 공고문_2.hwp')\" class=\"view\" title=\"새창 열림\">바로보기</a>\n",
    "</div>"
   ]
  },
  {
   "cell_type": "code",
   "execution_count": null,
   "metadata": {},
   "outputs": [],
   "source": [
    "a_tag = a_tag_list[0]"
   ]
  },
  {
   "cell_type": "code",
   "execution_count": null,
   "metadata": {},
   "outputs": [],
   "source": [
    "a_tag.text"
   ]
  },
  {
   "cell_type": "code",
   "execution_count": null,
   "metadata": {},
   "outputs": [],
   "source": []
  },
  {
   "cell_type": "code",
   "execution_count": null,
   "metadata": {},
   "outputs": [],
   "source": [
    "# 아래 처럼, 링크가 아닌 자바스크립트가 들어가있는 경우에는 \n",
    "# <a href = '#', onclick = 자바스크립트_명령어> 다운로드 </a>\n",
    "\n",
    "# click() 명령을 하더라도  href 속성 값에 url 주소가 제대로 들어가있지 않기 때문에 해당 주소로 들어갈 수가 없습니다.\n",
    "# 이런 경우에는, onlclick 내부의 명령어가 실행되도록 해야 합니다. "
   ]
  },
  {
   "cell_type": "code",
   "execution_count": null,
   "metadata": {},
   "outputs": [],
   "source": [
    "my_url = a_tag.get_attribute('href')\n",
    "print(my_url)  # javascript:void(0);  원하는 url 아니다."
   ]
  },
  {
   "cell_type": "code",
   "execution_count": null,
   "metadata": {},
   "outputs": [],
   "source": [
    "a_tag_list[0].get_attribute('onclick') # 자바스크립트 문장을 가져온다. "
   ]
  },
  {
   "cell_type": "code",
   "execution_count": null,
   "metadata": {
    "scrolled": true
   },
   "outputs": [],
   "source": [
    "a_tag_list[1].get_attribute('onclick') # 자바스크립트 문장을 가져온다. "
   ]
  },
  {
   "cell_type": "code",
   "execution_count": null,
   "metadata": {},
   "outputs": [],
   "source": [
    "# 우리가 원하는 문장은 1번(a_tag_list[1] )에 들어 있다.  첨부파일은 다운로드에 지정된 문장은 filePathEncode로 시작한다."
   ]
  },
  {
   "cell_type": "code",
   "execution_count": null,
   "metadata": {},
   "outputs": [],
   "source": []
  },
  {
   "cell_type": "code",
   "execution_count": null,
   "metadata": {},
   "outputs": [],
   "source": [
    "for a_tag in a_tag_list: # 어떤 내용이 있는지 전부 출력해 보자.\n",
    "    print(a_tag.get_attribute('onclick'))\n",
    "    print(\"\")"
   ]
  },
  {
   "cell_type": "code",
   "execution_count": null,
   "metadata": {},
   "outputs": [],
   "source": [
    "#filePathEncode 만 출력해보자\n",
    "for a_tag in a_tag_list:\n",
    "    #print(a_tag.get_attribute('onclick'))\n",
    "    txt = a_tag.get_attribute('onclick')\n",
    "    if \"filePathEncode\" in txt:  \n",
    "        print(txt)    "
   ]
  },
  {
   "cell_type": "code",
   "execution_count": null,
   "metadata": {},
   "outputs": [],
   "source": []
  },
  {
   "cell_type": "code",
   "execution_count": null,
   "metadata": {},
   "outputs": [],
   "source": [
    "# 첨부문서가 제대로 다운로드가 되는지 확인해 보자\n",
    "js_script =\"\"\"filePathEncode('/cms/www/officialNews/biz/__icsFiles/afieldfile/2020/09/10/(붙임1) 2020년도 제4차 국민생활안전 긴급대응연구사업 신규과제 재공모 공고문.hwp')\"\"\"\n",
    "driver.execute_script(js_script, a_tag)  #자바 명령어 실행\n",
    "# sleep(1)"
   ]
  },
  {
   "cell_type": "code",
   "execution_count": null,
   "metadata": {},
   "outputs": [],
   "source": [
    "# C:\\Users\\ME\\Downloads 에 다운로드가 된다."
   ]
  },
  {
   "cell_type": "code",
   "execution_count": null,
   "metadata": {},
   "outputs": [],
   "source": []
  },
  {
   "cell_type": "markdown",
   "metadata": {},
   "source": [
    "### refactoring_after"
   ]
  },
  {
   "cell_type": "markdown",
   "metadata": {},
   "source": [
    "#### download default_directory 설정"
   ]
  },
  {
   "cell_type": "code",
   "execution_count": 37,
   "metadata": {},
   "outputs": [],
   "source": [
    "from selenium.webdriver.chrome.options import Options"
   ]
  },
  {
   "cell_type": "code",
   "execution_count": 38,
   "metadata": {},
   "outputs": [],
   "source": [
    "chrome_options = Options()"
   ]
  },
  {
   "cell_type": "code",
   "execution_count": 39,
   "metadata": {},
   "outputs": [],
   "source": [
    "# chrome_options.add_experimental_option?"
   ]
  },
  {
   "cell_type": "code",
   "execution_count": 40,
   "metadata": {},
   "outputs": [],
   "source": [
    "# Adds an experimental option which is passed to chrome.\n",
    "prefs = {\"download.default_directory\" : DOWNLOAD_DIR} # prefs : to specify preferences that will be applied after Chrome starts\n",
    "chrome_options.add_experimental_option(\"prefs\",prefs)  \n",
    "driver = webdriver.Chrome(executable_path=chromedriver, options=chrome_options)"
   ]
  },
  {
   "cell_type": "code",
   "execution_count": null,
   "metadata": {},
   "outputs": [],
   "source": []
  },
  {
   "cell_type": "markdown",
   "metadata": {},
   "source": [
    "## 신규 게시글의 첨부파일만 다운로드 한다"
   ]
  },
  {
   "cell_type": "markdown",
   "metadata": {},
   "source": [
    "### before"
   ]
  },
  {
   "cell_type": "code",
   "execution_count": null,
   "metadata": {},
   "outputs": [],
   "source": [
    "# 첨부 파일 저장 위치 테스트\n",
    "date=\"2020\\\\09\\\\10\"\n",
    "biz_name=\"2020년도 미래국방혁신기술개발사업 신규과제 선정결과 공고\"\n",
    "outpath = DOWNLOAD_DIR+\"\\\\{date1}\\\\{biz_name1}\".format(date1=date, biz_name1=biz_name)\n",
    "outpath"
   ]
  },
  {
   "cell_type": "code",
   "execution_count": null,
   "metadata": {},
   "outputs": [],
   "source": [
    "DOWNLOAD_DIR+\"\\\\*.*\""
   ]
  },
  {
   "cell_type": "code",
   "execution_count": null,
   "metadata": {},
   "outputs": [],
   "source": [
    "# os.makedirs?"
   ]
  },
  {
   "cell_type": "raw",
   "metadata": {},
   "source": [
    "![makedirs](figures/makedirs.PNG)"
   ]
  },
  {
   "cell_type": "code",
   "execution_count": null,
   "metadata": {
    "scrolled": false
   },
   "outputs": [],
   "source": [
    "# DOWNLOAD_DIR의 파일을 이동한다. \n",
    "os.makedirs(outpath) # https://docs.python.org/3/library/os.html 폴더를 만든다.\n",
    "for file in glob.glob(DOWNLOAD_DIR+\"\\\\*.*\"):\n",
    "    print(file)\n",
    "    shutil.move(file, outpath)"
   ]
  },
  {
   "cell_type": "code",
   "execution_count": null,
   "metadata": {},
   "outputs": [],
   "source": [
    "# C:\\mylab\\book\\lecture\\download\\2020\\09\\18\\2020년도 미래국방혁신기술개발사업 신규과제 선정결과 공고\\"
   ]
  },
  {
   "cell_type": "code",
   "execution_count": null,
   "metadata": {},
   "outputs": [],
   "source": [
    "outpath"
   ]
  },
  {
   "cell_type": "code",
   "execution_count": null,
   "metadata": {},
   "outputs": [],
   "source": [
    "os.path.exists(outpath)"
   ]
  },
  {
   "cell_type": "code",
   "execution_count": null,
   "metadata": {},
   "outputs": [],
   "source": []
  },
  {
   "cell_type": "code",
   "execution_count": null,
   "metadata": {},
   "outputs": [],
   "source": [
    "row.사업명"
   ]
  },
  {
   "cell_type": "code",
   "execution_count": null,
   "metadata": {},
   "outputs": [],
   "source": [
    "date = row.공고일.replace(\".\",\"//\")\n",
    "date"
   ]
  },
  {
   "cell_type": "code",
   "execution_count": null,
   "metadata": {},
   "outputs": [],
   "source": [
    "# os.makedirs(outpath);"
   ]
  },
  {
   "cell_type": "code",
   "execution_count": null,
   "metadata": {},
   "outputs": [],
   "source": []
  },
  {
   "cell_type": "code",
   "execution_count": null,
   "metadata": {},
   "outputs": [],
   "source": [
    "df"
   ]
  },
  {
   "cell_type": "code",
   "execution_count": null,
   "metadata": {},
   "outputs": [],
   "source": []
  },
  {
   "cell_type": "markdown",
   "metadata": {},
   "source": [
    "### refactoring"
   ]
  },
  {
   "cell_type": "code",
   "execution_count": null,
   "metadata": {},
   "outputs": [],
   "source": []
  },
  {
   "cell_type": "code",
   "execution_count": 41,
   "metadata": {},
   "outputs": [],
   "source": [
    "# 다운로드 대상을 식별한다.\n",
    "def get_send_df(new_xls_path, send_hist_xls_path):  #함수 정의   \n",
    "    df = pd.read_excel(new_xls_path, sheet_name='Sheet1') #, index=False\n",
    "    df_send_hist = pd.read_excel(send_hist_xls_path)     \n",
    "    \n",
    "    df_merge = df.merge(df_send_hist, how='left', indicator=True)\n",
    "    df_diff = df_merge[df_merge['_merge'] == 'left_only']\n",
    "    df_diff = df_diff.drop(columns=['_merge'])\n",
    "    return  df_diff"
   ]
  },
  {
   "cell_type": "code",
   "execution_count": 42,
   "metadata": {},
   "outputs": [],
   "source": [
    "# df_diff.drop?"
   ]
  },
  {
   "cell_type": "code",
   "execution_count": 43,
   "metadata": {},
   "outputs": [],
   "source": [
    "df_diff = get_send_df(BOARD_LIST_XL, SEND_HIST_XL)"
   ]
  },
  {
   "cell_type": "code",
   "execution_count": 44,
   "metadata": {},
   "outputs": [
    {
     "data": {
      "text/html": [
       "<div>\n",
       "<style scoped>\n",
       "    .dataframe tbody tr th:only-of-type {\n",
       "        vertical-align: middle;\n",
       "    }\n",
       "\n",
       "    .dataframe tbody tr th {\n",
       "        vertical-align: top;\n",
       "    }\n",
       "\n",
       "    .dataframe thead th {\n",
       "        text-align: right;\n",
       "    }\n",
       "</style>\n",
       "<table border=\"1\" class=\"dataframe\">\n",
       "  <thead>\n",
       "    <tr style=\"text-align: right;\">\n",
       "      <th></th>\n",
       "      <th>순번</th>\n",
       "      <th>사업명</th>\n",
       "      <th>공고_담당자</th>\n",
       "      <th>전화번호</th>\n",
       "      <th>공고일</th>\n",
       "      <th>URL</th>\n",
       "      <th>post_id</th>\n",
       "    </tr>\n",
       "  </thead>\n",
       "  <tbody>\n",
       "    <tr>\n",
       "      <th>0</th>\n",
       "      <td>1074</td>\n",
       "      <td>2020년도 EU 협력진흥사업 신규과제 공모</td>\n",
       "      <td>구주아프리카협력담당관 : 이세원</td>\n",
       "      <td>044-202-4354</td>\n",
       "      <td>2020.09.29</td>\n",
       "      <td>https://www.msit.go.kr/web/msipContents/conten...</td>\n",
       "      <td>3114914</td>\n",
       "    </tr>\n",
       "    <tr>\n",
       "      <th>1</th>\n",
       "      <td>1073</td>\n",
       "      <td>2020년도 하반기 한-EU 공동연구지원사업 신규과제 공모</td>\n",
       "      <td>구주아프리카협력담당관 : 이세원</td>\n",
       "      <td>044-202-4354</td>\n",
       "      <td>2020.09.29</td>\n",
       "      <td>https://www.msit.go.kr/web/msipContents/conten...</td>\n",
       "      <td>3114913</td>\n",
       "    </tr>\n",
       "  </tbody>\n",
       "</table>\n",
       "</div>"
      ],
      "text/plain": [
       "     순번                               사업명             공고_담당자          전화번호  \\\n",
       "0  1074          2020년도 EU 협력진흥사업 신규과제 공모  구주아프리카협력담당관 : 이세원  044-202-4354   \n",
       "1  1073  2020년도 하반기 한-EU 공동연구지원사업 신규과제 공모  구주아프리카협력담당관 : 이세원  044-202-4354   \n",
       "\n",
       "          공고일                                                URL  post_id  \n",
       "0  2020.09.29  https://www.msit.go.kr/web/msipContents/conten...  3114914  \n",
       "1  2020.09.29  https://www.msit.go.kr/web/msipContents/conten...  3114913  "
      ]
     },
     "execution_count": 44,
     "metadata": {},
     "output_type": "execute_result"
    }
   ],
   "source": [
    "df_diff"
   ]
  },
  {
   "cell_type": "code",
   "execution_count": 55,
   "metadata": {},
   "outputs": [],
   "source": [
    "import my_util as ut\n",
    "import time\n",
    "def mkdir_rm(path0):\n",
    "    if os.path.exists(path0):\n",
    "        shutil.rmtree(path0)\n",
    "    time.sleep(0.5)\n",
    "    # os.mkdir(path0)\n",
    "    os.makedirs(path0)"
   ]
  },
  {
   "cell_type": "code",
   "execution_count": 56,
   "metadata": {},
   "outputs": [],
   "source": [
    "for row in df_diff.itertuples(index=True):\n",
    "    #print(row.URL)\n",
    "    driver.get(row.URL)\n",
    "    sleep(2) # 게시판의 내용이 조회 완료되어야 함\n",
    "    date = row.공고일.replace(\".\",\"\\\\\")\n",
    "    # Path to be created\n",
    "    outpath = DOWNLOAD_DIR+\"\\\\{date}\\\\{biz_name}\".format(date=date, biz_name=row.사업명)\n",
    "    \n",
    "    elem = driver.find_element_by_class_name('down_file')\n",
    "    a_tag_list = elem.find_elements_by_tag_name('a')  \n",
    "    for a_tag in a_tag_list:        \n",
    "        if \"filePathEncode(\" in a_tag.get_attribute('onclick'): \n",
    "            driver.execute_script(a_tag.get_attribute('onclick'), a_tag)  #자바스크립트 실행\n",
    "            sleep(1)\n",
    "            \n",
    "    for file in glob.glob(DOWNLOAD_DIR+\"\\\\*.*\"):\n",
    "        ut.mkdir_rm(outpath)\n",
    "        shutil.move(file, outpath) #타겟(outpath)이 있으면 에러 발생"
   ]
  },
  {
   "cell_type": "code",
   "execution_count": null,
   "metadata": {},
   "outputs": [],
   "source": []
  },
  {
   "cell_type": "markdown",
   "metadata": {},
   "source": [
    "### refactoring 이전"
   ]
  },
  {
   "cell_type": "code",
   "execution_count": null,
   "metadata": {
    "scrolled": true
   },
   "outputs": [],
   "source": [
    "df = pd.read_excel(BOARD_LIST_XL, sheet_name='Sheet1') #, index=False\n",
    "df.head()"
   ]
  },
  {
   "cell_type": "code",
   "execution_count": null,
   "metadata": {},
   "outputs": [],
   "source": []
  },
  {
   "cell_type": "code",
   "execution_count": null,
   "metadata": {
    "scrolled": true
   },
   "outputs": [],
   "source": [
    "df_send_hist = pd.read_excel(SEND_HIST_XL) \n",
    "df_send_hist.head()"
   ]
  },
  {
   "cell_type": "code",
   "execution_count": null,
   "metadata": {},
   "outputs": [],
   "source": [
    "# 다운로드 대상을 식별한다.\n",
    "df_merge = df.merge(df_send_hist, how='left', indicator=True)  # indicator 칼럼 추가 > _merge"
   ]
  },
  {
   "cell_type": "code",
   "execution_count": null,
   "metadata": {},
   "outputs": [],
   "source": [
    "df_merge.head()"
   ]
  },
  {
   "cell_type": "code",
   "execution_count": null,
   "metadata": {},
   "outputs": [],
   "source": [
    "df_diff= df_merge[df_merge['_merge'] == 'left_only']\n",
    "df_diff"
   ]
  },
  {
   "cell_type": "code",
   "execution_count": null,
   "metadata": {},
   "outputs": [],
   "source": []
  },
  {
   "cell_type": "markdown",
   "metadata": {},
   "source": [
    "## 메일을 보낸다"
   ]
  },
  {
   "cell_type": "code",
   "execution_count": 57,
   "metadata": {
    "scrolled": false
   },
   "outputs": [
    {
     "data": {
      "text/html": [
       "<div>\n",
       "<style scoped>\n",
       "    .dataframe tbody tr th:only-of-type {\n",
       "        vertical-align: middle;\n",
       "    }\n",
       "\n",
       "    .dataframe tbody tr th {\n",
       "        vertical-align: top;\n",
       "    }\n",
       "\n",
       "    .dataframe thead th {\n",
       "        text-align: right;\n",
       "    }\n",
       "</style>\n",
       "<table border=\"1\" class=\"dataframe\">\n",
       "  <thead>\n",
       "    <tr style=\"text-align: right;\">\n",
       "      <th></th>\n",
       "      <th>순번</th>\n",
       "      <th>사업명</th>\n",
       "      <th>공고_담당자</th>\n",
       "      <th>전화번호</th>\n",
       "      <th>공고일</th>\n",
       "      <th>URL</th>\n",
       "      <th>post_id</th>\n",
       "    </tr>\n",
       "  </thead>\n",
       "  <tbody>\n",
       "    <tr>\n",
       "      <th>0</th>\n",
       "      <td>1074</td>\n",
       "      <td>2020년도 EU 협력진흥사업 신규과제 공모</td>\n",
       "      <td>구주아프리카협력담당관 : 이세원</td>\n",
       "      <td>044-202-4354</td>\n",
       "      <td>2020.09.29</td>\n",
       "      <td>https://www.msit.go.kr/web/msipContents/conten...</td>\n",
       "      <td>3114914</td>\n",
       "    </tr>\n",
       "    <tr>\n",
       "      <th>1</th>\n",
       "      <td>1073</td>\n",
       "      <td>2020년도 하반기 한-EU 공동연구지원사업 신규과제 공모</td>\n",
       "      <td>구주아프리카협력담당관 : 이세원</td>\n",
       "      <td>044-202-4354</td>\n",
       "      <td>2020.09.29</td>\n",
       "      <td>https://www.msit.go.kr/web/msipContents/conten...</td>\n",
       "      <td>3114913</td>\n",
       "    </tr>\n",
       "  </tbody>\n",
       "</table>\n",
       "</div>"
      ],
      "text/plain": [
       "     순번                               사업명             공고_담당자          전화번호  \\\n",
       "0  1074          2020년도 EU 협력진흥사업 신규과제 공모  구주아프리카협력담당관 : 이세원  044-202-4354   \n",
       "1  1073  2020년도 하반기 한-EU 공동연구지원사업 신규과제 공모  구주아프리카협력담당관 : 이세원  044-202-4354   \n",
       "\n",
       "          공고일                                                URL  post_id  \n",
       "0  2020.09.29  https://www.msit.go.kr/web/msipContents/conten...  3114914  \n",
       "1  2020.09.29  https://www.msit.go.kr/web/msipContents/conten...  3114913  "
      ]
     },
     "execution_count": 57,
     "metadata": {},
     "output_type": "execute_result"
    }
   ],
   "source": [
    "df_diff"
   ]
  },
  {
   "cell_type": "code",
   "execution_count": 58,
   "metadata": {},
   "outputs": [
    {
     "name": "stdout",
     "output_type": "stream",
     "text": [
      "C:\\mylab\\book\\automate_basic\\download\\2020\\09\\29\\2020년도 EU 협력진흥사업 신규과제 공모\n",
      "C:\\mylab\\book\\automate_basic\\send_temp\\2020년도 EU 협력진흥사업 신규과제 공모.zip\n",
      "C:\\mylab\\book\\automate_basic\\download\\2020\\09\\29\\2020년도 하반기 한-EU 공동연구지원사업 신규과제 공모\n",
      "C:\\mylab\\book\\automate_basic\\send_temp\\2020년도 하반기 한-EU 공동연구지원사업 신규과제 공모.zip\n"
     ]
    }
   ],
   "source": [
    "from my_util import zip\n",
    "for row in df_diff.itertuples(index=True):    \n",
    "    date = row.공고일.replace(\".\",\"\\\\\")\n",
    "    download_full_path = DOWNLOAD_DIR+\"\\\\{date}\\\\{biz_name}\".format(date=date, biz_name=row.사업명)\n",
    "    print(download_full_path)\n",
    "    file = BASE_DIR+'\\\\send_temp\\\\{f_name}.zip'.format(f_name=row.사업명)\n",
    "    print(file)    \n",
    "    zip(download_full_path, file)    "
   ]
  },
  {
   "cell_type": "code",
   "execution_count": 64,
   "metadata": {},
   "outputs": [
    {
     "data": {
      "text/plain": [
       "'C:\\\\mylab\\\\book\\\\automate_basic\\\\data\\\\new_post_list.xlsx'"
      ]
     },
     "execution_count": 64,
     "metadata": {},
     "output_type": "execute_result"
    }
   ],
   "source": [
    "NEW_POST_LIST_XL"
   ]
  },
  {
   "cell_type": "code",
   "execution_count": 59,
   "metadata": {},
   "outputs": [],
   "source": [
    "df_diff.to_excel(NEW_POST_LIST_XL, encoding='cp949', index=False) # 새로운 게시물 목록을 엑셀에 저장"
   ]
  },
  {
   "cell_type": "code",
   "execution_count": 65,
   "metadata": {},
   "outputs": [
    {
     "data": {
      "text/plain": [
       "'C:\\\\mylab\\\\book\\\\automate_basic\\\\send_temp\\\\new_post_list.xlsx'"
      ]
     },
     "execution_count": 65,
     "metadata": {},
     "output_type": "execute_result"
    }
   ],
   "source": [
    "dest = BASE_DIR+\"\\\\send_temp\\\\{f_name}\".format(f_name='new_post_list.xlsx')\n",
    "dest"
   ]
  },
  {
   "cell_type": "code",
   "execution_count": 66,
   "metadata": {},
   "outputs": [
    {
     "data": {
      "text/plain": [
       "'C:\\\\mylab\\\\book\\\\automate_basic\\\\send_temp\\\\new_post_list.xlsx'"
      ]
     },
     "execution_count": 66,
     "metadata": {},
     "output_type": "execute_result"
    }
   ],
   "source": [
    "from shutil import copyfile\n",
    "copyfile(NEW_POST_LIST_XL, dest)"
   ]
  },
  {
   "cell_type": "code",
   "execution_count": 67,
   "metadata": {},
   "outputs": [],
   "source": [
    "send_temp_path = BASE_DIR+'\\\\send_temp'\n",
    "send_temp_final_path = BASE_DIR+'\\\\send_temp_final'"
   ]
  },
  {
   "cell_type": "code",
   "execution_count": 68,
   "metadata": {},
   "outputs": [
    {
     "data": {
      "text/plain": [
       "'ok'"
      ]
     },
     "execution_count": 68,
     "metadata": {},
     "output_type": "execute_result"
    }
   ],
   "source": [
    "from datetime import datetime\n",
    "f_name = datetime.now().strftime(\"%Y%m%d_%H%M%S\") #오늘 날짜로 파일명을 만든다\n",
    "email_attachment_path   = send_temp_final_path + '\\\\{f_name}.zip'.format(f_name=f_name)\n",
    "zip(send_temp_path, email_attachment_path)"
   ]
  },
  {
   "cell_type": "code",
   "execution_count": 69,
   "metadata": {},
   "outputs": [],
   "source": [
    "emailfrom = \"kusung25@gmail.com\"\n",
    "emailto   = \"kusung25@naver.com\" \n",
    "subject = \"정보통신부 사업공모 게시판 신규게시물 송신 건\"\n",
    "email_contents_path = 'email_content.txt'"
   ]
  },
  {
   "cell_type": "code",
   "execution_count": 70,
   "metadata": {},
   "outputs": [],
   "source": [
    "from email_simple import send_mail\n",
    "rc = None\n",
    "rc = send_mail(emailto, subject, email_contents_path, email_attachment_path)"
   ]
  },
  {
   "cell_type": "code",
   "execution_count": 51,
   "metadata": {},
   "outputs": [],
   "source": []
  },
  {
   "cell_type": "markdown",
   "metadata": {},
   "source": [
    "#### 메일을 보낸 후 오늘 처리결과를 반영한다.  board_hsitory\n",
    "게시물을 추가해 저장한다."
   ]
  },
  {
   "cell_type": "code",
   "execution_count": 71,
   "metadata": {},
   "outputs": [],
   "source": [
    "if rc == \"ok\":    \n",
    "    df_hsitory = pd.read_excel(SEND_HIST_XL) \n",
    "    df_hsitory_new = pd.concat([df_diff, df_hsitory], axis=0).reset_index(drop=True)\n",
    "    \n",
    "    # update history\n",
    "    df_hsitory_new.to_excel(SEND_HIST_XL, encoding='cp949', index=False) #encoding='cp949' 이건 뭔가?  \n",
    "    mkdir_rm(send_temp_path) # 임시폴더 삭제\n",
    "    mkdir_rm(send_temp_final_path)\n",
    "    print(\"ok\")"
   ]
  },
  {
   "cell_type": "markdown",
   "metadata": {},
   "source": [
    "## driver.quit()"
   ]
  },
  {
   "cell_type": "code",
   "execution_count": 72,
   "metadata": {},
   "outputs": [],
   "source": [
    "driver.quit()"
   ]
  },
  {
   "cell_type": "code",
   "execution_count": null,
   "metadata": {},
   "outputs": [],
   "source": []
  },
  {
   "cell_type": "raw",
   "metadata": {},
   "source": [
    "try:\n",
    "    driver.get('xxxx') # Your Website Address\n",
    "    password_box = driver.find_element_by_name('password')\n",
    "    password_box.send_keys('xxxx') #Password\n",
    "    download_button = driver.find_element_by_class_name('link_w_pass')\n",
    "    download_button.click()\n",
    "    driver.quit()\n",
    "except:\n",
    "    driver.quit()\n",
    "    print(\"Faulty URL\")"
   ]
  },
  {
   "cell_type": "code",
   "execution_count": null,
   "metadata": {},
   "outputs": [],
   "source": []
  },
  {
   "cell_type": "code",
   "execution_count": null,
   "metadata": {},
   "outputs": [],
   "source": []
  }
 ],
 "metadata": {
  "kernelspec": {
   "display_name": "book",
   "language": "python",
   "name": "book"
  },
  "language_info": {
   "codemirror_mode": {
    "name": "ipython",
    "version": 3
   },
   "file_extension": ".py",
   "mimetype": "text/x-python",
   "name": "python",
   "nbconvert_exporter": "python",
   "pygments_lexer": "ipython3",
   "version": "3.7.9"
  },
  "toc": {
   "base_numbering": 1,
   "nav_menu": {},
   "number_sections": true,
   "sideBar": true,
   "skip_h1_title": false,
   "title_cell": "Table of Contents",
   "title_sidebar": "Contents",
   "toc_cell": false,
   "toc_position": {
    "height": "calc(100% - 180px)",
    "left": "10px",
    "top": "150px",
    "width": "287.017px"
   },
   "toc_section_display": true,
   "toc_window_display": true
  }
 },
 "nbformat": 4,
 "nbformat_minor": 4
}
