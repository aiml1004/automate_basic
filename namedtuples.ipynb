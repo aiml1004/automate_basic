{
 "cells": [
  {
   "cell_type": "markdown",
   "metadata": {},
   "source": [
    "https://velog.io/@muchogusto/Data-Model-1\n",
    "\n",
    "https://docs.python.org/3/library/collections.html#collections.namedtuple\n",
    "\n",
    "https://www.google.com/imgres?imgurl=https%3A%2F%2Fimage.slidesharecdn.com%2Fpythonadvanced-151127114045-lva1-app6891%2F95%2Fpython-advanced-building-on-the-foundation-97-638.jpg%3Fcb%3D1448910770&imgrefurl=https%3A%2F%2Fwww.slideshare.net%2FKevlin%2Fpython-advanced-building-on-the-foundation%2F97-namedtuple_namedtuple_allows_the_creation&tbnid=-7HH_bA2LuqjkM&vet=12ahUKEwiU6ZX07ozsAhU5KqYKHYB9Df0QMygBegUIARCUAQ..i&docid=e5VnE9jrlj1TUM&w=638&h=479&q=namedtuples%20python&hl=ko&ved=2ahUKEwiU6ZX07ozsAhU5KqYKHYB9Df0QMygBegUIARCUAQ\n",
    "\n",
    "https://excelsior-cjh.tistory.com/97\n",
    "\n",
    "http://zetcode.com/python/namedtuple/"
   ]
  },
  {
   "cell_type": "markdown",
   "metadata": {},
   "source": [
    "## namedtuple python"
   ]
  },
  {
   "cell_type": "raw",
   "metadata": {},
   "source": [
    "Returns a new subclass of tuple with named fields.\n",
    "namedtuple allows the creation of a tuple type with named attributes. \n",
    "can still be indexed and iterated\n",
    "namedtuple is subclass of tuple \n",
    "\n",
    "# 일반적인 튜플 사용 vs. named tuple 사용\n",
    "# 튜플은 변경 불가\n",
    "# 튜플은 리스트보다 빠름\n",
    "# 0번은 name, 1번은 age  이렇게 주석을 달거나 해야함. 이런 불편함 때문에 네임드 튜플이 등장함. named fields"
   ]
  },
  {
   "cell_type": "code",
   "execution_count": null,
   "metadata": {},
   "outputs": [],
   "source": []
  },
  {
   "cell_type": "markdown",
   "metadata": {},
   "source": [
    "## tuple() vs namedtuple()"
   ]
  },
  {
   "cell_type": "markdown",
   "metadata": {},
   "source": [
    "### tuple()"
   ]
  },
  {
   "cell_type": "code",
   "execution_count": 65,
   "metadata": {},
   "outputs": [
    {
     "name": "stdout",
     "output_type": "stream",
     "text": [
      "John은(는) 28 세의 남성 입니다.\n",
      "Sally은(는) 24 세의 여성 입니다.\n"
     ]
    }
   ],
   "source": [
    "r1 = ('John', 28, '남')\n",
    "r2 = ('Sally', 24, '여')\n",
    "for n in [r1, r2]:\n",
    "    print('%s은(는) %d 세의 %s성 입니다.' %n)"
   ]
  },
  {
   "cell_type": "code",
   "execution_count": null,
   "metadata": {},
   "outputs": [],
   "source": []
  },
  {
   "cell_type": "markdown",
   "metadata": {},
   "source": [
    "## namedtuple()"
   ]
  },
  {
   "cell_type": "code",
   "execution_count": 66,
   "metadata": {},
   "outputs": [],
   "source": [
    "from collections import namedtuple\n",
    "Person = namedtuple(\"Person\", \"name age gender\")"
   ]
  },
  {
   "cell_type": "code",
   "execution_count": 67,
   "metadata": {},
   "outputs": [],
   "source": [
    "# namedtuple?"
   ]
  },
  {
   "cell_type": "code",
   "execution_count": 68,
   "metadata": {},
   "outputs": [
    {
     "data": {
      "text/plain": [
       "Person(name='Jhon', age=28, gender='남')"
      ]
     },
     "execution_count": 68,
     "metadata": {},
     "output_type": "execute_result"
    }
   ],
   "source": [
    "r1 = Person('Jhon', 28, '남')\n",
    "r1"
   ]
  },
  {
   "cell_type": "code",
   "execution_count": 69,
   "metadata": {},
   "outputs": [
    {
     "name": "stdout",
     "output_type": "stream",
     "text": [
      "<class '__main__.Person'>\n"
     ]
    }
   ],
   "source": [
    "print(type(r1))"
   ]
  },
  {
   "cell_type": "code",
   "execution_count": null,
   "metadata": {},
   "outputs": [],
   "source": []
  },
  {
   "cell_type": "code",
   "execution_count": 70,
   "metadata": {},
   "outputs": [
    {
     "name": "stdout",
     "output_type": "stream",
     "text": [
      "Person(name='Jhon', age=28, gender='남')\n"
     ]
    }
   ],
   "source": [
    "print(r1)"
   ]
  },
  {
   "cell_type": "code",
   "execution_count": 71,
   "metadata": {},
   "outputs": [
    {
     "name": "stdout",
     "output_type": "stream",
     "text": [
      "Jhon 28 남\n"
     ]
    }
   ],
   "source": [
    "name, age, gender = r1\n",
    "print(name, age, gender)"
   ]
  },
  {
   "cell_type": "code",
   "execution_count": 72,
   "metadata": {},
   "outputs": [
    {
     "name": "stdout",
     "output_type": "stream",
     "text": [
      "Jhon\n"
     ]
    }
   ],
   "source": [
    "# attribute(속성, ==칼럼명)을 사용할수 있다\n",
    "print(r1.name) # 칼럼명을 사용해 값을 출력"
   ]
  },
  {
   "cell_type": "code",
   "execution_count": 73,
   "metadata": {},
   "outputs": [
    {
     "name": "stdout",
     "output_type": "stream",
     "text": [
      "Jhon\n"
     ]
    }
   ],
   "source": [
    "print(r1[0]) # index를 사용해 값을 출력"
   ]
  },
  {
   "cell_type": "code",
   "execution_count": 32,
   "metadata": {},
   "outputs": [],
   "source": [
    "r2 = Person(name='Sally', age=24, gender='여')"
   ]
  },
  {
   "cell_type": "code",
   "execution_count": 64,
   "metadata": {},
   "outputs": [
    {
     "name": "stdout",
     "output_type": "stream",
     "text": [
      "Jhon은(는) 28 세의 남성 입니다.\n",
      "Sally은(는) 28 세의 여성 입니다.\n"
     ]
    }
   ],
   "source": [
    "for n in [r1, r2]:\n",
    "    print('%s은(는) %d 세의 %s성 입니다.' %n)"
   ]
  },
  {
   "cell_type": "code",
   "execution_count": null,
   "metadata": {},
   "outputs": [],
   "source": []
  },
  {
   "cell_type": "code",
   "execution_count": 50,
   "metadata": {},
   "outputs": [
    {
     "name": "stdout",
     "output_type": "stream",
     "text": [
      "['name', ' age', ' title', ' department']\n",
      "['김길동', ' 25', ' 사원', ' 영업팀']\n",
      "['김수철', ' 40', ' 과장', ' 영업팀']\n",
      "['홍길수', ' 33', ' 대리', ' 인사팀 ']\n"
     ]
    }
   ],
   "source": [
    "import csv\n",
    " \n",
    "f = open('employees.csv', 'r', encoding='utf-8')\n",
    "rdr = csv.reader(f)\n",
    "for line in rdr:\n",
    "    print(line)\n",
    "f.close() "
   ]
  },
  {
   "cell_type": "code",
   "execution_count": 52,
   "metadata": {},
   "outputs": [],
   "source": [
    "import csv\n",
    "EmployeeRecord = namedtuple('EmployeeRecord', 'name, age, title, department')"
   ]
  },
  {
   "cell_type": "code",
   "execution_count": 53,
   "metadata": {},
   "outputs": [
    {
     "name": "stdout",
     "output_type": "stream",
     "text": [
      "name  title\n",
      "김길동  사원\n",
      "김수철  과장\n",
      "홍길수  대리\n"
     ]
    }
   ],
   "source": [
    "for emp in map(EmployeeRecord._make, csv.reader(open(\"employees.csv\",'r', encoding='utf-8'))):\n",
    "    print(emp.name, emp.title)"
   ]
  },
  {
   "cell_type": "code",
   "execution_count": 54,
   "metadata": {},
   "outputs": [],
   "source": [
    "f = open(\"employees.csv\",'r', encoding='utf-8')\n",
    "reader = csv.reader(f)"
   ]
  },
  {
   "cell_type": "code",
   "execution_count": 55,
   "metadata": {},
   "outputs": [
    {
     "data": {
      "text/plain": [
       "<_csv.reader at 0x1f6b213f358>"
      ]
     },
     "execution_count": 55,
     "metadata": {},
     "output_type": "execute_result"
    }
   ],
   "source": [
    "reader"
   ]
  },
  {
   "cell_type": "code",
   "execution_count": 56,
   "metadata": {},
   "outputs": [
    {
     "data": {
      "text/plain": [
       "\u001b[1;31mSignature:\u001b[0m \u001b[0mEmployeeRecord\u001b[0m\u001b[1;33m.\u001b[0m\u001b[0m_make\u001b[0m\u001b[1;33m(\u001b[0m\u001b[0miterable\u001b[0m\u001b[1;33m)\u001b[0m\u001b[1;33m\u001b[0m\u001b[1;33m\u001b[0m\u001b[0m\n",
       "\u001b[1;31mDocstring:\u001b[0m Make a new EmployeeRecord object from a sequence or iterable\n",
       "\u001b[1;31mFile:\u001b[0m      c:\\tools3\\miniconda3\\envs\\book\\lib\\collections\\__init__.py\n",
       "\u001b[1;31mType:\u001b[0m      method\n"
      ]
     },
     "metadata": {},
     "output_type": "display_data"
    }
   ],
   "source": [
    "EmployeeRecord._make?"
   ]
  },
  {
   "cell_type": "code",
   "execution_count": 57,
   "metadata": {},
   "outputs": [
    {
     "name": "stdout",
     "output_type": "stream",
     "text": [
      "name\n",
      "김길동\n",
      "김수철\n",
      "홍길수\n"
     ]
    }
   ],
   "source": [
    "for emp in map(EmployeeRecord._make, reader):\n",
    "    #print(emp)\n",
    "    print(emp.name) "
   ]
  },
  {
   "cell_type": "code",
   "execution_count": 58,
   "metadata": {},
   "outputs": [
    {
     "data": {
      "text/plain": [
       "__main__.EmployeeRecord"
      ]
     },
     "execution_count": 58,
     "metadata": {},
     "output_type": "execute_result"
    }
   ],
   "source": [
    "type(emp)"
   ]
  },
  {
   "cell_type": "code",
   "execution_count": 59,
   "metadata": {},
   "outputs": [],
   "source": [
    "f.close() "
   ]
  },
  {
   "cell_type": "code",
   "execution_count": null,
   "metadata": {},
   "outputs": [],
   "source": []
  },
  {
   "cell_type": "code",
   "execution_count": null,
   "metadata": {},
   "outputs": [],
   "source": [
    "# https://wikidocs.net/22803"
   ]
  },
  {
   "cell_type": "code",
   "execution_count": 61,
   "metadata": {},
   "outputs": [
    {
     "name": "stdout",
     "output_type": "stream",
     "text": [
      "<map object at 0x000001F6B2144088>\n"
     ]
    }
   ],
   "source": [
    "def add_1(n):\n",
    "      return n + 1\n",
    "\n",
    "target = [1, 2, 3, 4, 5]\n",
    "\n",
    "result = map(add_1, target)\n",
    "\n",
    "print(result) "
   ]
  },
  {
   "cell_type": "code",
   "execution_count": 62,
   "metadata": {},
   "outputs": [
    {
     "name": "stdout",
     "output_type": "stream",
     "text": [
      "[2, 3, 4, 5, 6]\n"
     ]
    }
   ],
   "source": [
    "print(list(result))"
   ]
  },
  {
   "cell_type": "code",
   "execution_count": null,
   "metadata": {},
   "outputs": [],
   "source": []
  }
 ],
 "metadata": {
  "kernelspec": {
   "display_name": "book",
   "language": "python",
   "name": "book"
  },
  "language_info": {
   "codemirror_mode": {
    "name": "ipython",
    "version": 3
   },
   "file_extension": ".py",
   "mimetype": "text/x-python",
   "name": "python",
   "nbconvert_exporter": "python",
   "pygments_lexer": "ipython3",
   "version": "3.7.9"
  }
 },
 "nbformat": 4,
 "nbformat_minor": 4
}
