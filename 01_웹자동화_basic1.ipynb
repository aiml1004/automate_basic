{
 "cells": [
  {
   "cell_type": "markdown",
   "metadata": {},
   "source": [
    "<!--BOOK_INFORMATION-->\n",
    "<img align=\"left\" style=\"padding-right:10px;\" src=\"figures/PDSH-cover-small.png\">\n",
    "\n",
    "*This notebook contains an excerpt from the [Python Business Automation Handbook](https://smartai1004.tistory.com/46?category=946283) by Smart ICT; \n",
    "the content is available [on GitHub](https://github.com/aiml1004/automate_basic).*\n",
    "\n",
    "*본 자료들을 무단 복제 , 배포하는 경우에는 저작권법 제97조의 저작재산권침해죄에 해당하여 저작권법에 의거 법적 조치에 처해질 수 있습니다.*\n",
    "*COPYRIGHT ⓒ 2020 SMART ICT ALL RIGHTS RESERVED.* \n",
    "\n",
    "*If you find this content useful, please consider supporting the work by [buying the book](https://kmong.com/gig/233618)!*"
   ]
  },
  {
   "cell_type": "markdown",
   "metadata": {},
   "source": [
    "<!--NAVIGATION-->\n",
    "< [Preface](00.00-Preface.ipynb) | [Contents](00_Index.ipynb) | [Help and Documentation in IPython](01.01-Help-And-Documentation.ipynb) >"
   ]
  },
  {
   "cell_type": "code",
   "execution_count": 1,
   "metadata": {},
   "outputs": [],
   "source": [
    "# https://brunch.co.kr/@jk-lab/19"
   ]
  },
  {
   "cell_type": "markdown",
   "metadata": {},
   "source": [
    "## import webdriver "
   ]
  },
  {
   "cell_type": "code",
   "execution_count": 1,
   "metadata": {},
   "outputs": [],
   "source": [
    "from selenium import webdriver\n",
    "driver = webdriver.Chrome('../chromedriver')"
   ]
  },
  {
   "cell_type": "markdown",
   "metadata": {},
   "source": [
    "### html 기본 알아보기"
   ]
  },
  {
   "cell_type": "code",
   "execution_count": 2,
   "metadata": {},
   "outputs": [],
   "source": [
    "# 01_hello.html 브라우저에서 파일 미리보기\n",
    "# 목적: 구조를 파악한다"
   ]
  },
  {
   "cell_type": "markdown",
   "metadata": {},
   "source": [
    "[html 기본](https://developer.mozilla.org/ko/docs/Learn/Getting_started_with_the_web/HTML_%EA%B8%B0%EB%B3%B8)"
   ]
  },
  {
   "cell_type": "code",
   "execution_count": 3,
   "metadata": {},
   "outputs": [],
   "source": [
    "# 01_hello.html 소스코드 보기"
   ]
  },
  {
   "cell_type": "markdown",
   "metadata": {},
   "source": [
    "[01_hello.html](01_hello.html)  \n",
    "[ul](https://developer.mozilla.org/ko/docs/Web/HTML/Element/ul) Unordered Lists  \n",
    "[a tag](https://developer.mozilla.org/ko/docs/Web/HTML/Element/a) anchor tag  "
   ]
  },
  {
   "cell_type": "code",
   "execution_count": null,
   "metadata": {},
   "outputs": [],
   "source": []
  },
  {
   "cell_type": "code",
   "execution_count": 4,
   "metadata": {},
   "outputs": [],
   "source": [
    "#C:/mylab/book/web_automation\n",
    "driver.get('file:///C:/mylab/book/web_automation/01_hello.html') #"
   ]
  },
  {
   "cell_type": "code",
   "execution_count": null,
   "metadata": {},
   "outputs": [],
   "source": []
  },
  {
   "cell_type": "code",
   "execution_count": null,
   "metadata": {},
   "outputs": [],
   "source": []
  },
  {
   "cell_type": "markdown",
   "metadata": {},
   "source": [
    "## list_type1을 가져오려면?"
   ]
  },
  {
   "cell_type": "raw",
   "metadata": {},
   "source": [
    "# 01_hello.html \"list_type1\"\n",
    "<ul class=\"list_type1\">    \n",
    "  <li>list_basic1</li>\n",
    "  <li>list_basic2</li>\n",
    "  <li>list_basic3</li>\n",
    "</ul>"
   ]
  },
  {
   "cell_type": "code",
   "execution_count": 5,
   "metadata": {},
   "outputs": [],
   "source": [
    "# driver.find_element_by_class_name?"
   ]
  },
  {
   "cell_type": "code",
   "execution_count": 6,
   "metadata": {},
   "outputs": [],
   "source": [
    "elem = driver.find_element_by_class_name('list_type1')"
   ]
  },
  {
   "cell_type": "code",
   "execution_count": 7,
   "metadata": {},
   "outputs": [],
   "source": [
    "li_list = elem.find_elements_by_tag_name('li')"
   ]
  },
  {
   "cell_type": "code",
   "execution_count": 8,
   "metadata": {},
   "outputs": [
    {
     "name": "stdout",
     "output_type": "stream",
     "text": [
      "list_basic1\n",
      "list_basic2\n",
      "list_basic3\n"
     ]
    }
   ],
   "source": [
    "for li in li_list:\n",
    "    print(li.text)"
   ]
  },
  {
   "cell_type": "code",
   "execution_count": null,
   "metadata": {},
   "outputs": [],
   "source": []
  },
  {
   "cell_type": "markdown",
   "metadata": {},
   "source": [
    "## list_type2을 가져 오려면?"
   ]
  },
  {
   "cell_type": "raw",
   "metadata": {},
   "source": [
    "# 01_hello.html \"list_type1\"\n",
    "<div class=\"ad_area\" id=\"element_id\">\n",
    "    <ul class=\"list_type2\">    \n",
    "        <li class=\"list1\"> <a href=\"http://zzzz.co.kr/\">업체명1</a></li>\n",
    "        <li class=\"list2\"> <a href=\"http://xxxx.co.kr/\">업체명2</a></li>\n",
    "        <li class=\"list3\"> <a href=\"http://yyyy.co.kr/\">업체명3</a></li>\n",
    "    </ul>\n",
    "</div>"
   ]
  },
  {
   "cell_type": "code",
   "execution_count": 9,
   "metadata": {},
   "outputs": [],
   "source": [
    "elem = driver.find_element_by_id('element_id')"
   ]
  },
  {
   "cell_type": "code",
   "execution_count": 10,
   "metadata": {},
   "outputs": [],
   "source": [
    "li_list = elem.find_elements_by_tag_name('li')"
   ]
  },
  {
   "cell_type": "code",
   "execution_count": 11,
   "metadata": {},
   "outputs": [
    {
     "name": "stdout",
     "output_type": "stream",
     "text": [
      "http://zzzz.co.kr/\n",
      "업체명1\n",
      "----------\n",
      "http://xxxx.co.kr/\n",
      "업체명2\n",
      "----------\n",
      "http://yyyy.co.kr/\n",
      "업체명3\n",
      "----------\n"
     ]
    }
   ],
   "source": [
    "for li in li_list:\n",
    "    #inner_list = li.find_elements_by_class_name('inner')\n",
    "    a_tag = li.find_element_by_tag_name('a') \n",
    "    link = a_tag.get_attribute('href')\n",
    "    print(link)\n",
    "    print(a_tag.text)\n",
    "    print('-'*10)"
   ]
  },
  {
   "cell_type": "code",
   "execution_count": null,
   "metadata": {},
   "outputs": [],
   "source": []
  },
  {
   "cell_type": "markdown",
   "metadata": {},
   "source": [
    "## 문서의 모든 li tag의 text를 가져오려면?"
   ]
  },
  {
   "cell_type": "code",
   "execution_count": 12,
   "metadata": {},
   "outputs": [],
   "source": [
    "# 문서의 모든 li tag의 text를 가져오려면?\n",
    "li_list0 = driver.find_elements_by_tag_name('li')"
   ]
  },
  {
   "cell_type": "code",
   "execution_count": 13,
   "metadata": {},
   "outputs": [
    {
     "name": "stdout",
     "output_type": "stream",
     "text": [
      "list_basic1\n",
      "list_basic2\n",
      "list_basic3\n",
      "업체명1\n",
      "업체명2\n",
      "업체명3\n"
     ]
    }
   ],
   "source": [
    "for li in li_list0:\n",
    "    print(li.text)"
   ]
  },
  {
   "cell_type": "code",
   "execution_count": null,
   "metadata": {},
   "outputs": [],
   "source": []
  },
  {
   "cell_type": "markdown",
   "metadata": {},
   "source": [
    "## driver.quit()"
   ]
  },
  {
   "cell_type": "code",
   "execution_count": 14,
   "metadata": {},
   "outputs": [],
   "source": [
    "driver.quit()"
   ]
  },
  {
   "cell_type": "code",
   "execution_count": null,
   "metadata": {},
   "outputs": [],
   "source": []
  }
 ],
 "metadata": {
  "kernelspec": {
   "display_name": "book",
   "language": "python",
   "name": "book"
  },
  "language_info": {
   "codemirror_mode": {
    "name": "ipython",
    "version": 3
   },
   "file_extension": ".py",
   "mimetype": "text/x-python",
   "name": "python",
   "nbconvert_exporter": "python",
   "pygments_lexer": "ipython3",
   "version": "3.6.12"
  },
  "toc": {
   "base_numbering": 1,
   "nav_menu": {},
   "number_sections": true,
   "sideBar": true,
   "skip_h1_title": false,
   "title_cell": "Table of Contents",
   "title_sidebar": "Contents",
   "toc_cell": false,
   "toc_position": {
    "height": "calc(100% - 180px)",
    "left": "10px",
    "top": "150px",
    "width": "255px"
   },
   "toc_section_display": true,
   "toc_window_display": true
  }
 },
 "nbformat": 4,
 "nbformat_minor": 4
}
